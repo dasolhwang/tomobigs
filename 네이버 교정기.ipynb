{
 "cells": [
  {
   "cell_type": "code",
   "execution_count": 1,
   "metadata": {
    "collapsed": true
   },
   "outputs": [],
   "source": [
    "import urllib.request\n",
    "import urllib.parse\n",
    "import numpy as np\n",
    "import json"
   ]
  },
  {
   "cell_type": "code",
   "execution_count": 2,
   "metadata": {
    "collapsed": false
   },
   "outputs": [
    {
     "data": {
      "text/plain": [
       "['.ipynb_checkpoints', 'err_idx_reple.csv', 'spell_check.csv', '네이버 교정기.ipynb']"
      ]
     },
     "execution_count": 2,
     "metadata": {},
     "output_type": "execute_result"
    }
   ],
   "source": [
    "import os\n",
    "os.listdir(os.getcwd())"
   ]
  },
  {
   "cell_type": "code",
   "execution_count": 3,
   "metadata": {
    "collapsed": false
   },
   "outputs": [
    {
     "data": {
      "text/plain": [
       "['20132', '무슨 이준 팬클럽만 모였나? ㅋㅋㅋㅋ 이 영화는 유해진 땜에 보는 거다. 유해진 아니면 사실 볼 필요 없음  ']"
      ]
     },
     "execution_count": 3,
     "metadata": {},
     "output_type": "execute_result"
    }
   ],
   "source": [
    "import csv\n",
    "import pandas as pd\n",
    "exampleFile = open('spell_check.csv')\n",
    "exampleReader = csv.reader(exampleFile)\n",
    "exampleData = list(exampleReader)\n",
    "exampleData[20133]"
   ]
  },
  {
   "cell_type": "code",
   "execution_count": 4,
   "metadata": {
    "collapsed": true
   },
   "outputs": [],
   "source": [
    "naver=\"https://m.search.naver.com/p/csearch/dcontent/spellchecker.nhn?_callback=window.__jindo2_callback._spellingCheck_0&q=\""
   ]
  },
  {
   "cell_type": "code",
   "execution_count": null,
   "metadata": {
    "collapsed": false,
    "scrolled": true
   },
   "outputs": [
    {
     "name": "stdout",
     "output_type": "stream",
     "text": [
      "20000\n",
      "20001\n",
      "20002\n",
      "20003\n",
      "20004\n",
      "20005\n",
      "20006\n",
      "20007\n",
      "20008\n",
      "20009\n",
      "20010\n",
      "20011\n",
      "20012\n",
      "20013\n",
      "20014\n",
      "20015\n",
      "20016\n",
      "20017\n",
      "20018\n",
      "20019\n",
      "20020\n",
      "20021\n",
      "20022\n",
      "20023\n",
      "20024\n",
      "20025\n",
      "20026\n",
      "20027\n",
      "20028\n",
      "20029\n",
      "20030\n",
      "20031\n",
      "20032\n",
      "20033\n",
      "20034\n",
      "20035\n",
      "20036\n",
      "20037\n",
      "20038\n",
      "20039\n",
      "20040\n",
      "20041\n",
      "20042\n",
      "20043\n",
      "20044\n",
      "20045\n"
     ]
    }
   ],
   "source": [
    "data = list()\n",
    "err_idx = list()\n",
    "\n",
    "for i in range(20000, 40001):\n",
    "    encode={\"q\":exampleData[i]}\n",
    "    url=naver+urllib.parse.urlencode(encode)\n",
    "    url_read = urllib.request.urlopen(url).read()\n",
    "    text = url_read.decode(\"utf-8\")\n",
    "    json_string =text.replace('window.__jindo2_callback._spellingCheck_0(','').replace(');','')\n",
    "    \n",
    "    try:    \n",
    "        result=json.loads(json_string)\n",
    "    \n",
    "    except Exception as ex:\n",
    "        err_idx.append(i)        \n",
    "    \n",
    "    \n",
    "    data.append(result)\n",
    "    print(i)"
   ]
  },
  {
   "cell_type": "code",
   "execution_count": 21,
   "metadata": {
    "collapsed": true
   },
   "outputs": [],
   "source": [
    "data2 = np.array(data)"
   ]
  },
  {
   "cell_type": "code",
   "execution_count": 22,
   "metadata": {
    "collapsed": false
   },
   "outputs": [
    {
     "data": {
      "text/plain": [
       "(21518, 1)"
      ]
     },
     "execution_count": 22,
     "metadata": {},
     "output_type": "execute_result"
    }
   ],
   "source": [
    "data2.shape"
   ]
  },
  {
   "cell_type": "code",
   "execution_count": 30,
   "metadata": {
    "collapsed": true
   },
   "outputs": [],
   "source": [
    "f=open('tmptmp.txt',mode='w',encoding='utf-8')\n",
    "for i in range(21518):\n",
    "    tmp=str(data2[i]).replace(',','').replace('&#39;','')+'\\n'\n",
    "    f.write(tmp)\n",
    "f.close()"
   ]
  },
  {
   "cell_type": "code",
   "execution_count": 38,
   "metadata": {
    "collapsed": false
   },
   "outputs": [
    {
     "data": {
      "text/plain": [
       "array([ {'message': {'@type': 'response', '@service': 'DBSearchSpellchecker', '@version': '1.1.0', 'result': {'errata_count': 3, 'html': \"<span class='re_green'>q=BEST 강동원</span> 너 나오면 꼭 <span class='re_green'>보러 가는 거</span> 알지????최소 <span class='re_green'>다섯 번</span>  \"}}}], dtype=object)"
      ]
     },
     "execution_count": 38,
     "metadata": {},
     "output_type": "execute_result"
    }
   ],
   "source": [
    "data2[1]"
   ]
  },
  {
   "cell_type": "code",
   "execution_count": null,
   "metadata": {
    "collapsed": true
   },
   "outputs": [],
   "source": []
  }
 ],
 "metadata": {
  "anaconda-cloud": {},
  "kernelspec": {
   "display_name": "Python [default]",
   "language": "python",
   "name": "python3"
  },
  "language_info": {
   "codemirror_mode": {
    "name": "ipython",
    "version": 3
   },
   "file_extension": ".py",
   "mimetype": "text/x-python",
   "name": "python",
   "nbconvert_exporter": "python",
   "pygments_lexer": "ipython3",
   "version": "3.5.2"
  }
 },
 "nbformat": 4,
 "nbformat_minor": 2
}
