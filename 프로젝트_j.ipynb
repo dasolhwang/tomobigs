{
 "cells": [
  {
   "cell_type": "code",
   "execution_count": 1,
   "metadata": {
    "collapsed": true
   },
   "outputs": [],
   "source": [
    "from os import chdir  # 작업 위치를 바꾸기 위한 헤드\n",
    "chdir('C:\\\\Users\\\\ells2\\\\Documents\\\\project') # 작업 위치 변경\n",
    "\n",
    "import sys,os\n",
    "sys.path.append(os.pardir)"
   ]
  },
  {
   "cell_type": "code",
   "execution_count": 2,
   "metadata": {
    "collapsed": true
   },
   "outputs": [],
   "source": [
    "import pandas as pd\n",
    "import numpy as np"
   ]
  },
  {
   "cell_type": "code",
   "execution_count": 105,
   "metadata": {
    "collapsed": false,
    "scrolled": true
   },
   "outputs": [],
   "source": [
    "review = pd.read_csv(\"project_review.csv\",encoding='cp949')"
   ]
  },
  {
   "cell_type": "code",
   "execution_count": 106,
   "metadata": {
    "collapsed": false
   },
   "outputs": [],
   "source": [
    "score = pd.read_csv(\"project_score.csv\",encoding='cp949')\n",
    "del score[\"개봉년도\"]\n",
    "del score[\"개봉월\"]\n",
    "del score[\"개봉일\"]\n",
    "del score[\"런타임\"]"
   ]
  },
  {
   "cell_type": "markdown",
   "metadata": {},
   "source": [
    "# 리뷰 인덱스 맞추기"
   ]
  },
  {
   "cell_type": "code",
   "execution_count": 107,
   "metadata": {
    "collapsed": false,
    "scrolled": true
   },
   "outputs": [],
   "source": [
    "score = score.sort_values(by=\"title\")\n",
    "score = score.reset_index()\n",
    "del score['index']"
   ]
  },
  {
   "cell_type": "code",
   "execution_count": 108,
   "metadata": {
    "collapsed": false
   },
   "outputs": [],
   "source": [
    "score['등급'] = score['등급'].fillna(\"전체\")"
   ]
  },
  {
   "cell_type": "markdown",
   "metadata": {},
   "source": [
    "# 스코어 전처리"
   ]
  },
  {
   "cell_type": "code",
   "execution_count": 110,
   "metadata": {
    "collapsed": true
   },
   "outputs": [],
   "source": [
    "def replacing(m):\n",
    "    m = m.replace(\"[\",\"\")\n",
    "    m = m.replace(\"'\",\"\")\n",
    "    m = m.replace(\"]\",\"\")\n",
    "    s = m.split(',')\n",
    "    a = [t.strip() for t in s]\n",
    "    return a"
   ]
  },
  {
   "cell_type": "code",
   "execution_count": 116,
   "metadata": {
    "collapsed": false
   },
   "outputs": [],
   "source": [
    "def prepro(score):\n",
    "    genre = score[\"장르\"]\n",
    "    genre_re = [replacing(r) for r in genre]\n",
    "    genre_unique = np.unique([b for a in genre_re for b in a])[1:]\n",
    "    result = []\n",
    "    for b in genre_re:\n",
    "        d=[]\n",
    "        for a in genre_unique:\n",
    "            d.append(int(a in b))\n",
    "        result.append(d)\n",
    "    genre_dummy = pd.DataFrame(result,columns=genre_unique)\n",
    "    #\n",
    "    age_dummy = pd.get_dummies(score[\"등급\"],drop_first=True)\n",
    "    \n",
    "    return(pd.concat([score,genre_dummy,age_dummy],axis=1))"
   ]
  },
  {
   "cell_type": "code",
   "execution_count": 118,
   "metadata": {
    "collapsed": false
   },
   "outputs": [],
   "source": [
    "score_pre = prepro(score)"
   ]
  },
  {
   "cell_type": "code",
   "execution_count": 120,
   "metadata": {
    "collapsed": false
   },
   "outputs": [],
   "source": [
    "del score_pre['장르']\n",
    "del score_pre['등급']"
   ]
  },
  {
   "cell_type": "markdown",
   "metadata": {},
   "source": [
    "# 리뷰 변수화"
   ]
  },
  {
   "cell_type": "markdown",
   "metadata": {},
   "source": [
    "## 필요없는거 빼기"
   ]
  },
  {
   "cell_type": "code",
   "execution_count": 11,
   "metadata": {
    "collapsed": true
   },
   "outputs": [],
   "source": [
    "def tagged_to_list(a):\n",
    "    a = a.replace('\\'','')\n",
    "    a = a.replace('[','')\n",
    "    a = a.replace(']','')\n",
    "    a = a.replace(' ','')\n",
    "    return a"
   ]
  },
  {
   "cell_type": "code",
   "execution_count": null,
   "metadata": {
    "collapsed": true
   },
   "outputs": [],
   "source": [
    "def stopwords(word,stops):\n",
    "    for i in range(len(stops)):\n",
    "        if stops[i] in word:\n",
    "            word = word.replace(stops[i],'m')\n",
    "    return(word)"
   ]
  },
  {
   "cell_type": "code",
   "execution_count": null,
   "metadata": {
    "collapsed": true
   },
   "outputs": [],
   "source": [
    "stops = ['최승현','차승원','소지섭','서인국','박서준','이선균','신세경','박재범','류승룡','재범','유승호','재범','윤계상',\n",
    "'손현주','여진구','심은경','송혜교','설리','박유천','최민식','조진웅','성동일','최강희','김혜수','봉준호','이제훈',\n",
    "'이민호','임창정','오달수','신하균','이준기','김래원','이정재','송중기','정재영','조승우','손예진','임시완','한석규','김남길','클라라',\n",
    "'류준열','박보영','조정석','김명민','박해일','유아인','하지원','김우빈','정우성','차태현','현빈','김윤석','김수현','도경수',\n",
    "'이종석','황정민','설경구','심형래','이병헌','마동석','하정우','강동원','한효주']"
   ]
  },
  {
   "cell_type": "code",
   "execution_count": 34,
   "metadata": {
    "collapsed": false
   },
   "outputs": [],
   "source": [
    "def pos_pop(sentence):\n",
    "    temp = []\n",
    "    for i in range(len(sentence)):\n",
    "        if 'Josa' in sentence[i]:\n",
    "            continue\n",
    "        if 'Punctuation' in sentence[i]:\n",
    "            continue\n",
    "        if 'Alpha' in sentence[i]:\n",
    "            continue\n",
    "        if 'Determiner' in sentence[i]:\n",
    "            continue\n",
    "        if 'Suffix' in sentence[i]:\n",
    "            continue\n",
    "        if 'Eomi' in sentence[i]:\n",
    "            continue\n",
    "        if len(sentence[i].split('/')[0]) < 2:\n",
    "            continue\n",
    "        temp.append(sentence[i])\n",
    "    return(temp)"
   ]
  },
  {
   "cell_type": "code",
   "execution_count": null,
   "metadata": {
    "collapsed": true
   },
   "outputs": [],
   "source": [
    "pos_list_st = [stopwords(a,stops) for a in pos_list]\n",
    "pos_list_s = [b.split(',') for b in pos_list_st]\n",
    "postagged_pp = [pos_pop(s) for s in pos_list_s]"
   ]
  },
  {
   "cell_type": "code",
   "execution_count": 35,
   "metadata": {
    "collapsed": false
   },
   "outputs": [],
   "source": [
    "postagged_pop = [pos_pop(s) for s in pos_list_s]"
   ]
  },
  {
   "cell_type": "code",
   "execution_count": 36,
   "metadata": {
    "collapsed": true
   },
   "outputs": [],
   "source": [
    "review['pop'] = postagged_pop"
   ]
  },
  {
   "cell_type": "markdown",
   "metadata": {},
   "source": [
    "## 키워드 세기"
   ]
  },
  {
   "cell_type": "code",
   "execution_count": 37,
   "metadata": {
    "collapsed": true
   },
   "outputs": [],
   "source": [
    "movie_name = np.unique(review['id'])"
   ]
  },
  {
   "cell_type": "code",
   "execution_count": 58,
   "metadata": {
    "collapsed": true
   },
   "outputs": [],
   "source": [
    "def each_movie_word(review,movie_name):\n",
    "    temp_movie = review[review['id']==movie_name]['pop']\n",
    "    keyword = Counter([i for item in temp_movie for i in item])\n",
    "    return keyword"
   ]
  },
  {
   "cell_type": "code",
   "execution_count": 93,
   "metadata": {
    "collapsed": true
   },
   "outputs": [],
   "source": [
    "from collections import Counter\n",
    "import operator\n",
    "#전체 키워드 모으기\n",
    "keyword_cnt = Counter([i for item in review['pop'] for i in item])\n",
    "keyword_clip = sorted(keyword_cnt.items(), key=operator.itemgetter(1))[-1000:]"
   ]
  },
  {
   "cell_type": "markdown",
   "metadata": {},
   "source": [
    "##  리뷰 변수화"
   ]
  },
  {
   "cell_type": "code",
   "execution_count": 95,
   "metadata": {
    "collapsed": false
   },
   "outputs": [],
   "source": [
    "movie_coef = []\n",
    "for i in range(len(movie_name)):\n",
    "    movie_count = each_movie_word(review,movie_name[i])\n",
    "    movie_count_keys = list(movie_count.keys())\n",
    "    temp = []\n",
    "    for j in range(len(keyword_clip)):\n",
    "        if keyword_clip[j][0] in movie_count_keys:\n",
    "            temp.append(movie_count[keyword_clip[j][0]])\n",
    "        else:\n",
    "            temp.append(0)\n",
    "    movie_coef.append(temp)"
   ]
  },
  {
   "cell_type": "code",
   "execution_count": 96,
   "metadata": {
    "collapsed": true
   },
   "outputs": [],
   "source": [
    "keyword_count = list(dict(keyword_clip).values())\n",
    "keyword_name = dict(keyword_clip).keys()"
   ]
  },
  {
   "cell_type": "code",
   "execution_count": 97,
   "metadata": {
    "collapsed": false
   },
   "outputs": [],
   "source": [
    "movie_word_count = pd.DataFrame(movie_coef)\n",
    "movie_word_count.columns = keyword_name\n",
    "movie_word_count['movie_list'] = movie_name"
   ]
  },
  {
   "cell_type": "code",
   "execution_count": 98,
   "metadata": {
    "collapsed": false
   },
   "outputs": [],
   "source": [
    "all_movie_df = pd.DataFrame(np.array(movie_coef) / np.array(keyword_count))\n",
    "all_movie_df.columns = keyword_name\n",
    "all_movie_df['movie_list'] = movie_name"
   ]
  },
  {
   "cell_type": "markdown",
   "metadata": {},
   "source": [
    "## 합치기"
   ]
  },
  {
   "cell_type": "code",
   "execution_count": 121,
   "metadata": {
    "collapsed": false
   },
   "outputs": [],
   "source": [
    "score_fin = pd.concat([score_pre,all_movie_df],axis=1)"
   ]
  },
  {
   "cell_type": "code",
   "execution_count": 122,
   "metadata": {
    "collapsed": false
   },
   "outputs": [],
   "source": [
    "del score_fin['movie_list']"
   ]
  },
  {
   "cell_type": "markdown",
   "metadata": {},
   "source": [
    "score_fin.to_csv('dasolabutaghe.csv')"
   ]
  },
  {
   "cell_type": "markdown",
   "metadata": {},
   "source": [
    " #  분석"
   ]
  },
  {
   "cell_type": "code",
   "execution_count": 124,
   "metadata": {
    "collapsed": true
   },
   "outputs": [],
   "source": [
    "from sklearn.model_selection import train_test_split\n",
    "from sklearn.linear_model import LogisticRegression"
   ]
  },
  {
   "cell_type": "code",
   "execution_count": 125,
   "metadata": {
    "collapsed": true
   },
   "outputs": [],
   "source": [
    "from sklearn.metrics import f1_score\n",
    "from sklearn.metrics import recall_score\n",
    "from sklearn.metrics import precision_score"
   ]
  },
  {
   "cell_type": "code",
   "execution_count": 129,
   "metadata": {
    "collapsed": false
   },
   "outputs": [],
   "source": [
    "f1s = []\n",
    "acc = []\n",
    "recall = []\n",
    "prec = []\n",
    "for i in range(10):\n",
    "    X_train, X_test, y_train, y_test = train_test_split(score_fin.drop([\"y\",\"title\"],axis=1),score_fin[\"y\"],test_size=0.1)\n",
    "    linear = LogisticRegression()\n",
    "    linear.fit(X_train,y_train)\n",
    "    acc.append(linear.score(X_test,y_test))\n",
    "    f1s.append(f1_score(y_test,linear.predict(X_test)))\n",
    "    recall.append(recall_score(y_test,linear.predict(X_test)))\n",
    "    prec.append(precision_score(y_test,linear.predict(X_test)))"
   ]
  },
  {
   "cell_type": "code",
   "execution_count": 130,
   "metadata": {
    "collapsed": false
   },
   "outputs": [
    {
     "data": {
      "text/html": [
       "<div>\n",
       "<table border=\"1\" class=\"dataframe\">\n",
       "  <thead>\n",
       "    <tr style=\"text-align: right;\">\n",
       "      <th></th>\n",
       "      <th>0</th>\n",
       "      <th>1</th>\n",
       "      <th>2</th>\n",
       "      <th>3</th>\n",
       "      <th>4</th>\n",
       "      <th>5</th>\n",
       "      <th>6</th>\n",
       "      <th>7</th>\n",
       "      <th>8</th>\n",
       "      <th>9</th>\n",
       "    </tr>\n",
       "  </thead>\n",
       "  <tbody>\n",
       "    <tr>\n",
       "      <th>f1</th>\n",
       "      <td>0.523810</td>\n",
       "      <td>0.421053</td>\n",
       "      <td>0.418605</td>\n",
       "      <td>0.242424</td>\n",
       "      <td>0.465116</td>\n",
       "      <td>0.400000</td>\n",
       "      <td>0.347826</td>\n",
       "      <td>0.222222</td>\n",
       "      <td>0.409091</td>\n",
       "      <td>0.222222</td>\n",
       "    </tr>\n",
       "    <tr>\n",
       "      <th>acc</th>\n",
       "      <td>0.881657</td>\n",
       "      <td>0.869822</td>\n",
       "      <td>0.852071</td>\n",
       "      <td>0.852071</td>\n",
       "      <td>0.863905</td>\n",
       "      <td>0.893491</td>\n",
       "      <td>0.822485</td>\n",
       "      <td>0.834320</td>\n",
       "      <td>0.846154</td>\n",
       "      <td>0.834320</td>\n",
       "    </tr>\n",
       "    <tr>\n",
       "      <th>recall</th>\n",
       "      <td>0.423077</td>\n",
       "      <td>0.285714</td>\n",
       "      <td>0.290323</td>\n",
       "      <td>0.160000</td>\n",
       "      <td>0.344828</td>\n",
       "      <td>0.260870</td>\n",
       "      <td>0.242424</td>\n",
       "      <td>0.137931</td>\n",
       "      <td>0.281250</td>\n",
       "      <td>0.129032</td>\n",
       "    </tr>\n",
       "    <tr>\n",
       "      <th>precision</th>\n",
       "      <td>0.687500</td>\n",
       "      <td>0.800000</td>\n",
       "      <td>0.750000</td>\n",
       "      <td>0.500000</td>\n",
       "      <td>0.714286</td>\n",
       "      <td>0.857143</td>\n",
       "      <td>0.615385</td>\n",
       "      <td>0.571429</td>\n",
       "      <td>0.750000</td>\n",
       "      <td>0.800000</td>\n",
       "    </tr>\n",
       "  </tbody>\n",
       "</table>\n",
       "</div>"
      ],
      "text/plain": [
       "                  0         1         2         3         4         5  \\\n",
       "f1         0.523810  0.421053  0.418605  0.242424  0.465116  0.400000   \n",
       "acc        0.881657  0.869822  0.852071  0.852071  0.863905  0.893491   \n",
       "recall     0.423077  0.285714  0.290323  0.160000  0.344828  0.260870   \n",
       "precision  0.687500  0.800000  0.750000  0.500000  0.714286  0.857143   \n",
       "\n",
       "                  6         7         8         9  \n",
       "f1         0.347826  0.222222  0.409091  0.222222  \n",
       "acc        0.822485  0.834320  0.846154  0.834320  \n",
       "recall     0.242424  0.137931  0.281250  0.129032  \n",
       "precision  0.615385  0.571429  0.750000  0.800000  "
      ]
     },
     "execution_count": 130,
     "metadata": {},
     "output_type": "execute_result"
    }
   ],
   "source": [
    "pd.DataFrame([f1s ,acc , recall,prec],index=['f1','acc','recall','precision'])"
   ]
  },
  {
   "cell_type": "code",
   "execution_count": 132,
   "metadata": {
    "collapsed": false
   },
   "outputs": [
    {
     "data": {
      "text/plain": [
       "0.36723687685371476"
      ]
     },
     "execution_count": 132,
     "metadata": {},
     "output_type": "execute_result"
    }
   ],
   "source": [
    "np.mean(f1s)"
   ]
  },
  {
   "cell_type": "code",
   "execution_count": 133,
   "metadata": {
    "collapsed": false
   },
   "outputs": [
    {
     "data": {
      "text/plain": [
       "0.85502958579881638"
      ]
     },
     "execution_count": 133,
     "metadata": {},
     "output_type": "execute_result"
    }
   ],
   "source": [
    "np.mean(acc)"
   ]
  },
  {
   "cell_type": "code",
   "execution_count": 134,
   "metadata": {
    "collapsed": false
   },
   "outputs": [
    {
     "data": {
      "text/plain": [
       "0.25554484758321749"
      ]
     },
     "execution_count": 134,
     "metadata": {},
     "output_type": "execute_result"
    }
   ],
   "source": [
    "np.mean(recall)"
   ]
  },
  {
   "cell_type": "code",
   "execution_count": 135,
   "metadata": {
    "collapsed": false
   },
   "outputs": [
    {
     "data": {
      "text/plain": [
       "0.70457417582417581"
      ]
     },
     "execution_count": 135,
     "metadata": {},
     "output_type": "execute_result"
    }
   ],
   "source": [
    "np.mean(prec)"
   ]
  }
 ],
 "metadata": {
  "anaconda-cloud": {},
  "kernelspec": {
   "display_name": "Python [default]",
   "language": "python",
   "name": "python3"
  },
  "language_info": {
   "codemirror_mode": {
    "name": "ipython",
    "version": 3
   },
   "file_extension": ".py",
   "mimetype": "text/x-python",
   "name": "python",
   "nbconvert_exporter": "python",
   "pygments_lexer": "ipython3",
   "version": "3.5.2"
  }
 },
 "nbformat": 4,
 "nbformat_minor": 1
}
