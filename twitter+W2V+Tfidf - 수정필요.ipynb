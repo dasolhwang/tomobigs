{
 "cells": [
  {
   "cell_type": "code",
   "execution_count": 25,
   "metadata": {
    "collapsed": true
   },
   "outputs": [],
   "source": [
    "import pandas as pd\n",
    "\n",
    "data = pd.read_csv(\"review_final.csv\", encoding=\"cp949\")"
   ]
  },
  {
   "cell_type": "code",
   "execution_count": 29,
   "metadata": {
    "collapsed": false
   },
   "outputs": [
    {
     "data": {
      "text/html": [
       "<div>\n",
       "<table border=\"1\" class=\"dataframe\">\n",
       "  <thead>\n",
       "    <tr style=\"text-align: right;\">\n",
       "      <th></th>\n",
       "      <th>bad</th>\n",
       "      <th>good</th>\n",
       "      <th>reple</th>\n",
       "      <th>score</th>\n",
       "      <th>movie</th>\n",
       "      <th>y</th>\n",
       "    </tr>\n",
       "  </thead>\n",
       "  <tbody>\n",
       "    <tr>\n",
       "      <th>0</th>\n",
       "      <td>126</td>\n",
       "      <td>1427</td>\n",
       "      <td>강동원 너 나오면 꼭 보러가는거 알지????최소 다섯번</td>\n",
       "      <td>10</td>\n",
       "      <td>검사외전</td>\n",
       "      <td>1</td>\n",
       "    </tr>\n",
       "    <tr>\n",
       "      <th>1</th>\n",
       "      <td>48</td>\n",
       "      <td>1065</td>\n",
       "      <td>강동원, 황정민, 이성민. 티켓파워는 걱정없고 영화만 잘 빠지면 백퍼 흥행한다</td>\n",
       "      <td>10</td>\n",
       "      <td>검사외전</td>\n",
       "      <td>1</td>\n",
       "    </tr>\n",
       "    <tr>\n",
       "      <th>2</th>\n",
       "      <td>46</td>\n",
       "      <td>867</td>\n",
       "      <td>황정민 이번작품도 기대하겠습니다!!</td>\n",
       "      <td>10</td>\n",
       "      <td>검사외전</td>\n",
       "      <td>1</td>\n",
       "    </tr>\n",
       "    <tr>\n",
       "      <th>3</th>\n",
       "      <td>43</td>\n",
       "      <td>722</td>\n",
       "      <td>황정민 이번 영화 다들 장난 아닌듯</td>\n",
       "      <td>10</td>\n",
       "      <td>검사외전</td>\n",
       "      <td>1</td>\n",
       "    </tr>\n",
       "    <tr>\n",
       "      <th>4</th>\n",
       "      <td>53</td>\n",
       "      <td>689</td>\n",
       "      <td>동원오빠 훌륭한연기 기대할게요! 응원합니다!</td>\n",
       "      <td>10</td>\n",
       "      <td>검사외전</td>\n",
       "      <td>1</td>\n",
       "    </tr>\n",
       "  </tbody>\n",
       "</table>\n",
       "</div>"
      ],
      "text/plain": [
       "   bad  good                                          reple  score movie  y\n",
       "0  126  1427               강동원 너 나오면 꼭 보러가는거 알지????최소 다섯번       10  검사외전  1\n",
       "1   48  1065  강동원, 황정민, 이성민. 티켓파워는 걱정없고 영화만 잘 빠지면 백퍼 흥행한다       10  검사외전  1\n",
       "2   46   867                          황정민 이번작품도 기대하겠습니다!!       10  검사외전  1\n",
       "3   43   722                          황정민 이번 영화 다들 장난 아닌듯       10  검사외전  1\n",
       "4   53   689                     동원오빠 훌륭한연기 기대할게요! 응원합니다!       10  검사외전  1"
      ]
     },
     "execution_count": 29,
     "metadata": {},
     "output_type": "execute_result"
    }
   ],
   "source": [
    "data = data.drop(\"Unnamed: 0\", axis=1)\n",
    "data.head(5)"
   ]
  },
  {
   "cell_type": "code",
   "execution_count": 28,
   "metadata": {
    "collapsed": true
   },
   "outputs": [],
   "source": [
    "import re\n",
    "data[\"reple\"] = [i.replace(\"BEST\",\"\") for i in data[\"reple\"]]"
   ]
  },
  {
   "cell_type": "code",
   "execution_count": 30,
   "metadata": {
    "collapsed": true
   },
   "outputs": [],
   "source": [
    "positive = data[data[\"y\"]==1]\n",
    "negative = data[data[\"y\"]==0]"
   ]
  },
  {
   "cell_type": "code",
   "execution_count": 33,
   "metadata": {
    "collapsed": false
   },
   "outputs": [],
   "source": [
    "from konlpy.tag import Twitter\n",
    "twitter = Twitter()"
   ]
  },
  {
   "cell_type": "code",
   "execution_count": 168,
   "metadata": {
    "collapsed": true
   },
   "outputs": [],
   "source": [
    "def token_word(line):    \n",
    "    hangul = re.compile('[^ㄱ-ㅣ가-힣]+') # 한글과 띄어쓰기를 제외한 모든 글자\n",
    "    # hangul = re.compile('[^ \\u3131-\\u3163\\uac00-\\ud7a3]+')  # 위와 동일\n",
    "    result = hangul.sub(' ', line) # 한글과 띄어쓰기를 제외한 모든 부분을 제거\n",
    "    \n",
    "    return result"
   ]
  },
  {
   "cell_type": "code",
   "execution_count": 1,
   "metadata": {
    "collapsed": false
   },
   "outputs": [],
   "source": [
    "reple = [k for k in positive[\"reple\"]]\n",
    "reple = [token_word(k) for k in reple]\n",
    "positive[\"reple\"] = reple\n",
    "\n",
    "reple = [k for k in negative[\"reple\"]]\n",
    "reple = [token_word(k) for k in reple]\n",
    "negative[\"reple\"] = reple"
   ]
  },
  {
   "cell_type": "code",
   "execution_count": 38,
   "metadata": {
    "collapsed": false
   },
   "outputs": [],
   "source": [
    "tagger_p = [twitter.pos(line) for line in positive['reple']]"
   ]
  },
  {
   "cell_type": "code",
   "execution_count": 40,
   "metadata": {
    "collapsed": false
   },
   "outputs": [],
   "source": [
    "tagger_n = [twitter.pos(line) for line in negative['reple']]"
   ]
  },
  {
   "cell_type": "code",
   "execution_count": 46,
   "metadata": {
    "collapsed": false
   },
   "outputs": [
    {
     "data": {
      "text/plain": [
       "('강동원', 'Noun')"
      ]
     },
     "execution_count": 46,
     "metadata": {},
     "output_type": "execute_result"
    }
   ],
   "source": [
    "tagger_p[0][0]"
   ]
  },
  {
   "cell_type": "code",
   "execution_count": 49,
   "metadata": {
    "collapsed": false
   },
   "outputs": [],
   "source": [
    "list_p =[]\n",
    "for n in tagger_p:\n",
    "    for i in n:\n",
    "        if i[1] =='Adjective':\n",
    "            list_p.append(i)\n",
    "        if i[1] =='Verb':\n",
    "            list_p.append(i)"
   ]
  },
  {
   "cell_type": "code",
   "execution_count": 110,
   "metadata": {
    "collapsed": true
   },
   "outputs": [],
   "source": [
    "list_n =[]\n",
    "for n in tagger_n:\n",
    "    for i in n:\n",
    "        if i[1] =='Adjective':\n",
    "            list_n.append(i)\n",
    "        if i[1] =='Verb':\n",
    "            list_n.append(i)"
   ]
  },
  {
   "cell_type": "code",
   "execution_count": 112,
   "metadata": {
    "collapsed": false
   },
   "outputs": [],
   "source": [
    "import collections\n",
    "c = collections.Counter()"
   ]
  },
  {
   "cell_type": "code",
   "execution_count": 72,
   "metadata": {
    "collapsed": false
   },
   "outputs": [],
   "source": [
    "list_final_p = []\n",
    "for word in list_p:\n",
    "    c.update(word)\n",
    "for n, c in c.most_common(3000):\n",
    "    temp = {\"tag\" : n, \"count\": c}\n",
    "    list_final_p.append(temp)"
   ]
  },
  {
   "cell_type": "code",
   "execution_count": 113,
   "metadata": {
    "collapsed": false
   },
   "outputs": [],
   "source": [
    "list_final_n = []\n",
    "for word in list_n:\n",
    "    c.update(word)\n",
    "for n, c in c.most_common(3000):\n",
    "    temp = {\"tag\" : n, \"count\": c}\n",
    "    list_final_n.append(temp)"
   ]
  },
  {
   "cell_type": "code",
   "execution_count": 76,
   "metadata": {
    "collapsed": false
   },
   "outputs": [],
   "source": [
    "positive_word = list_final_p[2:]"
   ]
  },
  {
   "cell_type": "code",
   "execution_count": 115,
   "metadata": {
    "collapsed": false
   },
   "outputs": [],
   "source": [
    "negative_word = list_final_n[2:]"
   ]
  },
  {
   "cell_type": "code",
   "execution_count": 106,
   "metadata": {
    "collapsed": false
   },
   "outputs": [],
   "source": [
    "positive_word = [i['tag'] for i in positive_word if len(i['tag'])>=2]\n",
    "negative_word = [i['tag'] for i in negative_word if len(i['tag'])>=2]"
   ]
  },
  {
   "cell_type": "code",
   "execution_count": 80,
   "metadata": {
    "collapsed": false
   },
   "outputs": [],
   "source": [
    "review = [twitter.pos(line) for line in data[\"reple\"]]"
   ]
  },
  {
   "cell_type": "code",
   "execution_count": 118,
   "metadata": {
    "collapsed": false
   },
   "outputs": [],
   "source": [
    "po = []\n",
    "ne = []\n",
    "for pos in review:\n",
    "    po_count=0\n",
    "    ne_count=0\n",
    "    for word in pos: \n",
    "        if word[0] in positive_word:\n",
    "            po_count += 1\n",
    "        if word[0] in negative_word:\n",
    "            ne_count += 1\n",
    "    po.append(po_count)\n",
    "    ne.append(ne_count)"
   ]
  },
  {
   "cell_type": "code",
   "execution_count": 87,
   "metadata": {
    "collapsed": false
   },
   "outputs": [
    {
     "name": "stdout",
     "output_type": "stream",
     "text": [
      "158390\n",
      "158390\n"
     ]
    }
   ],
   "source": [
    "print(len(po))\n",
    "print(len(ne))"
   ]
  },
  {
   "cell_type": "code",
   "execution_count": 88,
   "metadata": {
    "collapsed": true
   },
   "outputs": [],
   "source": [
    "data[\"positive_num\"] = po\n",
    "data[\"negative_num\"] = ne"
   ]
  },
  {
   "cell_type": "code",
   "execution_count": 94,
   "metadata": {
    "collapsed": false
   },
   "outputs": [
    {
     "data": {
      "text/plain": [
       "0"
      ]
     },
     "execution_count": 94,
     "metadata": {},
     "output_type": "execute_result"
    }
   ],
   "source": [
    "sum([i != 0 for i in po])"
   ]
  },
  {
   "cell_type": "code",
   "execution_count": 120,
   "metadata": {
    "collapsed": true
   },
   "outputs": [],
   "source": [
    "reple = data[\"reple\"]"
   ]
  },
  {
   "cell_type": "code",
   "execution_count": 133,
   "metadata": {
    "collapsed": false
   },
   "outputs": [],
   "source": [
    "k= pd.DataFrame()\n",
    "a=[]\n",
    "for i in tagger:\n",
    "    for j in i:\n",
    "        a.append(j[0])\n",
    "    k.append(\",\")"
   ]
  },
  {
   "cell_type": "code",
   "execution_count": 169,
   "metadata": {
    "collapsed": false
   },
   "outputs": [],
   "source": [
    "reple = [token_word(t) for t in reple]"
   ]
  },
  {
   "cell_type": "code",
   "execution_count": 170,
   "metadata": {
    "collapsed": false
   },
   "outputs": [],
   "source": [
    "toekn = [twitter.morphs(i) for i in reple]"
   ]
  },
  {
   "cell_type": "code",
   "execution_count": 171,
   "metadata": {
    "collapsed": false
   },
   "outputs": [],
   "source": [
    "from gensim.models.word2vec import Word2Vec\n",
    "model = Word2Vec(toekn,min_count=12)"
   ]
  },
  {
   "cell_type": "code",
   "execution_count": 172,
   "metadata": {
    "collapsed": true
   },
   "outputs": [],
   "source": [
    "model.init_sims(replace=True)"
   ]
  },
  {
   "cell_type": "code",
   "execution_count": 173,
   "metadata": {
    "collapsed": true
   },
   "outputs": [],
   "source": [
    "wordv = model[model.wv.vocab]"
   ]
  },
  {
   "cell_type": "code",
   "execution_count": 174,
   "metadata": {
    "collapsed": false
   },
   "outputs": [
    {
     "data": {
      "text/plain": [
       "[('연기자', 0.7864620685577393),\n",
       " ('연기력', 0.6982911825180054),\n",
       " ('캐릭터', 0.666132926940918),\n",
       " ('조연', 0.6556706428527832),\n",
       " ('여배우', 0.6379201412200928),\n",
       " ('명연기', 0.6243919134140015),\n",
       " ('케미', 0.6086816787719727),\n",
       " ('아역배우', 0.5957885980606079),\n",
       " ('액션연기', 0.5807291269302368),\n",
       " ('열연', 0.5726385712623596)]"
      ]
     },
     "execution_count": 174,
     "metadata": {},
     "output_type": "execute_result"
    }
   ],
   "source": [
    "model.most_similar(positive=[\"배우\",\"연기\"], topn=10)"
   ]
  },
  {
   "cell_type": "code",
   "execution_count": 178,
   "metadata": {
    "collapsed": false
   },
   "outputs": [
    {
     "ename": "NameError",
     "evalue": "name 'train_X' is not defined",
     "output_type": "error",
     "traceback": [
      "\u001b[0;31m---------------------------------------------------------------------------\u001b[0m",
      "\u001b[0;31mNameError\u001b[0m                                 Traceback (most recent call last)",
      "\u001b[0;32m<ipython-input-178-2c472e38f9cd>\u001b[0m in \u001b[0;36m<module>\u001b[0;34m()\u001b[0m\n\u001b[1;32m     21\u001b[0m \u001b[0mvec_tf_skip_gram\u001b[0m \u001b[1;33m=\u001b[0m \u001b[0mTfidfEmbeddingVectorizer\u001b[0m\u001b[1;33m(\u001b[0m\u001b[0mwordv\u001b[0m\u001b[1;33m)\u001b[0m\u001b[1;33m\u001b[0m\u001b[0m\n\u001b[1;32m     22\u001b[0m \u001b[1;33m\u001b[0m\u001b[0m\n\u001b[0;32m---> 23\u001b[0;31m \u001b[0mtrain_tf_s\u001b[0m \u001b[1;33m=\u001b[0m \u001b[0mvec_tf_skip_gram\u001b[0m\u001b[1;33m.\u001b[0m\u001b[0mtransform\u001b[0m\u001b[1;33m(\u001b[0m\u001b[0mtrain_X\u001b[0m\u001b[1;33m)\u001b[0m\u001b[1;33m\u001b[0m\u001b[0m\n\u001b[0m",
      "\u001b[0;31mNameError\u001b[0m: name 'train_X' is not defined"
     ]
    }
   ],
   "source": [
    "from sklearn.feature_extraction.text import TfidfVectorizer\n",
    "from collections import defaultdict\n",
    "import numpy as np\n",
    "\n",
    "# 문서 embedding\n",
    "class TfidfEmbeddingVectorizer:\n",
    "    def __init__(self, word2vec):\n",
    "        self.word2vec = word2vec\n",
    "        \n",
    "    def transform(self, X):\n",
    "        tfidf = TfidfVectorizer(analyzer = lambda x : x) \n",
    "        tfidf.fit(X)\n",
    "        max_idf = max(tfidf.idf_) \n",
    "        word2weight = defaultdict(lambda : max_idf, [(w, tfidf.idf_[i]) for w, i in tfidf.vocabulary_.items()]) \n",
    "        \n",
    "        array_list =[]\n",
    "        for words in X:\n",
    "            array_list.append(np.array(np.mean([self.word2vec[w]*word2weight[w] for w in words if w in self.word2vec] or [np.zeros(100)], axis = 0)))\n",
    "        return(array_list)\n",
    "\n",
    "vec_tf_skip_gram = TfidfEmbeddingVectorizer(wordv)\n",
    "\n",
    "train_tf_s = vec_tf_skip_gram.transform(data[\"reple\"][:])"
   ]
  },
  {
   "cell_type": "code",
   "execution_count": null,
   "metadata": {
    "collapsed": true
   },
   "outputs": [],
   "source": [
    "from sklearn.svm import SVC\n",
    "clf1 = SVC(decision_function_shape='ovo') # SVM 만들기\n",
    "svc_clf_s = clf.fit(train_tf_s, label_train)  # skip-gram\n",
    "svc_clf_c = clf.fit(train_tf_c, label_train)  # CBOW\n",
    "\n",
    "# 예측값 뽑아내기\n",
    "svc_pred_s = svc_clf.predict(test_tf_s) # skip-gram\n",
    "svc_pred_c = svc_clf.predict(test_tf_c) # CBOW\n",
    "\n",
    "# 정확도 확인\n",
    "from sklearn import metrics\n",
    "print(metrics.classification_report(label_test, svc_pred_s)) # skip-gram"
   ]
  },
  {
   "cell_type": "code",
   "execution_count": null,
   "metadata": {
    "collapsed": true
   },
   "outputs": [],
   "source": []
  },
  {
   "cell_type": "code",
   "execution_count": null,
   "metadata": {
    "collapsed": true
   },
   "outputs": [],
   "source": []
  },
  {
   "cell_type": "code",
   "execution_count": null,
   "metadata": {
    "collapsed": true
   },
   "outputs": [],
   "source": []
  },
  {
   "cell_type": "code",
   "execution_count": null,
   "metadata": {
    "collapsed": true
   },
   "outputs": [],
   "source": []
  },
  {
   "cell_type": "code",
   "execution_count": null,
   "metadata": {
    "collapsed": true
   },
   "outputs": [],
   "source": []
  }
 ],
 "metadata": {
  "anaconda-cloud": {},
  "kernelspec": {
   "display_name": "Python [default]",
   "language": "python",
   "name": "python3"
  },
  "language_info": {
   "codemirror_mode": {
    "name": "ipython",
    "version": 3
   },
   "file_extension": ".py",
   "mimetype": "text/x-python",
   "name": "python",
   "nbconvert_exporter": "python",
   "pygments_lexer": "ipython3",
   "version": "3.5.2"
  }
 },
 "nbformat": 4,
 "nbformat_minor": 1
}
