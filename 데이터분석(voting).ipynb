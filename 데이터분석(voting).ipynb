{
 "cells": [
  {
   "cell_type": "code",
   "execution_count": 129,
   "metadata": {
    "collapsed": false
   },
   "outputs": [],
   "source": [
    "import os\n",
    "import pandas as pd\n",
    "import matplotlib.pyplot as plt\n",
    "from matplotlib import style\n",
    "import numpy as np\n",
    "import re\n",
    "\n",
    "from sklearn.preprocessing import scale\n",
    "from sklearn import linear_model\n",
    "from sklearn.cross_validation import cross_val_score\n",
    "from sklearn.ensemble import RandomForestClassifier\n",
    "from sklearn.ensemble import RandomForestRegressor\n",
    "from sklearn import preprocessing\n",
    "from sklearn.model_selection import GridSearchCV"
   ]
  },
  {
   "cell_type": "code",
   "execution_count": 130,
   "metadata": {
    "collapsed": false
   },
   "outputs": [],
   "source": [
    "score = pd.read_csv(\"score_final.csv\", encoding=\"cp949\")"
   ]
  },
  {
   "cell_type": "code",
   "execution_count": 131,
   "metadata": {
    "collapsed": true
   },
   "outputs": [],
   "source": [
    "def preprocessiong(score):\n",
    "    # 참여인원 (int) 숫자만 남기기\n",
    "    score[\"참여인원\"] = [k.replace(\",\",\"\") for k in score[\"참여인원\"]]\n",
    "    score[\"참여인원\"] = [k.replace(\"명\",\"\") for k in score[\"참여인원\"]]\n",
    "    score[\"참여인원\"] = [k.replace(\"\\r\",\"\") for k in score[\"참여인원\"]]\n",
    "    score[\"참여인원\"] = [k.replace(\"\\n\",\"\") for k in score[\"참여인원\"]]\n",
    "    score[\"참여인원\"] = [int(k) for k in score[\"참여인원\"]]\n",
    "    \n",
    "    # 글쎄요/보고싶어요 0인 데이터 지우기\n",
    "    score = score[score[\"글쎄요\"] != 0]\n",
    "    score = score[score[\"보고싶어요\"] != 0]\n",
    "    \n",
    "    score[\"관심인원\"] = score[\"글쎄요\"] + score[\"보고싶어요\"]\n",
    "    score[\"기대지수\"] = score[\"보고싶어요\"] / score[\"관심인원\"]\n",
    "    \n",
    "    # id 한글만 남기고 / id 길이 변수 만들기\n",
    "    score[\"id\"] = [re.sub(\"[2, , :, ,]\",\"\", id) for id in score[\"id\"]]\n",
    "    score[\"id_length\"] = [len(i) for i in score[\"id\"]]\n",
    "    \n",
    "    # 런타임 (int) 숫자만 남기기\n",
    "    score[\"런타임\"] = [k.replace(\"분\",\"\") for k in score[\"런타임\"]]\n",
    "    score[\"런타임\"] = [int(k) for k in score[\"런타임\"]]\n",
    "    \n",
    "    # 등급 숫자만 남기기\n",
    "    score[\"등급\"] = [k.replace(\"관람가\",\"\") for k in score[\"등급\"]]\n",
    "    score[\"등급\"] = [k.replace(\" \",\"\") for k in score[\"등급\"]]\n",
    "    \n",
    "    # 개봉월 / 개봉년도 나누기\n",
    "    score[\"개봉년도\"] = [k.split(\".\")[0] for k in score[\"개봉일\"]]\n",
    "    score[\"개봉년도\"] = [int(k) for k in score[\"개봉년도\"]]\n",
    "    score[\"개봉월\"] = [k.split(\".\")[1] for k in score[\"개봉일\"]]\n",
    "    score[\"개봉월\"] = [int(k) for k in score[\"개봉월\"]]\n",
    "\n",
    "    # 주연 수 만들기\n",
    "    score[\"주연수\"] = [len(k.split(\",\")) for k in score[\"주연\"]]\n",
    "    score[\"조연수\"] = [len(k.split(\",\")) for k in score[\"조연\"]]\n",
    "    score[\"배우수\"] = score[\"주연수\"] + score[\"조연수\"]\n",
    "\n",
    "\n",
    "    # 장르 string 필요없는 것 제거\n",
    "    k = [i.replace(\"[\",\"\") for i in score[\"장르\"]]\n",
    "    k = [i.replace(\"]\",\"\") for i in k]\n",
    "    k = [i.replace(\"'\",\"\") for i in k]\n",
    "    k = [i.replace(\" \",\"\") for i in k]\n",
    "    k = [i.split(\",\") for i in k] \n",
    "    score[\"장르\"] = k\n",
    "    genre_unique = np.unique([b for a in score[\"장르\"] for b in a])\n",
    "    result = []\n",
    "    for b in score[\"장르\"]:\n",
    "        d=[]\n",
    "        for a in genre_unique:\n",
    "            d.append(int(a in b))\n",
    "        result.append(d)\n",
    "    genre_dummy = pd.DataFrame(result, columns=genre_unique)\n",
    "    return score, genre_dummy"
   ]
  },
  {
   "cell_type": "code",
   "execution_count": 132,
   "metadata": {
    "collapsed": false
   },
   "outputs": [],
   "source": [
    "score, dummy = preprocessiong(score)\n",
    "score.index = [i for i in range(192)]\n",
    "score = score.join(dummy)"
   ]
  },
  {
   "cell_type": "code",
   "execution_count": 133,
   "metadata": {
    "collapsed": true
   },
   "outputs": [],
   "source": [
    "def delete(score):\n",
    "    del score[\"Unnamed: 0\"]\n",
    "    del score[\"장르\"]\n",
    "    del score[\"등급\"]\n",
    "    del score[\"개봉일\"]\n",
    "    del score[\"주연\"]\n",
    "    del score[\"조연\"]\n",
    "    del score[\"id\"]\n",
    "    del score[\"감독\"]\n",
    "delete(score)"
   ]
  },
  {
   "cell_type": "code",
   "execution_count": 134,
   "metadata": {
    "collapsed": true
   },
   "outputs": [],
   "source": [
    "y = score[\"y\"]\n",
    "score = score.drop(\"y\", axis=1)"
   ]
  },
  {
   "cell_type": "code",
   "execution_count": 135,
   "metadata": {
    "collapsed": false
   },
   "outputs": [],
   "source": [
    "from sklearn.cross_validation import train_test_split\n",
    "\n",
    "train_X, test_X = train_test_split(score, test_size = 0.3, random_state=1) # 독립변수만\n",
    "train_Y, test_Y = train_test_split(y, test_size = 0.3, random_state=1) # 종속변수만|"
   ]
  },
  {
   "cell_type": "code",
   "execution_count": 126,
   "metadata": {
    "collapsed": true
   },
   "outputs": [],
   "source": [
    "from sklearn.linear_model import LogisticRegression\n",
    "from sklearn.naive_bayes import GaussianNB\n",
    "from sklearn.discriminant_analysis import QuadraticDiscriminantAnalysis\n",
    "from sklearn.ensemble import VotingClassifier\n",
    "\n",
    "model1 = LogisticRegression(random_state=1)\n",
    "model2 = QuadraticDiscriminantAnalysis()\n",
    "model3 = GaussianNB()\n",
    "ensemble = VotingClassifier(estimators=[('lr', model1), ('qda', model2), ('gnb', model3)], \n",
    "                            voting='soft', weights=[1, 1, 2])"
   ]
  },
  {
   "cell_type": "code",
   "execution_count": 137,
   "metadata": {
    "collapsed": false
   },
   "outputs": [
    {
     "name": "stderr",
     "output_type": "stream",
     "text": [
      "C:\\Users\\user\\Anaconda3\\lib\\site-packages\\sklearn\\discriminant_analysis.py:682: UserWarning: Variables are collinear\n",
      "  warnings.warn(\"Variables are collinear\")\n"
     ]
    }
   ],
   "source": [
    "pred_en = ensemble.fit(train_X, train_Y).predict(test_X)"
   ]
  }
 ],
 "metadata": {
  "anaconda-cloud": {},
  "kernelspec": {
   "display_name": "Python [default]",
   "language": "python",
   "name": "python3"
  },
  "language_info": {
   "codemirror_mode": {
    "name": "ipython",
    "version": 3
   },
   "file_extension": ".py",
   "mimetype": "text/x-python",
   "name": "python",
   "nbconvert_exporter": "python",
   "pygments_lexer": "ipython3",
   "version": "3.5.2"
  }
 },
 "nbformat": 4,
 "nbformat_minor": 1
}
