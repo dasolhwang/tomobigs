{
 "cells": [
  {
   "cell_type": "code",
   "execution_count": 1,
   "metadata": {},
   "outputs": [],
   "source": [
    "import pandas as pd\n",
    "import re\n",
    "import numpy as np\n",
    "from scipy.stats import skew\n",
    "from sklearn.preprocessing import Normalizer\n",
    "from sklearn.preprocessing import LabelEncoder\n",
    "import seaborn as sns\n",
    "import matplotlib.pyplot as plt\n",
    "\n",
    "df = pd.read_csv(\"score1694.csv\")\n",
    "del df[\"Unnamed: 0\"]"
   ]
  },
  {
   "cell_type": "code",
   "execution_count": 2,
   "metadata": {},
   "outputs": [
    {
     "data": {
      "text/plain": [
       "array(['글쎄요', '보고싶어요', '참여인원', '평점', 'title', 'y', '런타임', '장르', '개봉일',\n",
       "       '등급', '개봉년도', '개봉월'], dtype=object)"
      ]
     },
     "execution_count": 2,
     "metadata": {},
     "output_type": "execute_result"
    }
   ],
   "source": [
    "df.columns.values"
   ]
  },
  {
   "cell_type": "code",
   "execution_count": 3,
   "metadata": {},
   "outputs": [
    {
     "data": {
      "text/html": [
       "<div>\n",
       "<style scoped>\n",
       "    .dataframe tbody tr th:only-of-type {\n",
       "        vertical-align: middle;\n",
       "    }\n",
       "\n",
       "    .dataframe tbody tr th {\n",
       "        vertical-align: top;\n",
       "    }\n",
       "\n",
       "    .dataframe thead th {\n",
       "        text-align: right;\n",
       "    }\n",
       "</style>\n",
       "<table border=\"1\" class=\"dataframe\">\n",
       "  <thead>\n",
       "    <tr style=\"text-align: right;\">\n",
       "      <th></th>\n",
       "      <th>글쎄요</th>\n",
       "      <th>보고싶어요</th>\n",
       "      <th>참여인원</th>\n",
       "      <th>평점</th>\n",
       "      <th>title</th>\n",
       "      <th>y</th>\n",
       "      <th>런타임</th>\n",
       "      <th>장르</th>\n",
       "      <th>개봉일</th>\n",
       "      <th>등급</th>\n",
       "      <th>개봉년도</th>\n",
       "      <th>개봉월</th>\n",
       "    </tr>\n",
       "  </thead>\n",
       "  <tbody>\n",
       "    <tr>\n",
       "      <th>0</th>\n",
       "      <td>11</td>\n",
       "      <td>54</td>\n",
       "      <td>30</td>\n",
       "      <td>9.60</td>\n",
       "      <td>10분 (10 Minutes)</td>\n",
       "      <td>0</td>\n",
       "      <td>93</td>\n",
       "      <td>['드라마']</td>\n",
       "      <td>['2014.04.24']</td>\n",
       "      <td>12세</td>\n",
       "      <td>2014</td>\n",
       "      <td>4</td>\n",
       "    </tr>\n",
       "    <tr>\n",
       "      <th>1</th>\n",
       "      <td>0</td>\n",
       "      <td>0</td>\n",
       "      <td>277</td>\n",
       "      <td>8.81</td>\n",
       "      <td>10억 (A Million)</td>\n",
       "      <td>1</td>\n",
       "      <td>114</td>\n",
       "      <td>['모험', '스릴러']</td>\n",
       "      <td>['2009.08.06']</td>\n",
       "      <td>15세</td>\n",
       "      <td>2009</td>\n",
       "      <td>8</td>\n",
       "    </tr>\n",
       "    <tr>\n",
       "      <th>2</th>\n",
       "      <td>4</td>\n",
       "      <td>10</td>\n",
       "      <td>19</td>\n",
       "      <td>8.79</td>\n",
       "      <td>125 전승철 (125 JEON Seung-Chul)</td>\n",
       "      <td>0</td>\n",
       "      <td>21</td>\n",
       "      <td>['드라마']</td>\n",
       "      <td>[]</td>\n",
       "      <td>NaN</td>\n",
       "      <td>0</td>\n",
       "      <td>0</td>\n",
       "    </tr>\n",
       "    <tr>\n",
       "      <th>3</th>\n",
       "      <td>0</td>\n",
       "      <td>0</td>\n",
       "      <td>63</td>\n",
       "      <td>7.60</td>\n",
       "      <td>1724 기방난동사건</td>\n",
       "      <td>0</td>\n",
       "      <td>103</td>\n",
       "      <td>['코미디', '액션', '모험']</td>\n",
       "      <td>['2008.12.03']</td>\n",
       "      <td>15세</td>\n",
       "      <td>2008</td>\n",
       "      <td>12</td>\n",
       "    </tr>\n",
       "    <tr>\n",
       "      <th>4</th>\n",
       "      <td>18</td>\n",
       "      <td>153</td>\n",
       "      <td>32</td>\n",
       "      <td>9.09</td>\n",
       "      <td>1789 바스티유의 연인들 (1789 Les Amants De La Bastille)</td>\n",
       "      <td>0</td>\n",
       "      <td>129</td>\n",
       "      <td>['공연실황', '뮤지컬']</td>\n",
       "      <td>['2014.09.18']</td>\n",
       "      <td>전체</td>\n",
       "      <td>2014</td>\n",
       "      <td>9</td>\n",
       "    </tr>\n",
       "  </tbody>\n",
       "</table>\n",
       "</div>"
      ],
      "text/plain": [
       "   글쎄요  보고싶어요  참여인원    평점                                            title  y  \\\n",
       "0   11     54    30  9.60                                 10분 (10 Minutes)  0   \n",
       "1    0      0   277  8.81                                  10억 (A Million)  1   \n",
       "2    4     10    19  8.79                    125 전승철 (125 JEON Seung-Chul)  0   \n",
       "3    0      0    63  7.60                                      1724 기방난동사건  0   \n",
       "4   18    153    32  9.09  1789 바스티유의 연인들 (1789 Les Amants De La Bastille)  0   \n",
       "\n",
       "   런타임                   장르             개봉일   등급  개봉년도  개봉월  \n",
       "0   93              ['드라마']  ['2014.04.24']  12세  2014    4  \n",
       "1  114        ['모험', '스릴러']  ['2009.08.06']  15세  2009    8  \n",
       "2   21              ['드라마']              []  NaN     0    0  \n",
       "3  103  ['코미디', '액션', '모험']  ['2008.12.03']  15세  2008   12  \n",
       "4  129      ['공연실황', '뮤지컬']  ['2014.09.18']   전체  2014    9  "
      ]
     },
     "execution_count": 3,
     "metadata": {},
     "output_type": "execute_result"
    }
   ],
   "source": [
    "df.head()"
   ]
  },
  {
   "cell_type": "markdown",
   "metadata": {},
   "source": [
    "## object 변수 따로 빼기(df_cat)"
   ]
  },
  {
   "cell_type": "code",
   "execution_count": 4,
   "metadata": {},
   "outputs": [],
   "source": [
    "cats =[]\n",
    "for col in df.columns.values:\n",
    "    if df[col].dtype == 'object':\n",
    "        cats.append(col)\n",
    "        \n",
    "df_cont = df.drop(cats, axis=1)\n",
    "df_cont = df.drop(\"y\", axis=1)\n",
    "y = df[\"y\"]\n",
    "df_cat = df[cats]"
   ]
  },
  {
   "cell_type": "markdown",
   "metadata": {},
   "source": [
    "## object변수 더미화하기"
   ]
  },
  {
   "cell_type": "code",
   "execution_count": 5,
   "metadata": {},
   "outputs": [
    {
     "name": "stdout",
     "output_type": "stream",
     "text": [
      "title\n"
     ]
    },
    {
     "name": "stderr",
     "output_type": "stream",
     "text": [
      "/anaconda3/lib/python3.6/site-packages/ipykernel_launcher.py:3: SettingWithCopyWarning: \n",
      "A value is trying to be set on a copy of a slice from a DataFrame.\n",
      "Try using .loc[row_indexer,col_indexer] = value instead\n",
      "\n",
      "See the caveats in the documentation: http://pandas.pydata.org/pandas-docs/stable/indexing.html#indexing-view-versus-copy\n",
      "  This is separate from the ipykernel package so we can avoid doing imports until\n",
      "/anaconda3/lib/python3.6/site-packages/ipykernel_launcher.py:8: SettingWithCopyWarning: \n",
      "A value is trying to be set on a copy of a slice from a DataFrame.\n",
      "Try using .loc[row_indexer,col_indexer] = value instead\n",
      "\n",
      "See the caveats in the documentation: http://pandas.pydata.org/pandas-docs/stable/indexing.html#indexing-view-versus-copy\n",
      "  \n"
     ]
    },
    {
     "name": "stdout",
     "output_type": "stream",
     "text": [
      "장르\n",
      "개봉일\n",
      "등급\n"
     ]
    },
    {
     "ename": "TypeError",
     "evalue": "'<' not supported between instances of 'str' and 'float'",
     "output_type": "error",
     "traceback": [
      "\u001b[0;31m---------------------------------------------------------------------------\u001b[0m",
      "\u001b[0;31mTypeError\u001b[0m                                 Traceback (most recent call last)",
      "\u001b[0;32m<ipython-input-5-3fe74c91548c>\u001b[0m in \u001b[0;36m<module>\u001b[0;34m()\u001b[0m\n\u001b[1;32m      1\u001b[0m \u001b[0;32mfor\u001b[0m \u001b[0mcol\u001b[0m \u001b[0;32min\u001b[0m \u001b[0mdf_cat\u001b[0m\u001b[0;34m.\u001b[0m\u001b[0mcolumns\u001b[0m\u001b[0;34m.\u001b[0m\u001b[0mvalues\u001b[0m\u001b[0;34m:\u001b[0m\u001b[0;34m\u001b[0m\u001b[0m\n\u001b[1;32m      2\u001b[0m     \u001b[0mprint\u001b[0m\u001b[0;34m(\u001b[0m\u001b[0mcol\u001b[0m\u001b[0;34m)\u001b[0m\u001b[0;34m\u001b[0m\u001b[0m\n\u001b[0;32m----> 3\u001b[0;31m     \u001b[0mdf_cat\u001b[0m\u001b[0;34m[\u001b[0m\u001b[0mcol\u001b[0m\u001b[0;34m]\u001b[0m \u001b[0;34m=\u001b[0m \u001b[0mLabelEncoder\u001b[0m\u001b[0;34m(\u001b[0m\u001b[0;34m)\u001b[0m\u001b[0;34m.\u001b[0m\u001b[0mfit_transform\u001b[0m\u001b[0;34m(\u001b[0m\u001b[0mdf_cat\u001b[0m\u001b[0;34m[\u001b[0m\u001b[0mcol\u001b[0m\u001b[0;34m]\u001b[0m\u001b[0;34m)\u001b[0m\u001b[0;34m\u001b[0m\u001b[0m\n\u001b[0m\u001b[1;32m      4\u001b[0m     \u001b[0mnum_cols\u001b[0m \u001b[0;34m=\u001b[0m \u001b[0mdf_cat\u001b[0m\u001b[0;34m[\u001b[0m\u001b[0mcol\u001b[0m\u001b[0;34m]\u001b[0m\u001b[0;34m.\u001b[0m\u001b[0mmax\u001b[0m\u001b[0;34m(\u001b[0m\u001b[0;34m)\u001b[0m\u001b[0;34m\u001b[0m\u001b[0m\n\u001b[1;32m      5\u001b[0m \u001b[0;34m\u001b[0m\u001b[0m\n",
      "\u001b[0;32m/anaconda3/lib/python3.6/site-packages/sklearn/preprocessing/label.py\u001b[0m in \u001b[0;36mfit_transform\u001b[0;34m(self, y)\u001b[0m\n\u001b[1;32m    234\u001b[0m         \"\"\"\n\u001b[1;32m    235\u001b[0m         \u001b[0my\u001b[0m \u001b[0;34m=\u001b[0m \u001b[0mcolumn_or_1d\u001b[0m\u001b[0;34m(\u001b[0m\u001b[0my\u001b[0m\u001b[0;34m,\u001b[0m \u001b[0mwarn\u001b[0m\u001b[0;34m=\u001b[0m\u001b[0;32mTrue\u001b[0m\u001b[0;34m)\u001b[0m\u001b[0;34m\u001b[0m\u001b[0m\n\u001b[0;32m--> 236\u001b[0;31m         \u001b[0mself\u001b[0m\u001b[0;34m.\u001b[0m\u001b[0mclasses_\u001b[0m\u001b[0;34m,\u001b[0m \u001b[0my\u001b[0m \u001b[0;34m=\u001b[0m \u001b[0m_encode\u001b[0m\u001b[0;34m(\u001b[0m\u001b[0my\u001b[0m\u001b[0;34m,\u001b[0m \u001b[0mencode\u001b[0m\u001b[0;34m=\u001b[0m\u001b[0;32mTrue\u001b[0m\u001b[0;34m)\u001b[0m\u001b[0;34m\u001b[0m\u001b[0m\n\u001b[0m\u001b[1;32m    237\u001b[0m         \u001b[0;32mreturn\u001b[0m \u001b[0my\u001b[0m\u001b[0;34m\u001b[0m\u001b[0m\n\u001b[1;32m    238\u001b[0m \u001b[0;34m\u001b[0m\u001b[0m\n",
      "\u001b[0;32m/anaconda3/lib/python3.6/site-packages/sklearn/preprocessing/label.py\u001b[0m in \u001b[0;36m_encode\u001b[0;34m(values, uniques, encode)\u001b[0m\n\u001b[1;32m    106\u001b[0m     \"\"\"\n\u001b[1;32m    107\u001b[0m     \u001b[0;32mif\u001b[0m \u001b[0mvalues\u001b[0m\u001b[0;34m.\u001b[0m\u001b[0mdtype\u001b[0m \u001b[0;34m==\u001b[0m \u001b[0mobject\u001b[0m\u001b[0;34m:\u001b[0m\u001b[0;34m\u001b[0m\u001b[0m\n\u001b[0;32m--> 108\u001b[0;31m         \u001b[0;32mreturn\u001b[0m \u001b[0m_encode_python\u001b[0m\u001b[0;34m(\u001b[0m\u001b[0mvalues\u001b[0m\u001b[0;34m,\u001b[0m \u001b[0muniques\u001b[0m\u001b[0;34m,\u001b[0m \u001b[0mencode\u001b[0m\u001b[0;34m)\u001b[0m\u001b[0;34m\u001b[0m\u001b[0m\n\u001b[0m\u001b[1;32m    109\u001b[0m     \u001b[0;32melse\u001b[0m\u001b[0;34m:\u001b[0m\u001b[0;34m\u001b[0m\u001b[0m\n\u001b[1;32m    110\u001b[0m         \u001b[0;32mreturn\u001b[0m \u001b[0m_encode_numpy\u001b[0m\u001b[0;34m(\u001b[0m\u001b[0mvalues\u001b[0m\u001b[0;34m,\u001b[0m \u001b[0muniques\u001b[0m\u001b[0;34m,\u001b[0m \u001b[0mencode\u001b[0m\u001b[0;34m)\u001b[0m\u001b[0;34m\u001b[0m\u001b[0m\n",
      "\u001b[0;32m/anaconda3/lib/python3.6/site-packages/sklearn/preprocessing/label.py\u001b[0m in \u001b[0;36m_encode_python\u001b[0;34m(values, uniques, encode)\u001b[0m\n\u001b[1;32m     61\u001b[0m     \u001b[0;31m# only used in _encode below, see docstring there for details\u001b[0m\u001b[0;34m\u001b[0m\u001b[0;34m\u001b[0m\u001b[0m\n\u001b[1;32m     62\u001b[0m     \u001b[0;32mif\u001b[0m \u001b[0muniques\u001b[0m \u001b[0;32mis\u001b[0m \u001b[0;32mNone\u001b[0m\u001b[0;34m:\u001b[0m\u001b[0;34m\u001b[0m\u001b[0m\n\u001b[0;32m---> 63\u001b[0;31m         \u001b[0muniques\u001b[0m \u001b[0;34m=\u001b[0m \u001b[0msorted\u001b[0m\u001b[0;34m(\u001b[0m\u001b[0mset\u001b[0m\u001b[0;34m(\u001b[0m\u001b[0mvalues\u001b[0m\u001b[0;34m)\u001b[0m\u001b[0;34m)\u001b[0m\u001b[0;34m\u001b[0m\u001b[0m\n\u001b[0m\u001b[1;32m     64\u001b[0m         \u001b[0muniques\u001b[0m \u001b[0;34m=\u001b[0m \u001b[0mnp\u001b[0m\u001b[0;34m.\u001b[0m\u001b[0marray\u001b[0m\u001b[0;34m(\u001b[0m\u001b[0muniques\u001b[0m\u001b[0;34m,\u001b[0m \u001b[0mdtype\u001b[0m\u001b[0;34m=\u001b[0m\u001b[0mvalues\u001b[0m\u001b[0;34m.\u001b[0m\u001b[0mdtype\u001b[0m\u001b[0;34m)\u001b[0m\u001b[0;34m\u001b[0m\u001b[0m\n\u001b[1;32m     65\u001b[0m     \u001b[0;32mif\u001b[0m \u001b[0mencode\u001b[0m\u001b[0;34m:\u001b[0m\u001b[0;34m\u001b[0m\u001b[0m\n",
      "\u001b[0;31mTypeError\u001b[0m: '<' not supported between instances of 'str' and 'float'"
     ]
    }
   ],
   "source": [
    "for col in df_cat.columns.values:\n",
    "    print(col)\n",
    "    df_cat[col] = LabelEncoder().fit_transform(df_cat[col])\n",
    "    num_cols = df_cat[col].max()\n",
    "    \n",
    "    for i in range(num_cols):\n",
    "        col_name = col + '_' + str(i)\n",
    "        df_cat[col_name] = df_cat[col].apply(lambda x: 1 if x == i else 0)\n",
    "    \n",
    "    df_cat = df_cat.drop(col, axis=1)"
   ]
  },
  {
   "cell_type": "markdown",
   "metadata": {},
   "source": [
    "## 아웃라이어 처리"
   ]
  },
  {
   "cell_type": "code",
   "execution_count": null,
   "metadata": {},
   "outputs": [],
   "source": [
    "def is_outlier(points, thresh=3.5):\n",
    "    if len(points.shape) == 1:\n",
    "        points = points[:,None]\n",
    "    median = np.median(points, axis=0)\n",
    "    diff = np.sum((points - median)**2, axis=-1)\n",
    "    diff = np.sqrt(diff)\n",
    "    med_abs_deviation = np.median(diff)\n",
    "\n",
    "    modified_z_score = 0.6745 * diff / med_abs_deviation\n",
    "\n",
    "    return modified_z_score > thresh"
   ]
  },
  {
   "cell_type": "markdown",
   "metadata": {},
   "source": [
    "## 수치형 변수 처리"
   ]
  },
  {
   "cell_type": "code",
   "execution_count": 6,
   "metadata": {},
   "outputs": [
    {
     "name": "stderr",
     "output_type": "stream",
     "text": [
      "C:\\Users\\user\\Anaconda3\\lib\\site-packages\\pandas\\core\\indexing.py:132: SettingWithCopyWarning: \n",
      "A value is trying to be set on a copy of a slice from a DataFrame\n",
      "\n",
      "See the caveats in the documentation: http://pandas.pydata.org/pandas-docs/stable/indexing.html#indexing-view-versus-copy\n",
      "  self._setitem_with_indexer(indexer, value)\n"
     ]
    }
   ],
   "source": [
    "for col in df_cont.columns.values:\n",
    "    if sum(df_cont[col]==0) > 0:\n",
    "        median = df_cont[col].median()\n",
    "        idx = np.where(df_cont[col]==0)[0]\n",
    "        df_cont[col].iloc[idx] = median\n",
    "        \n",
    "        outliers = np.where(is_outlier(df_cont[col]))\n",
    "        df_cont[col].iloc[outliers] = median\n",
    "        \n",
    "        if skew(df_cont[col]) > 0.75:\n",
    "            df_cont[col] = np.log(df_cont[col])\n",
    "            df_cont[col] = df_cont[col].apply(lambda x: 0 if x == -np.inf else x)\n",
    "        \n",
    "        df_cont[col] = Normalizer().fit_transform(df_cont[col].reshape(1,-1))[0]"
   ]
  },
  {
   "cell_type": "code",
   "execution_count": 8,
   "metadata": {},
   "outputs": [],
   "source": [
    "df_new = df_cont.join(df_cat)"
   ]
  },
  {
   "cell_type": "code",
   "execution_count": 9,
   "metadata": {},
   "outputs": [],
   "source": [
    "df_new = df_new.drop([\"등급\",\"개봉년도\",\"개봉월\"],axis=1)"
   ]
  },
  {
   "cell_type": "markdown",
   "metadata": {},
   "source": [
    "## 데이터 나누기"
   ]
  },
  {
   "cell_type": "code",
   "execution_count": 10,
   "metadata": {},
   "outputs": [
    {
     "name": "stderr",
     "output_type": "stream",
     "text": [
      "C:\\Users\\user\\Anaconda3\\lib\\site-packages\\sklearn\\cross_validation.py:41: DeprecationWarning: This module was deprecated in version 0.18 in favor of the model_selection module into which all the refactored classes and functions are moved. Also note that the interface of the new CV iterators are different from that of this module. This module will be removed in 0.20.\n",
      "  \"This module will be removed in 0.20.\", DeprecationWarning)\n"
     ]
    }
   ],
   "source": [
    "from sklearn.cross_validation import train_test_split\n",
    "\n",
    "train_X, test_X = train_test_split(df_new, test_size = 0.3, random_state=1) # 독립변수만\n",
    "train_Y, test_Y = train_test_split(y, test_size = 0.3, random_state=1) # 종속변수만"
   ]
  },
  {
   "cell_type": "code",
   "execution_count": 11,
   "metadata": {
    "collapsed": true
   },
   "outputs": [],
   "source": [
    "from sklearn.preprocessing import StandardScaler\n",
    "from sklearn.metrics import accuracy_score\n",
    "\n",
    "sc = StandardScaler()\n",
    "sc.fit(train_X)\n",
    "train_X_std = sc.transform(train_X)\n",
    "test_X_std = sc.transform(test_X)"
   ]
  },
  {
   "cell_type": "markdown",
   "metadata": {},
   "source": [
    "## 간단한 모델들"
   ]
  },
  {
   "cell_type": "code",
   "execution_count": 366,
   "metadata": {},
   "outputs": [
    {
     "name": "stdout",
     "output_type": "stream",
     "text": [
      "0.588235294118\n",
      "0.558823529412\n"
     ]
    }
   ],
   "source": [
    "from sklearn.linear_model import LogisticRegression\n",
    "\n",
    "ml = LogisticRegression()\n",
    "ml.fit(train_X_std, train_Y)\n",
    "pred = ml.predict(test_X_std)\n",
    "print(accuracy_score(test_Y, pred)) \n",
    "\n",
    "ml2 = LogisticRegression()\n",
    "ml2.fit(train_X, train_Y)\n",
    "pred2 = ml2.predict(test_X)\n",
    "print(accuracy_score(test_Y, pred2)) "
   ]
  },
  {
   "cell_type": "code",
   "execution_count": 16,
   "metadata": {},
   "outputs": [
    {
     "name": "stdout",
     "output_type": "stream",
     "text": [
      "CV accuracy scores: [ 0.625       0.5         0.875       0.625       0.5         0.5         0.5\n",
      "  0.57142857  0.57142857  0.71428571]\n",
      "CV accuracy: 0.598 +/- 0.115\n"
     ]
    }
   ],
   "source": [
    "from sklearn import tree\n",
    "tree = tree.DecisionTreeClassifier(criterion='entropy', max_depth=4, random_state=0)\n",
    "tree.fit(train_X_std, train_Y)\n",
    "\n",
    "pred_tr = tree.predict(test_X_std)\n",
    "#print('Accuracy: %.2f' % accuracy_score(test_Y, pred_tr))\n",
    "scores = cross_val_score(estimator=tree,X=train_X, y=train_Y, cv=10,n_jobs=1)\n",
    "print('CV accuracy scores: %s' % scores)\n",
    "print('CV accuracy: %.3f +/- %.3f' % (np.mean(scores), np.std(scores)))"
   ]
  },
  {
   "cell_type": "code",
   "execution_count": 17,
   "metadata": {},
   "outputs": [
    {
     "name": "stdout",
     "output_type": "stream",
     "text": [
      "CV accuracy scores: [ 0.5         0.5         0.5         0.5         0.5         0.5         0.5\n",
      "  0.57142857  0.57142857  0.57142857]\n",
      "CV accuracy: 0.521 +/- 0.033\n"
     ]
    }
   ],
   "source": [
    "from sklearn.svm import SVC\n",
    "svc1 = SVC(kernel=\"rbf\",gamma=0.01, random_state=0)\n",
    "svc1.fit(train_X_std, train_Y)\n",
    "pred_svc1 = svc1.predict(test_X_std)\n",
    "#print('Accuracy: %.2f' % accuracy_score(test_Y, pred_svc1))\n",
    "scores = cross_val_score(estimator=svc1,X=train_X, y=train_Y, cv=10,n_jobs=1)\n",
    "print('CV accuracy scores: %s' % scores)\n",
    "print('CV accuracy: %.3f +/- %.3f' % (np.mean(scores), np.std(scores)))"
   ]
  },
  {
   "cell_type": "code",
   "execution_count": 18,
   "metadata": {},
   "outputs": [
    {
     "name": "stdout",
     "output_type": "stream",
     "text": [
      "Accuracy: 0.76\n",
      "CV accuracy scores: [ 0.625       0.5         0.75        0.5         0.75        0.625       0.75\n",
      "  0.71428571  0.85714286  0.71428571]\n",
      "CV accuracy: 0.679 +/- 0.109\n"
     ]
    }
   ],
   "source": [
    "from sklearn.neighbors import KNeighborsClassifier\n",
    "knn1 = KNeighborsClassifier(n_neighbors=7, p=2, metric='minkowski' )\n",
    "knn1.fit(train_X, train_Y)\n",
    "pred_knn1 = knn1.predict(test_X)\n",
    "print('Accuracy: %.2f' % accuracy_score(test_Y, pred_knn1))\n",
    "scores = cross_val_score(estimator=knn1,X=train_X, y=train_Y, cv=10,n_jobs=1)\n",
    "print('CV accuracy scores: %s' % scores)\n",
    "print('CV accuracy: %.3f +/- %.3f' `% (np.mean(scores), np.std(scores)))"
   ]
  },
  {
   "cell_type": "code",
   "execution_count": 20,
   "metadata": {},
   "outputs": [
    {
     "name": "stdout",
     "output_type": "stream",
     "text": [
      "CV accuracy scores: [ 0.625       0.375       0.625       0.625       0.75        0.75        0.625\n",
      "  0.57142857  0.85714286  0.71428571]\n",
      "CV accuracy: 0.652 +/- 0.123\n"
     ]
    }
   ],
   "source": [
    "from sklearn.ensemble import RandomForestClassifier\n",
    "rf1 = RandomForestClassifier(criterion=\"entropy\", n_estimators = 100, n_jobs=2, random_state=0)\n",
    "rf1.fit(train_X_std, train_Y)\n",
    "pred_rf1 = rf1.predict(test_X_std) \n",
    "#print('Accuracy: %.2f' % accuracy_score(test_Y, pred_rf1))\n",
    "scores = cross_val_score(estimator=rf1,X=train_X, y=train_Y, cv=10,n_jobs=1)\n",
    "print('CV accuracy scores: %s' % scores)\n",
    "print('CV accuracy: %.3f +/- %.3f' % (np.mean(scores), np.std(scores)))"
   ]
  },
  {
   "cell_type": "code",
   "execution_count": 14,
   "metadata": {},
   "outputs": [],
   "source": [
    "from sklearn.metrics import make_scorer, mean_squared_error\n",
    "from sklearn.cross_validation import cross_val_score\n",
    "scorer = make_scorer(mean_squared_error, False)\n",
    "\n",
    "RF = RandomForestClassifier(n_estimators=500, n_jobs=2, random_state=0)"
   ]
  },
  {
   "cell_type": "code",
   "execution_count": 15,
   "metadata": {},
   "outputs": [
    {
     "name": "stdout",
     "output_type": "stream",
     "text": [
      "CV accuracy scores: [ 0.625       0.375       0.75        0.5         0.75        0.75        0.625\n",
      "  0.57142857  0.85714286  0.71428571]\n",
      "CV accuracy: 0.652 +/- 0.135\n"
     ]
    }
   ],
   "source": [
    "from sklearn.cross_validation import cross_val_score\n",
    "scores = cross_val_score(estimator=RF, \n",
    "                         X=train_X, \n",
    "                         y=train_Y, \n",
    "                         cv=10,\n",
    "                         n_jobs=1)\n",
    "print('CV accuracy scores: %s' % scores)\n",
    "print('CV accuracy: %.3f +/- %.3f' % (np.mean(scores), np.std(scores)))"
   ]
  },
  {
   "cell_type": "code",
   "execution_count": 253,
   "metadata": {},
   "outputs": [
    {
     "name": "stdout",
     "output_type": "stream",
     "text": [
      "Accuracy: 0.74\n"
     ]
    },
    {
     "data": {
      "text/plain": [
       "보고싶어요        0.123435\n",
       "기대지수         0.119875\n",
       "관심인원         0.089849\n",
       "글쎄요          0.083259\n",
       "런타임          0.077495\n",
       "참여인원         0.076977\n",
       "id_length    0.070460\n",
       "평점           0.065753\n",
       "배우수          0.062916\n",
       "조연수          0.055116\n",
       "주연수          0.026210\n",
       "개봉년도_0       0.017727\n",
       "개봉월_3        0.012967\n",
       "등급_0         0.012371\n",
       "등급_1         0.012049\n",
       "개봉년도_2       0.010577\n",
       "개봉년도_1       0.009940\n",
       "개봉월_2        0.009717\n",
       "개봉월_4        0.009205\n",
       "개봉월_5        0.009167\n",
       "개봉월_8        0.008696\n",
       "개봉월_1        0.007935\n",
       "개봉월_7        0.007173\n",
       "개봉월_10       0.005301\n",
       "개봉월_0        0.005232\n",
       "개봉월_6        0.004288\n",
       "개봉월_9        0.003679\n",
       "등급_2         0.002630\n",
       "미스터리         0.000000\n",
       "판타지          0.000000\n",
       "코미디          0.000000\n",
       "전쟁           0.000000\n",
       "액션           0.000000\n",
       "스릴러          0.000000\n",
       "서스펜스         0.000000\n",
       "범죄           0.000000\n",
       "SF           0.000000\n",
       "가족           0.000000\n",
       "공포           0.000000\n",
       "느와르          0.000000\n",
       "다큐멘터리        0.000000\n",
       "드라마          0.000000\n",
       "로맨스          0.000000\n",
       "멜로           0.000000\n",
       "모험           0.000000\n",
       "서사           0.000000\n",
       "dtype: float64"
      ]
     },
     "execution_count": 253,
     "metadata": {},
     "output_type": "execute_result"
    }
   ],
   "source": [
    "RF.fit(train_X, train_Y)\n",
    "pred_RF = RF.predict(test_X)\n",
    "print('Accuracy: %.2f' % accuracy_score(test_Y, pred_RF))\n",
    "coef = pd.Series(RF.feature_importances_, index = train_X.columns).sort_values(ascending=False)\n",
    "coef"
   ]
  },
  {
   "cell_type": "code",
   "execution_count": 261,
   "metadata": {
    "scrolled": true
   },
   "outputs": [
    {
     "name": "stdout",
     "output_type": "stream",
     "text": [
      "y            1.000000e+00\n",
      "기대지수         3.323805e-01\n",
      "개봉년도_0       2.688474e-01\n",
      "런타임          2.387938e-01\n",
      "배우수          2.320634e-01\n",
      "보고싶어요        2.259708e-01\n",
      "등급_0         2.057911e-01\n",
      "조연수          2.022429e-01\n",
      "관심인원         1.696675e-01\n",
      "개봉월_8        1.479591e-01\n",
      "평점           1.470488e-01\n",
      "개봉월_5        1.262571e-01\n",
      "개봉년도_2       1.106368e-01\n",
      "개봉월_6        1.083086e-01\n",
      "주연수          1.054438e-01\n",
      "참여인원         8.312255e-02\n",
      "개봉월_9        7.501724e-02\n",
      "개봉월_10       6.301961e-02\n",
      "개봉월_7        5.463825e-02\n",
      "개봉월_1        1.133462e-02\n",
      "드라마         -5.627480e-17\n",
      "개봉월_4       -3.287980e-02\n",
      "등급_2        -5.931596e-02\n",
      "개봉월_0       -8.563933e-02\n",
      "등급_1        -8.701726e-02\n",
      "개봉년도_1      -1.284169e-01\n",
      "글쎄요         -1.436867e-01\n",
      "개봉월_2       -1.880817e-01\n",
      "개봉월_3       -2.169130e-01\n",
      "id_length   -3.242383e-01\n",
      "SF                    NaN\n",
      "가족                    NaN\n",
      "공포                    NaN\n",
      "느와르                   NaN\n",
      "다큐멘터리                 NaN\n",
      "로맨스                   NaN\n",
      "멜로                    NaN\n",
      "모험                    NaN\n",
      "미스터리                  NaN\n",
      "범죄                    NaN\n",
      "서사                    NaN\n",
      "서스펜스                  NaN\n",
      "스릴러                   NaN\n",
      "액션                    NaN\n",
      "전쟁                    NaN\n",
      "코미디                   NaN\n",
      "판타지                   NaN\n",
      "Name: y, dtype: float64\n"
     ]
    },
    {
     "name": "stderr",
     "output_type": "stream",
     "text": [
      "C:\\Users\\user\\Anaconda3\\lib\\site-packages\\ipykernel\\__main__.py:2: SettingWithCopyWarning: \n",
      "A value is trying to be set on a copy of a slice from a DataFrame.\n",
      "Try using .loc[row_indexer,col_indexer] = value instead\n",
      "\n",
      "See the caveats in the documentation: http://pandas.pydata.org/pandas-docs/stable/indexing.html#indexing-view-versus-copy\n",
      "  from ipykernel import kernelapp as app\n"
     ]
    }
   ],
   "source": [
    "X = train_X\n",
    "X[\"y\"] = y\n",
    "\n",
    "# 종속변수과 상관관계 높은 변수 보기\n",
    "corr = X.corr()\n",
    "corr.sort_values([\"y\"], ascending=False, inplace=True)\n",
    "print(corr.y)"
   ]
  },
  {
   "cell_type": "code",
   "execution_count": 21,
   "metadata": {},
   "outputs": [],
   "source": [
    "# 상위 몇개 변수에 3승 까지 적용\n",
    "df_new[\"기대지수-s2\"] = df_new[\"기대지수\"] **2\n",
    "df_new[\"기대지수-s3\"] = df_new[\"기대지수\"] **3\n",
    "df_new[\"기대지수-sq\"] = np.sqrt(df_new[\"기대지수\"])\n",
    "\n",
    "df_new[\"런타임-s2\"] = df_new[\"런타임\"] **2\n",
    "df_new[\"런타임-s3\"] = df_new[\"런타임\"] **3\n",
    "df_new[\"런타임-sq\"] = np.sqrt(df_new[\"런타임\"])\n",
    "\n",
    "df_new[\"id-s2\"] = df_new[\"id_length\"] **2\n",
    "df_new[\"id-s3\"] = df_new[\"id_length\"] **3\n",
    "df_new[\"id-sq\"] = np.sqrt(df_new[\"id_length\"])\n",
    "\n",
    "df_new[\"보고싶어요-s2\"] = df_new[\"보고싶어요\"] **2\n",
    "df_new[\"보고싶어요-s3\"] = df_new[\"보고싶어요\"] **3\n",
    "df_new[\"보고싶어요-sq\"] = np.sqrt(df_new[\"보고싶어요\"])\n",
    "\n",
    "df_new[\"관심-s2\"] = df_new[\"관심인원\"] **2\n",
    "df_new[\"관심-s3\"] = df_new[\"관심인원\"] **3\n",
    "df_new[\"관심-sq\"] = np.sqrt(df_new[\"관심인원\"])"
   ]
  },
  {
   "cell_type": "code",
   "execution_count": 22,
   "metadata": {
    "collapsed": true
   },
   "outputs": [],
   "source": [
    "from sklearn.cross_validation import train_test_split\n",
    "\n",
    "train_X, test_X = train_test_split(df_new, test_size = 0.3, random_state=1) # 독립변수만\n",
    "train_Y, test_Y = train_test_split(y, test_size = 0.3, random_state=1) # 종속변수만"
   ]
  },
  {
   "cell_type": "code",
   "execution_count": 23,
   "metadata": {
    "collapsed": true
   },
   "outputs": [],
   "source": [
    "from sklearn.preprocessing import StandardScaler\n",
    "from sklearn.metrics import accuracy_score\n",
    "\n",
    "sc = StandardScaler()\n",
    "sc.fit(train_X)\n",
    "train_X_std = sc.transform(train_X)\n",
    "test_X_std = sc.transform(test_X)"
   ]
  },
  {
   "cell_type": "code",
   "execution_count": 24,
   "metadata": {},
   "outputs": [
    {
     "name": "stdout",
     "output_type": "stream",
     "text": [
      "Best alpha :  60.0\n",
      "Best alpha :  84.0\n",
      "ridge는 변수를 몇개 선택했니? :  44\n",
      "ridge는 변수를 몇개 버렸니? :  17\n"
     ]
    }
   ],
   "source": [
    "from sklearn.linear_model import RidgeCV, LassoCV, ElasticNetCV\n",
    "\n",
    "ridge = RidgeCV(alphas = [0.01, 0.03, 0.06, 0.1, 0.3, 0.6, 1, 3 , 6, 10, 30,60])\n",
    "ridge.fit(train_X, train_Y)\n",
    "alpha = ridge.alpha_\n",
    "print(\"Best alpha : \", alpha)\n",
    "\n",
    "ridge = RidgeCV(alphas = [alpha *.6, alpha * .65, alpha * .7,alpha * .75,\n",
    "                         alpha * .8, alpha * .85, alpha * .9, alpha * .95,\n",
    "                         alpha * 1.05, alpha * 1.1, alpha * 1.15, alpha * 1.25,\n",
    "                         alpha * 1.3, alpha * 1.35, alpha * 1.4], cv=10)\n",
    "ridge.fit(train_X, train_Y)\n",
    "alpha = ridge.alpha_\n",
    "print(\"Best alpha : \", alpha)\n",
    "pred_ridge = ridge.predict(test_X)\n",
    "#print('Accuracy: %.2f' % accuracy_score(test_Y, pred_lasso))\n",
    "\n",
    "coefs = pd.Series(ridge.coef_, index = train_X.columns)\n",
    "print(\"ridge는 변수를 몇개 선택했니? : \", sum(coefs!=0)) \n",
    "print(\"ridge는 변수를 몇개 버렸니? : \", sum(coefs==0))\n"
   ]
  },
  {
   "cell_type": "code",
   "execution_count": 25,
   "metadata": {},
   "outputs": [
    {
     "name": "stderr",
     "output_type": "stream",
     "text": [
      "C:\\Users\\user\\Anaconda3\\lib\\site-packages\\sklearn\\linear_model\\coordinate_descent.py:491: ConvergenceWarning: Objective did not converge. You might want to increase the number of iterations. Fitting data with very small alpha may cause precision problems.\n",
      "  ConvergenceWarning)\n",
      "C:\\Users\\user\\Anaconda3\\lib\\site-packages\\sklearn\\linear_model\\coordinate_descent.py:491: ConvergenceWarning: Objective did not converge. You might want to increase the number of iterations. Fitting data with very small alpha may cause precision problems.\n",
      "  ConvergenceWarning)\n"
     ]
    },
    {
     "name": "stdout",
     "output_type": "stream",
     "text": [
      "Best alpha :  1.0\n"
     ]
    },
    {
     "name": "stderr",
     "output_type": "stream",
     "text": [
      "C:\\Users\\user\\Anaconda3\\lib\\site-packages\\sklearn\\linear_model\\coordinate_descent.py:491: ConvergenceWarning: Objective did not converge. You might want to increase the number of iterations. Fitting data with very small alpha may cause precision problems.\n",
      "  ConvergenceWarning)\n"
     ]
    },
    {
     "name": "stdout",
     "output_type": "stream",
     "text": [
      "Best alpha :  1.4\n",
      "lasso는 변수를 몇개 선택했니? :  10\n",
      "lasso는 변수를 몇개 버렸니? :  51\n"
     ]
    },
    {
     "name": "stderr",
     "output_type": "stream",
     "text": [
      "C:\\Users\\user\\Anaconda3\\lib\\site-packages\\sklearn\\linear_model\\coordinate_descent.py:491: ConvergenceWarning: Objective did not converge. You might want to increase the number of iterations. Fitting data with very small alpha may cause precision problems.\n",
      "  ConvergenceWarning)\n"
     ]
    }
   ],
   "source": [
    "lasso = LassoCV(alphas = [0.0001, 0.0003, 0.0006, 0.001, 0.003, 0.006, \n",
    "                          0.01, 0.03, 0.06, 0.1, 0.3, 0.6, 1])\n",
    "lasso.fit(train_X, train_Y)\n",
    "alpha = lasso.alpha_\n",
    "print(\"Best alpha : \", alpha)\n",
    "\n",
    "lasso = LassoCV(alphas = [alpha *.6, alpha * .65, alpha * .7,alpha * .75,\n",
    "                         alpha * .8, alpha * .85, alpha * .9, alpha * .95,\n",
    "                         alpha * 1.05, alpha * 1.1, alpha * 1.15, alpha * 1.25,\n",
    "                         alpha * 1.3, alpha * 1.35, alpha * 1.4],\n",
    "               max_iter = 50000, cv=10)\n",
    "lasso.fit(train_X, train_Y)\n",
    "alpha = lasso.alpha_\n",
    "print(\"Best alpha : \", alpha)\n",
    "pred_lasso = lasso.predict(test_X)\n",
    "#print('Accuracy: %.2f' % accuracy_score(test_Y, pred_lasso))\n",
    "\n",
    "coefs = pd.Series(lasso.coef_, index = train_X.columns)\n",
    "print(\"lasso는 변수를 몇개 선택했니? : \", sum(coefs!=0)) \n",
    "print(\"lasso는 변수를 몇개 버렸니? : \",sum(coefs==0)) \n"
   ]
  },
  {
   "cell_type": "code",
   "execution_count": 352,
   "metadata": {},
   "outputs": [
    {
     "name": "stdout",
     "output_type": "stream",
     "text": [
      "Accuracy: 0.76\n"
     ]
    }
   ],
   "source": [
    "pred_lasso1 = np.where(pred_lasso > 0.5,1,0)\n",
    "print('Accuracy: %.2f' % accuracy_score(test_Y, pred_lasso1))"
   ]
  },
  {
   "cell_type": "code",
   "execution_count": 354,
   "metadata": {},
   "outputs": [
    {
     "name": "stdout",
     "output_type": "stream",
     "text": [
      "Accuracy: 0.74\n"
     ]
    }
   ],
   "source": [
    "pred_ridge1 = np.where(pred_ridge > 0.5, 1, 0)\n",
    "print('Accuracy: %.2f' % accuracy_score(test_Y, pred_ridge1))"
   ]
  },
  {
   "cell_type": "code",
   "execution_count": 341,
   "metadata": {
    "scrolled": true
   },
   "outputs": [],
   "source": [
    "#from sklearn.cross_validation import ShuffleSplit\n",
    "#from sklearn.utils import shuffle\n",
    "#import xgboost as xgb"
   ]
  },
  {
   "cell_type": "code",
   "execution_count": 26,
   "metadata": {},
   "outputs": [
    {
     "name": "stderr",
     "output_type": "stream",
     "text": [
      "C:\\Users\\user\\Anaconda3\\lib\\site-packages\\sklearn\\linear_model\\coordinate_descent.py:491: ConvergenceWarning: Objective did not converge. You might want to increase the number of iterations. Fitting data with very small alpha may cause precision problems.\n",
      "  ConvergenceWarning)\n",
      "C:\\Users\\user\\Anaconda3\\lib\\site-packages\\sklearn\\linear_model\\coordinate_descent.py:491: ConvergenceWarning: Objective did not converge. You might want to increase the number of iterations. Fitting data with very small alpha may cause precision problems.\n",
      "  ConvergenceWarning)\n",
      "C:\\Users\\user\\Anaconda3\\lib\\site-packages\\sklearn\\linear_model\\coordinate_descent.py:491: ConvergenceWarning: Objective did not converge. You might want to increase the number of iterations. Fitting data with very small alpha may cause precision problems.\n",
      "  ConvergenceWarning)\n",
      "C:\\Users\\user\\Anaconda3\\lib\\site-packages\\sklearn\\linear_model\\coordinate_descent.py:491: ConvergenceWarning: Objective did not converge. You might want to increase the number of iterations. Fitting data with very small alpha may cause precision problems.\n",
      "  ConvergenceWarning)\n",
      "C:\\Users\\user\\Anaconda3\\lib\\site-packages\\sklearn\\linear_model\\coordinate_descent.py:491: ConvergenceWarning: Objective did not converge. You might want to increase the number of iterations. Fitting data with very small alpha may cause precision problems.\n",
      "  ConvergenceWarning)\n",
      "C:\\Users\\user\\Anaconda3\\lib\\site-packages\\sklearn\\linear_model\\coordinate_descent.py:491: ConvergenceWarning: Objective did not converge. You might want to increase the number of iterations. Fitting data with very small alpha may cause precision problems.\n",
      "  ConvergenceWarning)\n",
      "C:\\Users\\user\\Anaconda3\\lib\\site-packages\\sklearn\\linear_model\\coordinate_descent.py:491: ConvergenceWarning: Objective did not converge. You might want to increase the number of iterations. Fitting data with very small alpha may cause precision problems.\n",
      "  ConvergenceWarning)\n",
      "C:\\Users\\user\\Anaconda3\\lib\\site-packages\\sklearn\\linear_model\\coordinate_descent.py:491: ConvergenceWarning: Objective did not converge. You might want to increase the number of iterations. Fitting data with very small alpha may cause precision problems.\n",
      "  ConvergenceWarning)\n",
      "C:\\Users\\user\\Anaconda3\\lib\\site-packages\\sklearn\\linear_model\\coordinate_descent.py:491: ConvergenceWarning: Objective did not converge. You might want to increase the number of iterations. Fitting data with very small alpha may cause precision problems.\n",
      "  ConvergenceWarning)\n",
      "C:\\Users\\user\\Anaconda3\\lib\\site-packages\\sklearn\\linear_model\\coordinate_descent.py:491: ConvergenceWarning: Objective did not converge. You might want to increase the number of iterations. Fitting data with very small alpha may cause precision problems.\n",
      "  ConvergenceWarning)\n",
      "C:\\Users\\user\\Anaconda3\\lib\\site-packages\\sklearn\\linear_model\\coordinate_descent.py:491: ConvergenceWarning: Objective did not converge. You might want to increase the number of iterations. Fitting data with very small alpha may cause precision problems.\n",
      "  ConvergenceWarning)\n",
      "C:\\Users\\user\\Anaconda3\\lib\\site-packages\\sklearn\\linear_model\\coordinate_descent.py:491: ConvergenceWarning: Objective did not converge. You might want to increase the number of iterations. Fitting data with very small alpha may cause precision problems.\n",
      "  ConvergenceWarning)\n",
      "C:\\Users\\user\\Anaconda3\\lib\\site-packages\\sklearn\\linear_model\\coordinate_descent.py:491: ConvergenceWarning: Objective did not converge. You might want to increase the number of iterations. Fitting data with very small alpha may cause precision problems.\n",
      "  ConvergenceWarning)\n",
      "C:\\Users\\user\\Anaconda3\\lib\\site-packages\\sklearn\\linear_model\\coordinate_descent.py:491: ConvergenceWarning: Objective did not converge. You might want to increase the number of iterations. Fitting data with very small alpha may cause precision problems.\n",
      "  ConvergenceWarning)\n",
      "C:\\Users\\user\\Anaconda3\\lib\\site-packages\\sklearn\\linear_model\\coordinate_descent.py:491: ConvergenceWarning: Objective did not converge. You might want to increase the number of iterations. Fitting data with very small alpha may cause precision problems.\n",
      "  ConvergenceWarning)\n",
      "C:\\Users\\user\\Anaconda3\\lib\\site-packages\\sklearn\\linear_model\\coordinate_descent.py:491: ConvergenceWarning: Objective did not converge. You might want to increase the number of iterations. Fitting data with very small alpha may cause precision problems.\n",
      "  ConvergenceWarning)\n",
      "C:\\Users\\user\\Anaconda3\\lib\\site-packages\\sklearn\\linear_model\\coordinate_descent.py:491: ConvergenceWarning: Objective did not converge. You might want to increase the number of iterations. Fitting data with very small alpha may cause precision problems.\n",
      "  ConvergenceWarning)\n",
      "C:\\Users\\user\\Anaconda3\\lib\\site-packages\\sklearn\\linear_model\\coordinate_descent.py:491: ConvergenceWarning: Objective did not converge. You might want to increase the number of iterations. Fitting data with very small alpha may cause precision problems.\n",
      "  ConvergenceWarning)\n",
      "C:\\Users\\user\\Anaconda3\\lib\\site-packages\\sklearn\\linear_model\\coordinate_descent.py:491: ConvergenceWarning: Objective did not converge. You might want to increase the number of iterations. Fitting data with very small alpha may cause precision problems.\n",
      "  ConvergenceWarning)\n"
     ]
    },
    {
     "name": "stdout",
     "output_type": "stream",
     "text": [
      "CV accuracy scores: [  3.55106022e-01   2.94013632e-01   2.13601675e-01  -6.40026469e-01\n",
      "  -2.70614646e+00   1.76332324e-01   7.28378575e-01  -4.44886375e-02\n",
      "   2.94735517e-01  -3.61667194e+02]\n",
      "CV accuracy: -36.300 +/- 108.460\n"
     ]
    },
    {
     "name": "stderr",
     "output_type": "stream",
     "text": [
      "C:\\Users\\user\\Anaconda3\\lib\\site-packages\\sklearn\\linear_model\\coordinate_descent.py:491: ConvergenceWarning: Objective did not converge. You might want to increase the number of iterations. Fitting data with very small alpha may cause precision problems.\n",
      "  ConvergenceWarning)\n"
     ]
    }
   ],
   "source": [
    "scores = cross_val_score(estimator=lasso,X=train_X, y=train_Y, cv=10,n_jobs=1)\n",
    "print('CV accuracy scores: %s' % scores)\n",
    "print('CV accuracy: %.3f +/- %.3f' % (np.mean(scores), np.std(scores)))"
   ]
  },
  {
   "cell_type": "code",
   "execution_count": null,
   "metadata": {
    "collapsed": true
   },
   "outputs": [],
   "source": [
    "scores = cross_val_score(estimator=ridge,X=train_X, y=train_Y, cv=10,n_jobs=1)\n",
    "print('CV accuracy scores: %s' % scores)\n",
    "print('CV accuracy: %.3f +/- %.3f' % (np.mean(scores), np.std(scores)))"
   ]
  }
 ],
 "metadata": {
  "anaconda-cloud": {},
  "kernelspec": {
   "display_name": "Python 3",
   "language": "python",
   "name": "python3"
  },
  "language_info": {
   "codemirror_mode": {
    "name": "ipython",
    "version": 3
   },
   "file_extension": ".py",
   "mimetype": "text/x-python",
   "name": "python",
   "nbconvert_exporter": "python",
   "pygments_lexer": "ipython3",
   "version": "3.6.4"
  }
 },
 "nbformat": 4,
 "nbformat_minor": 1
}
