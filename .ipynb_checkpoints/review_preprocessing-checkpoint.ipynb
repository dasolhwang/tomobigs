{
 "cells": [
  {
   "cell_type": "code",
   "execution_count": null,
   "metadata": {},
   "outputs": [],
   "source": [
    "import pandas as pd\n",
    "import numpy as np\n",
    "from collections import Counter\n",
    "import operator\n",
    "import konlpy.tag"
   ]
  },
  {
   "cell_type": "code",
   "execution_count": 2,
   "metadata": {},
   "outputs": [],
   "source": [
    "class movie_tradeoff:\n",
    "    def __init__(self,score,review):\n",
    "        score = score.sort_values(by=\"id\")\n",
    "        score.index = range(len(score))\n",
    "        score = score[score['보고싶어요'] !=0]\n",
    "        score = score.reset_index()\n",
    "        del score['index']\n",
    "        \n",
    "    def helpme(self):\n",
    "        print(\"make를 1부터 7까지 순서대로 돌린다. \\n\"\n",
    "                \"all_movie_count: 각 영화별로 단어들이 몇번 나왔는지를 DF로 출력 \\n\"\n",
    "                \"dtm_df: 감성 분석을 위해 DTM 만든것 마지막 label은 긍정:1, 부정:0 + 4~7점 리뷰들은 삭제. \\n\"\n",
    "                \"keyword_list: 감성 분석에서 어떤 단어가 쓰였는지 순서대로 보여줌 \\n\"\n",
    "                \"movie_list: 리뷰에 있는 영화 목록 \\n\"\n",
    "                \"new_review: 보고싶어요 0 인 영화들을 지우고 해당 리뷰도 지운 후의 리뷰 \\n\"\n",
    "                \"score_fin: 전처리 다 끝난 score DF \\n\"\n",
    "                \"senti_dict: 감성사전 DF \\n\")\n",
    "        \n",
    "    def _replacing(self,m):\n",
    "        m = m.replace(\"[\",\"\")\n",
    "        m = m.replace(\"'\",\"\")\n",
    "        m = m.replace(\"]\",\"\")\n",
    "        s = m.split(',')\n",
    "        a = [t.strip() for t in s]\n",
    "        return a\n",
    "    \n",
    "    #first\n",
    "    def _make_preprocess(self):\n",
    "        #인원수 int로 바꿔주기\n",
    "        myoung = [m.split(\"명\")[0] for m in score[\"참여인원\"]]\n",
    "        score[\"참여인원\"] = myoung\n",
    "        #장르 더미화\n",
    "        genre = score[\"장르\"]\n",
    "        genre_re = [self._replacing(r) for r in genre]\n",
    "        genre_unique = np.unique([b for a in genre_re for b in a])[1:]\n",
    "        result = []\n",
    "        for b in genre_re:\n",
    "            d=[]\n",
    "            for a in genre_unique:\n",
    "                d.append(int(a in b))\n",
    "            result.append(d)\n",
    "        genre_dummy = pd.DataFrame(result,columns=genre_unique)\n",
    "        #너무 적은 장르들 제거\n",
    "        #genre_dummy = genre_dummy.drop(['SF','느와르','블랙코미디','서사','애니메이션'],axis=1)\n",
    "        #관람등급 더미화\n",
    "        age_dummy = pd.get_dummies(score[\"등급\"],drop_first=True)\n",
    "        \n",
    "        return pd.concat([score,genre_dummy,age_dummy],axis=1)\n",
    "        #self.score_pre = \n",
    "        \n",
    "    #second\n",
    "    def make_new_review1(self):\n",
    "        self._score_pre = self._make_preprocess()\n",
    "        movie_score = list(self._score_pre['id'])\n",
    "        reple = []\n",
    "        movie = []\n",
    "        score = []\n",
    "        for i in range(len(movie_score)):\n",
    "            reple.extend(review[review['movie'] == movie_score[i]]['reple'])\n",
    "            movie.extend(review[review['movie'] == movie_score[i]]['movie'])\n",
    "            score.extend(review[review['movie'] == movie_score[i]]['score'])\n",
    "        new_review = pd.DataFrame([reple,movie,score]).T\n",
    "        new_review.columns = ['reple','movie','score']\n",
    "        \n",
    "        self.new_review = new_review\n",
    "        \n",
    "        \n",
    "    def _tokenize(self,doc):\n",
    "        import konlpy.tag\n",
    "        pos_tagger = konlpy.tag.Twitter()\n",
    "        at = pos_tagger.pos(doc, norm=True, stem=True)\n",
    "        # 단어 길이가 1인 것은 버림\n",
    "        return ['/'.join(t) for t in np.array(at)[[len(a[0])>1 for a in at]]]\n",
    "    \n",
    "    def _nojosa(self,sentence):\n",
    "        temp = []\n",
    "        for i in range(len(sentence)):\n",
    "            if 'Josa' in sentence[i]:\n",
    "                continue\n",
    "            if 'Punctuation' in sentence[i]:\n",
    "                continue\n",
    "            if 'Alpha' in sentence[i]:\n",
    "                continue\n",
    "            if 'Determiner' in sentence[i]:\n",
    "                continue\n",
    "            if 'Suffix' in sentence[i]:\n",
    "                continue\n",
    "            temp.append(sentence[i])\n",
    "        return(temp)\n",
    "    \n",
    "    #third\n",
    "    def make_tokenize2(self):\n",
    "        sen_tagged = [self._tokenize(line) for line in self.new_review['reple']]\n",
    "        self.new_review['tagged'] = sen_tagged\n",
    "        self.new_review['pop'] = [self._nojosa(s) for s in sen_tagged]\n",
    "        \n",
    "\n",
    "    def _each_movie_count(self,review,movie_list):\n",
    "        temp_movie = review[review['movie']==movie_list]['pop']\n",
    "        keyword_cnt = Counter([i for item in temp_movie for i in item])\n",
    "        return(keyword_cnt)\n",
    "    \n",
    "    #fourth\n",
    "    def make_movie_coef3(self):\n",
    "        self.movie_list = np.unique(self.new_review['movie'])\n",
    "        keyword_cnt = Counter([i for item in self.new_review['pop'] for i in item])\n",
    "        keyword_clip = sorted(keyword_cnt.items(), key=operator.itemgetter(1))[-1000:]\n",
    "        #\n",
    "        all_movie_coef = []\n",
    "        for i in range(len(self.movie_list)):\n",
    "            movie_count = self._each_movie_count(self.new_review,self.movie_list[i])\n",
    "            movie_count_keys = list(movie_count.keys())\n",
    "            movie_coef = []\n",
    "            for j in range(len(keyword_clip)):\n",
    "                if keyword_clip[i][0] in movie_count_keys:\n",
    "                    movie_coef.append(movie_count[keyword_clip[j][0]])\n",
    "                else:\n",
    "                    movie_coef.append(0)\n",
    "            all_movie_coef.append(movie_coef)\n",
    "\n",
    "        keyword_count = []\n",
    "        keyword_name  = []\n",
    "        for i in range(len(keyword_clip)):\n",
    "            keyword_count.append(keyword_clip[i][1])\n",
    "            keyword_name.append(keyword_clip[i][0])\n",
    "        \n",
    "        all_movie_df = pd.DataFrame(np.array(all_movie_coef) / np.array(keyword_count))\n",
    "        all_movie_df.columns = keyword_name\n",
    "        all_movie_df['movie_list'] = self.movie_list\n",
    "        \n",
    "        all_movie = pd.DataFrame(np.array(all_movie_coef) )\n",
    "        all_movie.columns = keyword_name\n",
    "        all_movie['movie_list'] = self.movie_list\n",
    "        \n",
    "        self._movie_coef = all_movie_df\n",
    "        self.all_movie_count = all_movie\n",
    "    \n",
    "    #fifth\n",
    "    def make_score_concat4(self):\n",
    "        self.score_fin = pd.concat([self._score_pre,self._movie_coef],axis=1)\n",
    "        del self.score_fin['movie_list']\n",
    "        del self.score_fin['등급']\n",
    "        del self.score_fin['장르']\n",
    "    \n",
    "    #sixth\n",
    "    def make_senti_review5(self):\n",
    "        score = self.new_review['score']\n",
    "        pos = (np.array(score)==10) * 1+ (np.array(score)==9) *1 + (np.array(score)==8) *1\n",
    "        neg = (np.array(score)==1)*1 + (np.array(score)==2)*1 + (np.array(score)==3)*1\n",
    "        self.new_review['pos'] = pos\n",
    "        self.new_review['neg'] = neg\n",
    "        \n",
    "        self.senti_review = self.new_review[[np.array([(self.new_review['pos'] == 1)*1 + (self.new_review['neg']==1)*1]) == 1][0][0]]\n",
    "        self.senti_review = self.senti_review.reset_index()\n",
    "        del self.senti_review['index']\n",
    "        \n",
    "        notag = []\n",
    "        for a in self.senti_review['pop']:\n",
    "            temp = []\n",
    "            for b in a:\n",
    "                temp.append(b.split('/')[0])\n",
    "            notag.append(temp)\n",
    "        self.senti_review['notag'] = notag\n",
    "        \n",
    "    #seventh\n",
    "    def make_dtm6(self):\n",
    "        keyword_cnt = Counter([i for item in self.senti_review['notag'] for i in item])\n",
    "        keyword_clip = sorted(keyword_cnt.items(), key=operator.itemgetter(1))[-1000:]\n",
    "        self.keyword_list = list(dict(keyword_clip).keys())\n",
    "\n",
    "        from sklearn.feature_extraction.text import CountVectorizer\n",
    "        sentence_join = [' '.join(t) for t in self.senti_review['notag']]\n",
    "        DTM2 = CountVectorizer(vocabulary = self.keyword_list,binary=True)\n",
    "        dtm_array = DTM2.fit_transform(sentence_join).toarray()\n",
    "        dtm_df = pd.DataFrame(dtm_array)\n",
    "        dtm_df['label'] = self.senti_review['pos']\n",
    "        self.keyword_list.append('label')\n",
    "        dtm_df.columns = self.keyword_list\n",
    "        self.dtm_df = dtm_df\n",
    "        \n",
    "    def make_sentiment7(self):\n",
    "        from sklearn.linear_model import Ridge\n",
    "        ridge = Ridge()\n",
    "        ridge.fit(self.dtm_df.drop('label',axis=1),self.dtm_df['label'])\n",
    "        \n",
    "        senti_dict = pd.DataFrame(self.keyword_list[:-1])\n",
    "        senti_dict['coef'] = ridge.coef_\n",
    "\n",
    "        self.senti_dict = senti_dict"
   ]
  },
  {
   "cell_type": "code",
   "execution_count": 3,
   "metadata": {},
   "outputs": [],
   "source": [
    "review = pd.read_csv('review_prac.csv',encoding='cp949')"
   ]
  },
  {
   "cell_type": "code",
   "execution_count": 4,
   "metadata": {
    "collapsed": true
   },
   "outputs": [],
   "source": [
    "score = pd.read_csv(\"score_prac.csv\",encoding='cp949')\n",
    "del score[\"Unnamed: 0\"]\n",
    "del score[\"주연\"]\n",
    "del score[\"조연\"]\n",
    "del score[\"개봉일\"]\n",
    "del score[\"감독\"]\n",
    "del score[\"런타임\"]"
   ]
  },
  {
   "cell_type": "code",
   "execution_count": 5,
   "metadata": {},
   "outputs": [],
   "source": [
    "a = movie_tradeoff(score,review)"
   ]
  },
  {
   "cell_type": "code",
   "execution_count": 6,
   "metadata": {},
   "outputs": [
    {
     "name": "stdout",
     "output_type": "stream",
     "text": [
      "make를 1부터 7까지 순서대로 돌린다. \n",
      "all_movie_count: 각 영화별로 단어들이 몇번 나왔는지를 DF로 출력 \n",
      "dtm_df: 감성 분석을 위해 DTM 만든것 마지막 label은 긍정:1, 부정:0 + 4~7점 리뷰들은 삭제. \n",
      "keyword_list: 감성 분석에서 어떤 단어가 쓰였는지 순서대로 보여줌 \n",
      "movie_list: 리뷰에 있는 영화 목록 \n",
      "new_review: 보고싶어요 0 인 영화들을 지우고 해당 리뷰도 지운 후의 리뷰 \n",
      "score_fin: 전처리 다 끝난 score DF \n",
      "senti_dict: 감성사전 DF \n",
      "\n"
     ]
    }
   ],
   "source": [
    "a.helpme()"
   ]
  },
  {
   "cell_type": "code",
   "execution_count": 7,
   "metadata": {},
   "outputs": [],
   "source": [
    "a.make_new_review1()"
   ]
  },
  {
   "cell_type": "code",
   "execution_count": 8,
   "metadata": {
    "collapsed": true
   },
   "outputs": [],
   "source": [
    "a.make_tokenize2()"
   ]
  },
  {
   "cell_type": "code",
   "execution_count": 9,
   "metadata": {
    "collapsed": true
   },
   "outputs": [],
   "source": [
    "a.make_movie_coef3()"
   ]
  },
  {
   "cell_type": "code",
   "execution_count": 10,
   "metadata": {},
   "outputs": [],
   "source": [
    "a.make_score_concat4()"
   ]
  },
  {
   "cell_type": "code",
   "execution_count": 11,
   "metadata": {
    "collapsed": true
   },
   "outputs": [],
   "source": [
    "a.make_senti_review5()"
   ]
  },
  {
   "cell_type": "code",
   "execution_count": 13,
   "metadata": {},
   "outputs": [],
   "source": [
    "a.make_dtm6()"
   ]
  },
  {
   "cell_type": "code",
   "execution_count": 14,
   "metadata": {
    "collapsed": true
   },
   "outputs": [],
   "source": [
    "a.make_sentiment7()"
   ]
  }
 ],
 "metadata": {
  "anaconda-cloud": {},
  "kernelspec": {
   "display_name": "Python 3",
   "language": "python",
   "name": "python3"
  },
  "language_info": {
   "codemirror_mode": {
    "name": "ipython",
    "version": 3
   },
   "file_extension": ".py",
   "mimetype": "text/x-python",
   "name": "python",
   "nbconvert_exporter": "python",
   "pygments_lexer": "ipython3",
   "version": "3.6.4"
  }
 },
 "nbformat": 4,
 "nbformat_minor": 1
}
