{
 "cells": [
  {
   "cell_type": "markdown",
   "metadata": {},
   "source": [
    "## Naver movie review crawling"
   ]
  },
  {
   "cell_type": "code",
   "execution_count": 1,
   "metadata": {
    "collapsed": true
   },
   "outputs": [],
   "source": [
    "import re\n",
    "import math\n",
    "import pandas as pd\n",
    "from urllib.request import urlopen\n",
    "from bs4 import BeautifulSoup"
   ]
  },
  {
   "cell_type": "markdown",
   "metadata": {},
   "source": [
    "### Movie name"
   ]
  },
  {
   "cell_type": "markdown",
   "metadata": {},
   "source": [
    "- 개봉전 기대 지수와 네티즌 평균 평점"
   ]
  },
  {
   "cell_type": "code",
   "execution_count": 2,
   "metadata": {
    "collapsed": false
   },
   "outputs": [
    {
     "data": {
      "text/plain": [
       "'160399'"
      ]
     },
     "execution_count": 2,
     "metadata": {},
     "output_type": "execute_result"
    }
   ],
   "source": [
    "def URLcode(url):\n",
    "    \n",
    "    start = re.search('code=[0-9]+',url).group()\n",
    "    code = re.search('[0-9]+',start).group()\n",
    "    return(code)\n",
    "\n",
    "URLcode(\"http://movie.naver.com/movie/bi/mi/point.nhn?code=160399\")"
   ]
  },
  {
   "cell_type": "code",
   "execution_count": 3,
   "metadata": {
    "collapsed": false
   },
   "outputs": [
    {
     "data": {
      "text/html": [
       "<div>\n",
       "<table border=\"1\" class=\"dataframe\">\n",
       "  <thead>\n",
       "    <tr style=\"text-align: right;\">\n",
       "      <th></th>\n",
       "      <th>글쎄요</th>\n",
       "      <th>보고싶어요</th>\n",
       "      <th>참여인원</th>\n",
       "      <th>평점</th>\n",
       "    </tr>\n",
       "  </thead>\n",
       "  <tbody>\n",
       "    <tr>\n",
       "      <th>0</th>\n",
       "      <td>594</td>\n",
       "      <td>5028</td>\n",
       "      <td>350명</td>\n",
       "      <td>9.22</td>\n",
       "    </tr>\n",
       "  </tbody>\n",
       "</table>\n",
       "</div>"
      ],
      "text/plain": [
       "   글쎄요 보고싶어요  참여인원    평점\n",
       "0  594  5028  350명  9.22"
      ]
     },
     "execution_count": 3,
     "metadata": {},
     "output_type": "execute_result"
    }
   ],
   "source": [
    "def ReviewSCORE(code):\n",
    "    \n",
    "    url = \"http://movie.naver.com/movie/bi/mi/point.nhn?code={}\".format(str(code))\n",
    "    html = urlopen(url).read().decode('utf-8')\n",
    "    soup = BeautifulSoup(html, 'lxml')\n",
    "    graph = soup.findAll('span',{'class':'exp_cnt'})\n",
    "    star = soup.findAll('div', {'class':'sc_area b_star'})\n",
    "\n",
    "    exp_idx = [elem.text for elem in graph]\n",
    "    star_idx = [s.text for s in star]\n",
    "    \n",
    "    smile = ''.join(re.findall('[0-9]',exp_idx[0]))\n",
    "    not_smile= ''.join(re.findall('[0-9]',exp_idx[1]))    \n",
    "    \n",
    "    return pd.DataFrame({'보고싶어요' : [smile], \n",
    "                         '글쎄요' : [not_smile], \n",
    "                         '평점' : [star_idx[0][17:21]], \n",
    "                         '참여인원' : [star_idx[0][26:30]]})\n",
    "    \n",
    "ReviewSCORE(160399)"
   ]
  },
  {
   "cell_type": "markdown",
   "metadata": {},
   "source": [
    "- 크롤링 해야할 것이 기대지수, 평점, 리뷰, 공감, 비공감\n",
    "- 개봉전 리뷰 들어가기"
   ]
  },
  {
   "cell_type": "code",
   "execution_count": 6,
   "metadata": {
    "collapsed": true
   },
   "outputs": [],
   "source": [
    "url = [\"http://movie.naver.com/movie/bi/mi/basic.nhn?code=122984\",\"http://movie.naver.com/movie/bi/mi/basic.nhn?code=107924\",\"http://movie.naver.com/movie/bi/mi/basic.nhn?code=112041\"]"
   ]
  },
  {
   "cell_type": "code",
   "execution_count": 11,
   "metadata": {
    "collapsed": false
   },
   "outputs": [],
   "source": [
    "URL = [URLcode(i) for i in url]"
   ]
  },
  {
   "cell_type": "code",
   "execution_count": 14,
   "metadata": {
    "collapsed": false
   },
   "outputs": [],
   "source": [
    "Score = [ReviewSCORE(i) for i in URL]"
   ]
  },
  {
   "cell_type": "code",
   "execution_count": null,
   "metadata": {
    "collapsed": true
   },
   "outputs": [],
   "source": []
  },
  {
   "cell_type": "code",
   "execution_count": null,
   "metadata": {
    "collapsed": true
   },
   "outputs": [],
   "source": []
  },
  {
   "cell_type": "code",
   "execution_count": null,
   "metadata": {
    "collapsed": true
   },
   "outputs": [],
   "source": []
  },
  {
   "cell_type": "code",
   "execution_count": null,
   "metadata": {
    "collapsed": true
   },
   "outputs": [],
   "source": []
  },
  {
   "cell_type": "code",
   "execution_count": null,
   "metadata": {
    "collapsed": true
   },
   "outputs": [],
   "source": []
  },
  {
   "cell_type": "code",
   "execution_count": 14,
   "metadata": {
    "collapsed": false
   },
   "outputs": [],
   "source": [
    "\n",
    "\n",
    "\n",
    "\n",
    "\n",
    "\n",
    "\n",
    "\n",
    "\n",
    "\n",
    "a65 = ReviewSCORE(URLcode(\"http://movie.naver.com/movie/bi/mi/basic.nhn?code=123277\"))\n",
    "a66 = ReviewSCORE(URLcode(\"http://movie.naver.com/movie/bi/mi/basic.nhn?code=146512\"))\n",
    "a67 = ReviewSCORE(URLcode(\"http://movie.naver.com/movie/bi/mi/basic.nhn?code=107373\"))\n",
    "a68 = ReviewSCORE(URLcode(\"http://movie.naver.com/movie/bi/mi/basic.nhn?code=119966\"))\n",
    "a69 = ReviewSCORE(URLcode(\"http://movie.naver.com/movie/bi/mi/basic.nhn?code=143473\"))\n",
    "a70 = ReviewSCORE(URLcode(\"http://movie.naver.com/movie/bi/mi/basic.nhn?code=122535\"))\n",
    "a71 = ReviewSCORE(URLcode(\"http://movie.naver.com/movie/bi/mi/basic.nhn?code=121048\"))\n",
    "a72 = ReviewSCORE(URLcode(\"http://movie.naver.com/movie/bi/mi/basic.nhn?code=108225\"))\n",
    "a73 = ReviewSCORE(URLcode(\"http://movie.naver.com/movie/bi/mi/basic.nhn?code=96959\"))\n",
    "a74 = ReviewSCORE(URLcode(\"http://movie.naver.com/movie/bi/mi/basic.nhn?code=118408\"))\n",
    "a75 = ReviewSCORE(URLcode(\"http://movie.naver.com/movie/bi/mi/basic.nhn?code=102272\"))\n",
    "a76 = ReviewSCORE(URLcode(\"http://movie.naver.com/movie/bi/mi/basic.nhn?code=74027\"))\n",
    "a77 = ReviewSCORE(URLcode(\"http://movie.naver.com/movie/bi/mi/basic.nhn?code=120102\"))\n",
    "a78 = ReviewSCORE(URLcode(\"http://movie.naver.com/movie/bi/mi/basic.nhn?code=103381\"))\n",
    "a79 = ReviewSCORE(URLcode(\"http://movie.naver.com/movie/bi/mi/basic.nhn?code=114277\"))\n",
    "a80 = ReviewSCORE(URLcode(\"http://movie.naver.com/movie/bi/mi/basic.nhn?code=120125\"))\n",
    "a81 = ReviewSCORE(URLcode(\"http://movie.naver.com/movie/bi/mi/basic.nhn?code=67769\"))\n",
    "a82 = ReviewSCORE(URLcode(\"http://movie.naver.com/movie/bi/mi/basic.nhn?code=132933\"))\n",
    "a83 = ReviewSCORE(URLcode(\"http://movie.naver.com/movie/bi/mi/point.nhn?code=72562\"))\n",
    "a84 = ReviewSCORE(URLcode(\"http://movie.naver.com/movie/bi/mi/basic.nhn?code=79159\"))\n",
    "a85 = ReviewSCORE(URLcode(\"http://movie.naver.com/movie/bi/mi/basic.nhn?code=109753\"))\n",
    "a86 = ReviewSCORE(URLcode(\"http://movie.naver.com/movie/bi/mi/basic.nhn?code=102817\"))\n",
    "a87 = ReviewSCORE(URLcode(\"http://movie.naver.com/movie/bi/mi/basic.nhn?code=112268\"))\n",
    "a88 = ReviewSCORE(URLcode(\"http://movie.naver.com/movie/bi/mi/basic.nhn?code=123470\"))\n",
    "a89 = ReviewSCORE(URLcode(\"http://movie.naver.com/movie/bi/mi/basic.nhn?code=98149\"))\n",
    "a90 = ReviewSCORE(URLcode(\"http://movie.naver.com/movie/bi/mi/basic.nhn?code=115512\"))\n",
    "a91 = ReviewSCORE(URLcode(\"http://movie.naver.com/movie/bi/mi/basic.nhn?code=140696\"))\n",
    "a92 = ReviewSCORE(URLcode(\"http://movie.naver.com/movie/bi/mi/basic.nhn?code=48246\"))\n",
    "a93 = ReviewSCORE(URLcode(\"http://movie.naver.com/movie/bi/mi/basic.nhn?code=51082\"))\n",
    "a94 = ReviewSCORE(URLcode(\"http://movie.naver.com/movie/bi/mi/basic.nhn?code=94775\"))\n",
    "a95 = ReviewSCORE(URLcode(\"http://movie.naver.com/movie/bi/mi/basic.nhn?code=141259\"))\n",
    "a96 = ReviewSCORE(URLcode(\"http://movie.naver.com/movie/bi/mi/basic.nhn?code=120123\"))\n",
    "a97 = ReviewSCORE(URLcode(\"http://movie.naver.com/movie/bi/mi/basic.nhn?code=103760\"))\n",
    "a98 = ReviewSCORE(URLcode(\"http://movie.naver.com/movie/bi/mi/basic.nhn?code=112040\"))\n",
    "a99 = ReviewSCORE(URLcode(\"http://movie.naver.com/movie/bi/mi/basic.nhn?code=88426\"))\n",
    "a100 = ReviewSCORE(URLcode(\"http://movie.naver.com/movie/bi/mi/basic.nhn?code=120157\"))\n",
    "a101 = ReviewSCORE(URLcode(\"http://movie.naver.com/movie/bi/mi/basic.nhn?code=112039\"))\n",
    "a102 = ReviewSCORE(URLcode(\"http://movie.naver.com/movie/bi/mi/basic.nhn?code=102875\"))\n",
    "a103 = ReviewSCORE(URLcode(\"http://movie.naver.com/movie/bi/mi/basic.nhn?code=99752\"))\n",
    "a104 = ReviewSCORE(URLcode(\"http://movie.naver.com/movie/bi/mi/basic.nhn?code=146506\"))\n",
    "a105 = ReviewSCORE(URLcode(\"http://movie.naver.com/movie/bi/mi/basic.nhn?code=122120\"))\n",
    "a106 = ReviewSCORE(URLcode(\"http://movie.naver.com/movie/bi/mi/basic.nhn?code=109778\"))\n",
    "a107 = ReviewSCORE(URLcode(\"http://movie.naver.com/movie/bi/mi/basic.nhn?code=37038\"))\n",
    "a108 = ReviewSCORE(URLcode(\"http://movie.naver.com/movie/bi/mi/basic.nhn?code=54977\"))\n",
    "a109 = ReviewSCORE(URLcode(\"http://movie.naver.com/movie/bi/mi/basic.nhn?code=130013\"))\n",
    "a110 = ReviewSCORE(URLcode(\"http://movie.naver.com/movie/bi/mi/basic.nhn?code=78726\"))\n",
    "a111 = ReviewSCORE(URLcode(\"http://movie.naver.com/movie/bi/mi/basic.nhn?code=155680\"))\n",
    "a112 = ReviewSCORE(URLcode(\"http://movie.naver.com/movie/bi/mi/basic.nhn?code=93756\"))\n",
    "a113 = ReviewSCORE(URLcode(\"http://movie.naver.com/movie/bi/mi/basic.nhn?code=44911\"))\n",
    "a114 = ReviewSCORE(URLcode(\"http://movie.naver.com/movie/bi/mi/basic.nhn?code=115977\"))\n",
    "a115 = ReviewSCORE(URLcode(\"http://movie.naver.com/movie/bi/mi/basic.nhn?code=129050\"))\n",
    "a116 = ReviewSCORE(URLcode(\"http://movie.naver.com/movie/bi/mi/basic.nhn?code=121922\"))\n",
    "a117 = ReviewSCORE(URLcode(\"http://movie.naver.com/movie/bi/mi/basic.nhn?code=122916\"))\n",
    "a118 = ReviewSCORE(URLcode(\"http://movie.naver.com/movie/bi/mi/basic.nhn?code=122984\"))\n",
    "a119 = ReviewSCORE(URLcode(\"http://movie.naver.com/movie/bi/mi/basic.nhn?code=107924\"))\n",
    "a120 = ReviewSCORE(URLcode(\"http://movie.naver.com/movie/bi/mi/basic.nhn?code=112041\"))\n"
   ]
  },
  {
   "cell_type": "code",
   "execution_count": 14,
   "metadata": {
    "collapsed": false
   },
   "outputs": [],
   "source": [
    "\"http://movie.naver.com/movie/bi/mi/basic.nhn?code=123277\"\n",
    "\"http://movie.naver.com/movie/bi/mi/basic.nhn?code=146512\"\n",
    "\"http://movie.naver.com/movie/bi/mi/basic.nhn?code=107373\"\n",
    "\"http://movie.naver.com/movie/bi/mi/basic.nhn?code=119966\"\n",
    "\"http://movie.naver.com/movie/bi/mi/basic.nhn?code=143473\"\n",
    "\"http://movie.naver.com/movie/bi/mi/basic.nhn?code=122535\"\n",
    "\"http://movie.naver.com/movie/bi/mi/basic.nhn?code=121048\"\n",
    "\"http://movie.naver.com/movie/bi/mi/basic.nhn?code=108225\"\n",
    "\"http://movie.naver.com/movie/bi/mi/basic.nhn?code=96959\"\n",
    "\"http://movie.naver.com/movie/bi/mi/basic.nhn?code=118408\"\n",
    "\"http://movie.naver.com/movie/bi/mi/basic.nhn?code=102272\"\n",
    "\"http://movie.naver.com/movie/bi/mi/basic.nhn?code=74027\"\n",
    "\"http://movie.naver.com/movie/bi/mi/basic.nhn?code=120102\"\n",
    "\"http://movie.naver.com/movie/bi/mi/basic.nhn?code=103381\"\n",
    "\"http://movie.naver.com/movie/bi/mi/basic.nhn?code=114277\"\n",
    "\"http://movie.naver.com/movie/bi/mi/basic.nhn?code=120125\"\n",
    "\"http://movie.naver.com/movie/bi/mi/basic.nhn?code=67769\"\n",
    "\"http://movie.naver.com/movie/bi/mi/basic.nhn?code=132933\"\n",
    "\"http://movie.naver.com/movie/bi/mi/point.nhn?code=72562\"\n",
    "\"http://movie.naver.com/movie/bi/mi/basic.nhn?code=79159\"\n",
    "\"http://movie.naver.com/movie/bi/mi/basic.nhn?code=109753\"\n",
    "\"http://movie.naver.com/movie/bi/mi/basic.nhn?code=102817\"\n",
    "\"http://movie.naver.com/movie/bi/mi/basic.nhn?code=112268\"\n",
    "\"http://movie.naver.com/movie/bi/mi/basic.nhn?code=123470\"\n",
    "\"http://movie.naver.com/movie/bi/mi/basic.nhn?code=98149\"\n",
    "\"http://movie.naver.com/movie/bi/mi/basic.nhn?code=115512\"\n",
    "\"http://movie.naver.com/movie/bi/mi/basic.nhn?code=140696\"\n",
    "\"http://movie.naver.com/movie/bi/mi/basic.nhn?code=48246\"\n",
    "\"http://movie.naver.com/movie/bi/mi/basic.nhn?code=51082\"\n",
    "\"http://movie.naver.com/movie/bi/mi/basic.nhn?code=94775\"\n",
    "\"http://movie.naver.com/movie/bi/mi/basic.nhn?code=141259\"\n",
    "\"http://movie.naver.com/movie/bi/mi/basic.nhn?code=120123\"\n",
    "\"http://movie.naver.com/movie/bi/mi/basic.nhn?code=103760\"\n",
    "\"http://movie.naver.com/movie/bi/mi/basic.nhn?code=112040\"\n",
    "\"http://movie.naver.com/movie/bi/mi/basic.nhn?code=88426\"\n",
    "\"http://movie.naver.com/movie/bi/mi/basic.nhn?code=120157\"\n",
    "\"http://movie.naver.com/movie/bi/mi/basic.nhn?code=112039\"\n",
    "\"http://movie.naver.com/movie/bi/mi/basic.nhn?code=102875\"\n",
    "\"http://movie.naver.com/movie/bi/mi/basic.nhn?code=99752\"\n",
    "\"http://movie.naver.com/movie/bi/mi/basic.nhn?code=146506\"\n",
    "\"http://movie.naver.com/movie/bi/mi/basic.nhn?code=122120\"\n",
    "\"http://movie.naver.com/movie/bi/mi/basic.nhn?code=109778\"\n",
    "\"http://movie.naver.com/movie/bi/mi/basic.nhn?code=37038\"\n",
    "\"http://movie.naver.com/movie/bi/mi/basic.nhn?code=54977\"\n",
    "\"http://movie.naver.com/movie/bi/mi/basic.nhn?code=130013\"\n",
    "\"http://movie.naver.com/movie/bi/mi/basic.nhn?code=78726\"\n",
    "\"http://movie.naver.com/movie/bi/mi/basic.nhn?code=155680\"\n",
    "\"http://movie.naver.com/movie/bi/mi/basic.nhn?code=93756\"\n",
    "\"http://movie.naver.com/movie/bi/mi/basic.nhn?code=44911\"\n",
    "\"http://movie.naver.com/movie/bi/mi/basic.nhn?code=115977\"\n",
    "\"http://movie.naver.com/movie/bi/mi/basic.nhn?code=129050\"\n",
    "\"http://movie.naver.com/movie/bi/mi/basic.nhn?code=121922\"\n",
    "\"http://movie.naver.com/movie/bi/mi/basic.nhn?code=122916\"\n",
    "\"http://movie.naver.com/movie/bi/mi/basic.nhn?code=122984\"\n",
    "\"http://movie.naver.com/movie/bi/mi/basic.nhn?code=107924\"\n",
    "\"http://movie.naver.com/movie/bi/mi/basic.nhn?code=112041\"\n"
   ]
  },
  {
   "cell_type": "code",
   "execution_count": 73,
   "metadata": {
    "collapsed": false
   },
   "outputs": [],
   "source": [
    "#pre_score1 = pd.concat([a2,a3,a4,a5,a6,a7,a8,a9,a10,a11,a12,a13,a14,a15,a16,a17,a18,a19,a20,a21,a22,a23,a24,a25,a26,a27,a28,a29,a30,a31,a32,a33,a34,a35,a36,a37,a38,a39,a40,a41,a42,a43,a44,a45,a46,a47,a48,a49,a50,a51,a52,a53,a54,a55,a56,a57])\n",
    "movie_review1 = pd.concat([c1,c2,c3,c4,c5,c6,c7,c8,c9,c10,c11,c12,c13,c14,c15,c16,c17,c18,c19,c20,c21,c22,c23,c24,c25,c26,c27,c29,c30,c31,c32,c33,c34,c35,c36,c37,c38,c39,c40,c41,c42,c43,c44,c45,c46,c47,c48,c49,c50,c51,c52,c53,c54,c55,c56,c57])\n",
    "\n",
    "#pre_score1\n",
    "#movie_review1.to_csv(\"review_36.csv\")\n",
    "#pre_score1.to_csv(\"pre_score_36.csv\")"
   ]
  }
 ],
 "metadata": {
  "anaconda-cloud": {},
  "kernelspec": {
   "display_name": "Python [conda root]",
   "language": "python",
   "name": "conda-root-py"
  },
  "language_info": {
   "codemirror_mode": {
    "name": "ipython",
    "version": 3
   },
   "file_extension": ".py",
   "mimetype": "text/x-python",
   "name": "python",
   "nbconvert_exporter": "python",
   "pygments_lexer": "ipython3",
   "version": "3.5.2"
  }
 },
 "nbformat": 4,
 "nbformat_minor": 2
}
