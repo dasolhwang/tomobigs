{
 "cells": [
  {
   "cell_type": "code",
   "execution_count": 1,
   "metadata": {
    "collapsed": true
   },
   "outputs": [],
   "source": [
    "import pandas as pd"
   ]
  },
  {
   "cell_type": "code",
   "execution_count": 6,
   "metadata": {
    "collapsed": false
   },
   "outputs": [],
   "source": [
    "data = pd.read_csv(\"review_final_38.csv\", encoding=\"cp949\")\n",
    "del data[\"Unnamed: 0\"]"
   ]
  },
  {
   "cell_type": "code",
   "execution_count": 7,
   "metadata": {
    "collapsed": true
   },
   "outputs": [],
   "source": [
    "import re\n",
    "data[\"reple\"] = [i.replace(\"BEST\",\"\") for i in data[\"reple\"]]\n",
    "def token_word(line):    \n",
    "    hangul = re.compile('[^ㄱ-ㅣ가-힣]+') # 한글과 띄어쓰기를 제외한 모든 글자\n",
    "    # hangul = re.compile('[^ \\u3131-\\u3163\\uac00-\\ud7a3]+')  # 위와 동일\n",
    "    result = hangul.sub(' ', line) # 한글과 띄어쓰기를 제외한 모든 부분을 제거\n",
    "    \n",
    "    return result"
   ]
  },
  {
   "cell_type": "code",
   "execution_count": 8,
   "metadata": {
    "collapsed": true
   },
   "outputs": [],
   "source": [
    "reple = [k for k in data[\"reple\"]]\n",
    "reple = [token_word(k) for k in reple]"
   ]
  },
  {
   "cell_type": "code",
   "execution_count": 91,
   "metadata": {
    "collapsed": false
   },
   "outputs": [
    {
     "data": {
      "text/plain": [
       "'강동원 너 나오면 꼭 보러가는거 알지 최소 다섯번 '"
      ]
     },
     "execution_count": 91,
     "metadata": {},
     "output_type": "execute_result"
    }
   ],
   "source": [
    "reple[0]"
   ]
  },
  {
   "cell_type": "code",
   "execution_count": 9,
   "metadata": {
    "collapsed": true
   },
   "outputs": [],
   "source": [
    "from konlpy.tag import Twitter\n",
    "twitter = Twitter()\n",
    "token = [twitter.morphs(i) for i in reple]"
   ]
  },
  {
   "cell_type": "code",
   "execution_count": 28,
   "metadata": {
    "collapsed": false
   },
   "outputs": [],
   "source": [
    "all_token = [j for i in token for j in i if len(j)>=2]"
   ]
  },
  {
   "cell_type": "code",
   "execution_count": 157,
   "metadata": {
    "collapsed": false
   },
   "outputs": [],
   "source": [
    "all_token = pd.Series(all_token)\n",
    "vocab = all_token.value_counts()"
   ]
  },
  {
   "cell_type": "code",
   "execution_count": 158,
   "metadata": {
    "collapsed": false
   },
   "outputs": [],
   "source": [
    "vocab = vocab.index\n",
    "vocab_list = [i for i in vocab]"
   ]
  },
  {
   "cell_type": "code",
   "execution_count": 159,
   "metadata": {
    "collapsed": false
   },
   "outputs": [],
   "source": [
    "voca = vocab_list[:10000] # 욕하는(982) [40000]"
   ]
  },
  {
   "cell_type": "code",
   "execution_count": 77,
   "metadata": {
    "collapsed": false
   },
   "outputs": [],
   "source": [
    "from sklearn.feature_extraction.text import CountVectorizer"
   ]
  },
  {
   "cell_type": "code",
   "execution_count": 160,
   "metadata": {
    "collapsed": false
   },
   "outputs": [],
   "source": [
    "vect = CountVectorizer(min_df=100).fit(reple)"
   ]
  },
  {
   "cell_type": "code",
   "execution_count": 161,
   "metadata": {
    "collapsed": false
   },
   "outputs": [
    {
     "data": {
      "text/plain": [
       "936"
      ]
     },
     "execution_count": 161,
     "metadata": {},
     "output_type": "execute_result"
    }
   ],
   "source": [
    "vo = vect.vocabulary_.keys()\n",
    "len(vo)"
   ]
  },
  {
   "cell_type": "code",
   "execution_count": 162,
   "metadata": {
    "collapsed": false
   },
   "outputs": [],
   "source": [
    "vector = vect.transform(reple[:10000]).toarray()"
   ]
  },
  {
   "cell_type": "code",
   "execution_count": 163,
   "metadata": {
    "collapsed": false
   },
   "outputs": [],
   "source": [
    "X = vector"
   ]
  },
  {
   "cell_type": "code",
   "execution_count": 164,
   "metadata": {
    "collapsed": false
   },
   "outputs": [],
   "source": [
    "X = pd.DataFrame(X, columns=vo)"
   ]
  },
  {
   "cell_type": "code",
   "execution_count": 166,
   "metadata": {
    "collapsed": false
   },
   "outputs": [
    {
     "data": {
      "text/plain": [
       "(10000, 936)"
      ]
     },
     "execution_count": 166,
     "metadata": {},
     "output_type": "execute_result"
    }
   ],
   "source": [
    "X.shape"
   ]
  },
  {
   "cell_type": "code",
   "execution_count": 167,
   "metadata": {
    "collapsed": false
   },
   "outputs": [],
   "source": [
    "y = data[\"y\"][:10000]"
   ]
  },
  {
   "cell_type": "code",
   "execution_count": 168,
   "metadata": {
    "collapsed": false
   },
   "outputs": [],
   "source": [
    "from sklearn.cross_validation import train_test_split # 버전에 따라 다름\n",
    "\n",
    "train_X, test_X,train_Y,test_Y = train_test_split(X, y, random_state = 0)"
   ]
  },
  {
   "cell_type": "code",
   "execution_count": 184,
   "metadata": {
    "collapsed": false
   },
   "outputs": [
    {
     "name": "stdout",
     "output_type": "stream",
     "text": [
      "Best alpha :  0.0003\n",
      "Best alpha :  0.000315\n",
      "lasso는 변수를 몇개 선택했니? :  247\n",
      "lasso는 변수를 몇개 버렸니? :  689\n"
     ]
    }
   ],
   "source": [
    "from sklearn.linear_model import RidgeCV, LassoCV, ElasticNetCV\n",
    "lasso = LassoCV(alphas = [ 0.002,0.004,0.005, 0.007,\n",
    "                          0.0001, 0.0003, 0.0006, 0.001, 0.00003, 0.00006, 1,2,3,4])\n",
    "lasso.fit(train_X, train_Y)\n",
    "alpha = lasso.alpha_\n",
    "print(\"Best alpha : \", alpha)\n",
    "\n",
    "lasso = LassoCV(alphas = [alpha *.6, alpha * .65, alpha * .7,alpha * .75,\n",
    "                         alpha * .8, alpha * .85, alpha * .9, alpha * .95,\n",
    "                         alpha * 1.05, alpha * 1.1, alpha * 1.15, alpha * 1.25,\n",
    "                         alpha * 1.3, alpha * 1.35, alpha * 1.4],\n",
    "               max_iter = 50000, cv=10)\n",
    "lasso.fit(train_X, train_Y)\n",
    "alpha = lasso.alpha_\n",
    "print(\"Best alpha : \", alpha)\n",
    "pred_lasso = lasso.predict(test_X)\n",
    "#print('Accuracy: %.2f' % accuracy_score(test_Y, pred_lasso))\n",
    "\n",
    "coefs = pd.Series(lasso.coef_, index = train_X.columns)\n",
    "print(\"lasso는 변수를 몇개 선택했니? : \", sum(coefs!=0)) \n",
    "print(\"lasso는 변수를 몇개 버렸니? : \",sum(coefs==0)) \n"
   ]
  },
  {
   "cell_type": "code",
   "execution_count": 173,
   "metadata": {
    "collapsed": false
   },
   "outputs": [],
   "source": [
    "coef = pd.DataFrame(lasso.coef_, columns=[\"value\"])"
   ]
  },
  {
   "cell_type": "code",
   "execution_count": 176,
   "metadata": {
    "collapsed": false
   },
   "outputs": [],
   "source": [
    "coef[coef[\"value\"] > 0] = 1\n",
    "coef[coef[\"value\"] < 0] = 0"
   ]
  },
  {
   "cell_type": "code",
   "execution_count": 179,
   "metadata": {
    "collapsed": false
   },
   "outputs": [],
   "source": [
    "coef = [i for i in coef[\"value\"]]"
   ]
  },
  {
   "cell_type": "code",
   "execution_count": 197,
   "metadata": {
    "collapsed": false
   },
   "outputs": [],
   "source": [
    "xx = X\n",
    "for i in range(len(X)):\n",
    "    xx.loc[i] =xx.loc[i] *coef "
   ]
  },
  {
   "cell_type": "code",
   "execution_count": 209,
   "metadata": {
    "collapsed": false
   },
   "outputs": [],
   "source": [
    "k=[]\n",
    "for i in range(len(X)):\n",
    "    k.append(sum(xx.loc[i]))"
   ]
  },
  {
   "cell_type": "code",
   "execution_count": 212,
   "metadata": {
    "collapsed": false
   },
   "outputs": [],
   "source": [
    "K = pd.DataFrame(k, columns=[\"1\"])"
   ]
  },
  {
   "cell_type": "code",
   "execution_count": 220,
   "metadata": {
    "collapsed": false
   },
   "outputs": [],
   "source": [
    "positive_index = K[K[\"1\"] > 1].index"
   ]
  },
  {
   "cell_type": "code",
   "execution_count": 233,
   "metadata": {
    "collapsed": false
   },
   "outputs": [
    {
     "data": {
      "text/html": [
       "<div>\n",
       "<table border=\"1\" class=\"dataframe\">\n",
       "  <thead>\n",
       "    <tr style=\"text-align: right;\">\n",
       "      <th></th>\n",
       "      <th>0</th>\n",
       "    </tr>\n",
       "  </thead>\n",
       "  <tbody>\n",
       "    <tr>\n",
       "      <th>0</th>\n",
       "      <td>강동원 너 나오면 꼭 보러가는거 알지 최소 다섯번</td>\n",
       "    </tr>\n",
       "    <tr>\n",
       "      <th>2</th>\n",
       "      <td>황정민 이번작품도 기대하겠습니다</td>\n",
       "    </tr>\n",
       "    <tr>\n",
       "      <th>3</th>\n",
       "      <td>황정민 이번 영화 다들 장난 아닌듯</td>\n",
       "    </tr>\n",
       "    <tr>\n",
       "      <th>4</th>\n",
       "      <td>동원오빠 훌륭한연기 기대할게요 응원합니다</td>\n",
       "    </tr>\n",
       "    <tr>\n",
       "      <th>5</th>\n",
       "      <td>와아아아 강동원 나와라아아아아</td>\n",
       "    </tr>\n",
       "    <tr>\n",
       "      <th>8</th>\n",
       "      <td>정민이형 이번에도 기대</td>\n",
       "    </tr>\n",
       "    <tr>\n",
       "      <th>12</th>\n",
       "      <td>올해안에꼭개봉했으면ㅠㅠ강동원 남우주연상 후보가자</td>\n",
       "    </tr>\n",
       "    <tr>\n",
       "      <th>13</th>\n",
       "      <td>강 동 원 사랑해요</td>\n",
       "    </tr>\n",
       "    <tr>\n",
       "      <th>15</th>\n",
       "      <td>강동원꼭나와라라아아아</td>\n",
       "    </tr>\n",
       "    <tr>\n",
       "      <th>16</th>\n",
       "      <td>강동원이 나오면 그냥 닥치고 봐야한다</td>\n",
       "    </tr>\n",
       "    <tr>\n",
       "      <th>17</th>\n",
       "      <td>국제시장 황정민 쩔던데 이번작도 대박나길</td>\n",
       "    </tr>\n",
       "    <tr>\n",
       "      <th>18</th>\n",
       "      <td>그냥 캐스팅만으로도 대박날것같은이예감 강동원오빠쨔응</td>\n",
       "    </tr>\n",
       "    <tr>\n",
       "      <th>19</th>\n",
       "      <td>황정민과 강동원 이성민을 한번에 볼 수가 있다니</td>\n",
       "    </tr>\n",
       "    <tr>\n",
       "      <th>20</th>\n",
       "      <td>황정민과 강동원이라니 게다가 이성민과 박성웅 배우들의 케미와 연기 정말 기대된다</td>\n",
       "    </tr>\n",
       "    <tr>\n",
       "      <th>22</th>\n",
       "      <td>와 황정민과 강동원의 만남 말다했네뭐</td>\n",
       "    </tr>\n",
       "    <tr>\n",
       "      <th>23</th>\n",
       "      <td>전과 범 꽃미남 사기꾼 읽자마자 강동원이라는 걸 알았다</td>\n",
       "    </tr>\n",
       "    <tr>\n",
       "      <th>24</th>\n",
       "      <td>요즘 가장 핫한 배우 황정민에다가 강동원이라니 초대박 캐스팅 기대된다</td>\n",
       "    </tr>\n",
       "    <tr>\n",
       "      <th>25</th>\n",
       "      <td>믿음가는 멋진감독 이일형 화이팅 검사외전 기대됩니다</td>\n",
       "    </tr>\n",
       "    <tr>\n",
       "      <th>26</th>\n",
       "      <td>아 대박 참치오빠 열일하신다ㅠㅠ만세</td>\n",
       "    </tr>\n",
       "    <tr>\n",
       "      <th>29</th>\n",
       "      <td>황정민 믿고 기대가득차서 보러갑니다</td>\n",
       "    </tr>\n",
       "    <tr>\n",
       "      <th>30</th>\n",
       "      <td>황정민 강동원이면 할 말 다 했다</td>\n",
       "    </tr>\n",
       "    <tr>\n",
       "      <th>31</th>\n",
       "      <td>하아 황정민에 강동원 까지 나 앓아 누워요 감독님</td>\n",
       "    </tr>\n",
       "    <tr>\n",
       "      <th>32</th>\n",
       "      <td>동원 오빠 당신이기에 봅니다</td>\n",
       "    </tr>\n",
       "    <tr>\n",
       "      <th>33</th>\n",
       "      <td>동원오빠나오면무조건간다</td>\n",
       "    </tr>\n",
       "    <tr>\n",
       "      <th>34</th>\n",
       "      <td>배우라인업은 최강임 영화만 잘빠지면 문제 없이 흥행한다</td>\n",
       "    </tr>\n",
       "    <tr>\n",
       "      <th>35</th>\n",
       "      <td>진짜이건절대안볼수가없다필수다 무 조 건</td>\n",
       "    </tr>\n",
       "    <tr>\n",
       "      <th>38</th>\n",
       "      <td>황정민과 강동원이라니 신선한 조합 정말 기대된다</td>\n",
       "    </tr>\n",
       "    <tr>\n",
       "      <th>41</th>\n",
       "      <td>보조출연 갔다가 황정민 연기보고 소름돋음 이거 꼭볼거임</td>\n",
       "    </tr>\n",
       "    <tr>\n",
       "      <th>42</th>\n",
       "      <td>참치오빠 나오니까 보러감 꺄</td>\n",
       "    </tr>\n",
       "    <tr>\n",
       "      <th>43</th>\n",
       "      <td>배우만 봐도 기대되고 스토리도 재밌을 것 같다</td>\n",
       "    </tr>\n",
       "    <tr>\n",
       "      <th>...</th>\n",
       "      <td>...</td>\n",
       "    </tr>\n",
       "    <tr>\n",
       "      <th>9958</th>\n",
       "      <td>빨리 개봉했으면 좋겠어요</td>\n",
       "    </tr>\n",
       "    <tr>\n",
       "      <th>9959</th>\n",
       "      <td>꼭개봉되야할 영화라고생각합니다 응원합니다</td>\n",
       "    </tr>\n",
       "    <tr>\n",
       "      <th>9961</th>\n",
       "      <td>귀향 후원방법 제이오엔터테인먼트의계좌 우리은행 예금주 조정래 로 직접 송금하는 방식...</td>\n",
       "    </tr>\n",
       "    <tr>\n",
       "      <th>9962</th>\n",
       "      <td>이럴때마다 스크린쿼터제가 무슨 의미인가 싶네요 응원합니다 극장에서 꼭 볼 수 있기를</td>\n",
       "    </tr>\n",
       "    <tr>\n",
       "      <th>9963</th>\n",
       "      <td>이 영화는 개봉 되어야 할 영화중 하나인게 분명합니다</td>\n",
       "    </tr>\n",
       "    <tr>\n",
       "      <th>9964</th>\n",
       "      <td>이건불법다운로드가아닌 실제로 보셔야합니다</td>\n",
       "    </tr>\n",
       "    <tr>\n",
       "      <th>9965</th>\n",
       "      <td>나오면 오기로라도 볼란다 영화 거절햇던 배급사들 이제와서 빙구짓하지말고 좋은 배급사...</td>\n",
       "    </tr>\n",
       "    <tr>\n",
       "      <th>9966</th>\n",
       "      <td>지원부족과 개봉준비만해도 년이 걸렸다는 사실 배급사들의 거절로 노력이 참 쉽지가 않...</td>\n",
       "    </tr>\n",
       "    <tr>\n",
       "      <th>9967</th>\n",
       "      <td>꼭 상영되기를 간절히 바랍니다</td>\n",
       "    </tr>\n",
       "    <tr>\n",
       "      <th>9971</th>\n",
       "      <td>티저영상만 봤는데도 눈물이 나네요</td>\n",
       "    </tr>\n",
       "    <tr>\n",
       "      <th>9972</th>\n",
       "      <td>귀향 후원방법 제이오엔터테인먼트의계좌 우리은행 예금주 조정래 로 직접 송금하는 방...</td>\n",
       "    </tr>\n",
       "    <tr>\n",
       "      <th>9974</th>\n",
       "      <td>꼭보고싶고 꼭봐야되는우리의역사입니다 위안부할머니들항상힘내시고 만수무강하셔야되요 항상...</td>\n",
       "    </tr>\n",
       "    <tr>\n",
       "      <th>9975</th>\n",
       "      <td>정치하는놈들이 거의다 친일판데 개봉되겠나모르겠네 어휴</td>\n",
       "    </tr>\n",
       "    <tr>\n",
       "      <th>9976</th>\n",
       "      <td>후원하려 사이트를 들어가려니 트래픽초과로 차단되었다는데 어떻게해야하나요</td>\n",
       "    </tr>\n",
       "    <tr>\n",
       "      <th>9978</th>\n",
       "      <td>꼭 봐야할 영화이며 꼭 개봉되어야할 영화이다</td>\n",
       "    </tr>\n",
       "    <tr>\n",
       "      <th>9979</th>\n",
       "      <td>빨리 개봉하길 ㅠㅠ</td>\n",
       "    </tr>\n",
       "    <tr>\n",
       "      <th>9980</th>\n",
       "      <td>반대누른놈들은뭐하는새끼들인데매국노가</td>\n",
       "    </tr>\n",
       "    <tr>\n",
       "      <th>9981</th>\n",
       "      <td>꼭봐야할거같아요 꼭볼겁니다 그리고 일본에사는교포분들보고 몇몇일본사람들은 조선인은바퀴...</td>\n",
       "    </tr>\n",
       "    <tr>\n",
       "      <th>9982</th>\n",
       "      <td>보고 싶은데 가슴 먹먹해질까 두렵습니다 그래도 봐야 겠죠</td>\n",
       "    </tr>\n",
       "    <tr>\n",
       "      <th>9984</th>\n",
       "      <td>귀향 우리들의 이야기일 수 있습니다 상영관 더 많아졌음 좋겠어요 나비가 되어 돌아온...</td>\n",
       "    </tr>\n",
       "    <tr>\n",
       "      <th>9989</th>\n",
       "      <td>말이 필요 없는 영화 꼭 보세요</td>\n",
       "    </tr>\n",
       "    <tr>\n",
       "      <th>9990</th>\n",
       "      <td>꼭봣으면하는영화</td>\n",
       "    </tr>\n",
       "    <tr>\n",
       "      <th>9991</th>\n",
       "      <td>일 꼭 보겠습니다</td>\n",
       "    </tr>\n",
       "    <tr>\n",
       "      <th>9992</th>\n",
       "      <td>평론가들 점수 봐라 위안부사건을 영화화한 귀향이 평가될 의미가 있는가 귀향 그자체가...</td>\n",
       "    </tr>\n",
       "    <tr>\n",
       "      <th>9993</th>\n",
       "      <td>상영관 개가 뭐냐 좀더 늘렸음 좋겠다</td>\n",
       "    </tr>\n",
       "    <tr>\n",
       "      <th>9994</th>\n",
       "      <td>대한민국 사람이라면 꼭 봐야될 영화죠</td>\n",
       "    </tr>\n",
       "    <tr>\n",
       "      <th>9995</th>\n",
       "      <td>대한민국 국민이라면 무조건 봐야하는 영화</td>\n",
       "    </tr>\n",
       "    <tr>\n",
       "      <th>9996</th>\n",
       "      <td>글쎄요 누르는사람 머지 사람아닌가</td>\n",
       "    </tr>\n",
       "    <tr>\n",
       "      <th>9998</th>\n",
       "      <td>일본놈들은이영화개봉하면또조작이니뭐니별 을다떨겠지만우라가꼭간직해야될영화라고생각합니디</td>\n",
       "    </tr>\n",
       "    <tr>\n",
       "      <th>9999</th>\n",
       "      <td>이영화에 글쎄요 다는 인간들은 일본인들인가</td>\n",
       "    </tr>\n",
       "  </tbody>\n",
       "</table>\n",
       "<p>7687 rows × 1 columns</p>\n",
       "</div>"
      ],
      "text/plain": [
       "                                                      0\n",
       "0                          강동원 너 나오면 꼭 보러가는거 알지 최소 다섯번 \n",
       "2                                    황정민 이번작품도 기대하겠습니다 \n",
       "3                                  황정민 이번 영화 다들 장난 아닌듯 \n",
       "4                               동원오빠 훌륭한연기 기대할게요 응원합니다 \n",
       "5                                     와아아아 강동원 나와라아아아아 \n",
       "8                                         정민이형 이번에도 기대 \n",
       "12                          올해안에꼭개봉했으면ㅠㅠ강동원 남우주연상 후보가자 \n",
       "13                                          강 동 원 사랑해요 \n",
       "15                                         강동원꼭나와라라아아아 \n",
       "16                                강동원이 나오면 그냥 닥치고 봐야한다 \n",
       "17                              국제시장 황정민 쩔던데 이번작도 대박나길 \n",
       "18                        그냥 캐스팅만으로도 대박날것같은이예감 강동원오빠쨔응 \n",
       "19                          황정민과 강동원 이성민을 한번에 볼 수가 있다니 \n",
       "20        황정민과 강동원이라니 게다가 이성민과 박성웅 배우들의 케미와 연기 정말 기대된다 \n",
       "22                                와 황정민과 강동원의 만남 말다했네뭐 \n",
       "23                      전과 범 꽃미남 사기꾼 읽자마자 강동원이라는 걸 알았다 \n",
       "24              요즘 가장 핫한 배우 황정민에다가 강동원이라니 초대박 캐스팅 기대된다 \n",
       "25                        믿음가는 멋진감독 이일형 화이팅 검사외전 기대됩니다 \n",
       "26                                 아 대박 참치오빠 열일하신다ㅠㅠ만세 \n",
       "29                                 황정민 믿고 기대가득차서 보러갑니다 \n",
       "30                                  황정민 강동원이면 할 말 다 했다 \n",
       "31                         하아 황정민에 강동원 까지 나 앓아 누워요 감독님 \n",
       "32                                     동원 오빠 당신이기에 봅니다 \n",
       "33                                        동원오빠나오면무조건간다 \n",
       "34                      배우라인업은 최강임 영화만 잘빠지면 문제 없이 흥행한다 \n",
       "35                               진짜이건절대안볼수가없다필수다 무 조 건 \n",
       "38                          황정민과 강동원이라니 신선한 조합 정말 기대된다 \n",
       "41                      보조출연 갔다가 황정민 연기보고 소름돋음 이거 꼭볼거임 \n",
       "42                                     참치오빠 나오니까 보러감 꺄 \n",
       "43                           배우만 봐도 기대되고 스토리도 재밌을 것 같다 \n",
       "...                                                 ...\n",
       "9958                                     빨리 개봉했으면 좋겠어요 \n",
       "9959                            꼭개봉되야할 영화라고생각합니다 응원합니다 \n",
       "9961  귀향 후원방법 제이오엔터테인먼트의계좌 우리은행 예금주 조정래 로 직접 송금하는 방식...\n",
       "9962    이럴때마다 스크린쿼터제가 무슨 의미인가 싶네요 응원합니다 극장에서 꼭 볼 수 있기를 \n",
       "9963                     이 영화는 개봉 되어야 할 영화중 하나인게 분명합니다 \n",
       "9964                            이건불법다운로드가아닌 실제로 보셔야합니다 \n",
       "9965  나오면 오기로라도 볼란다 영화 거절햇던 배급사들 이제와서 빙구짓하지말고 좋은 배급사...\n",
       "9966  지원부족과 개봉준비만해도 년이 걸렸다는 사실 배급사들의 거절로 노력이 참 쉽지가 않...\n",
       "9967                                  꼭 상영되기를 간절히 바랍니다 \n",
       "9971                                티저영상만 봤는데도 눈물이 나네요 \n",
       "9972   귀향 후원방법 제이오엔터테인먼트의계좌 우리은행 예금주 조정래 로 직접 송금하는 방...\n",
       "9974  꼭보고싶고 꼭봐야되는우리의역사입니다 위안부할머니들항상힘내시고 만수무강하셔야되요 항상...\n",
       "9975                     정치하는놈들이 거의다 친일판데 개봉되겠나모르겠네 어휴 \n",
       "9976           후원하려 사이트를 들어가려니 트래픽초과로 차단되었다는데 어떻게해야하나요 \n",
       "9978                          꼭 봐야할 영화이며 꼭 개봉되어야할 영화이다 \n",
       "9979                                        빨리 개봉하길 ㅠㅠ \n",
       "9980                               반대누른놈들은뭐하는새끼들인데매국노가 \n",
       "9981  꼭봐야할거같아요 꼭볼겁니다 그리고 일본에사는교포분들보고 몇몇일본사람들은 조선인은바퀴...\n",
       "9982                   보고 싶은데 가슴 먹먹해질까 두렵습니다 그래도 봐야 겠죠 \n",
       "9984  귀향 우리들의 이야기일 수 있습니다 상영관 더 많아졌음 좋겠어요 나비가 되어 돌아온...\n",
       "9989                                 말이 필요 없는 영화 꼭 보세요 \n",
       "9990                                          꼭봣으면하는영화 \n",
       "9991                                         일 꼭 보겠습니다 \n",
       "9992  평론가들 점수 봐라 위안부사건을 영화화한 귀향이 평가될 의미가 있는가 귀향 그자체가...\n",
       "9993                              상영관 개가 뭐냐 좀더 늘렸음 좋겠다 \n",
       "9994                              대한민국 사람이라면 꼭 봐야될 영화죠 \n",
       "9995                            대한민국 국민이라면 무조건 봐야하는 영화 \n",
       "9996                                글쎄요 누르는사람 머지 사람아닌가 \n",
       "9998     일본놈들은이영화개봉하면또조작이니뭐니별 을다떨겠지만우라가꼭간직해야될영화라고생각합니디 \n",
       "9999                           이영화에 글쎄요 다는 인간들은 일본인들인가 \n",
       "\n",
       "[7687 rows x 1 columns]"
      ]
     },
     "execution_count": 233,
     "metadata": {},
     "output_type": "execute_result"
    }
   ],
   "source": [
    "sample.drop(positive_index)"
   ]
  },
  {
   "cell_type": "code",
   "execution_count": 232,
   "metadata": {
    "collapsed": false
   },
   "outputs": [
    {
     "data": {
      "text/html": [
       "<div>\n",
       "<table border=\"1\" class=\"dataframe\">\n",
       "  <thead>\n",
       "    <tr style=\"text-align: right;\">\n",
       "      <th></th>\n",
       "      <th>0</th>\n",
       "    </tr>\n",
       "  </thead>\n",
       "  <tbody>\n",
       "    <tr>\n",
       "      <th>1</th>\n",
       "      <td>강동원 황정민 이성민 티켓파워는 걱정없고 영화만 잘 빠지면 백퍼 흥행한다</td>\n",
       "    </tr>\n",
       "    <tr>\n",
       "      <th>6</th>\n",
       "      <td>강동원 기대할게요</td>\n",
       "    </tr>\n",
       "    <tr>\n",
       "      <th>7</th>\n",
       "      <td>여기 강동원 나오나요 강동원 보고싶다ㅜㅜ</td>\n",
       "    </tr>\n",
       "    <tr>\n",
       "      <th>9</th>\n",
       "      <td>황정민 강동원 걍 지릴듯</td>\n",
       "    </tr>\n",
       "    <tr>\n",
       "      <th>10</th>\n",
       "      <td>황정민 강동원 후덜덜 짱 재미있을 듯</td>\n",
       "    </tr>\n",
       "    <tr>\n",
       "      <th>11</th>\n",
       "      <td>강동원 꼭 나와라 황정민 강동원 조합 보고싶다</td>\n",
       "    </tr>\n",
       "    <tr>\n",
       "      <th>14</th>\n",
       "      <td>강동원 쉬기는 하는거임ㅠ 작품 진짜 많이 한다</td>\n",
       "    </tr>\n",
       "    <tr>\n",
       "      <th>21</th>\n",
       "      <td>강동원 짝 강동원 짝</td>\n",
       "    </tr>\n",
       "    <tr>\n",
       "      <th>27</th>\n",
       "      <td>말이필요없는 조합 황정민 강동원</td>\n",
       "    </tr>\n",
       "    <tr>\n",
       "      <th>28</th>\n",
       "      <td>황정민 강동원 박성웅 무조건 위</td>\n",
       "    </tr>\n",
       "    <tr>\n",
       "      <th>36</th>\n",
       "      <td>황정민 강동원 다들 기대하자</td>\n",
       "    </tr>\n",
       "    <tr>\n",
       "      <th>37</th>\n",
       "      <td>강동원 촬영 겹쳐서 안할까 걱정했는데 강동원 최고시다</td>\n",
       "    </tr>\n",
       "    <tr>\n",
       "      <th>39</th>\n",
       "      <td>황정민 나오면 꼭 보는 인ㅋㅋ</td>\n",
       "    </tr>\n",
       "    <tr>\n",
       "      <th>40</th>\n",
       "      <td>믿고 보는 배우 이성민 배우님 악역 연기 정말 기대됩니다 손님에서도 악역 연기 넘 ...</td>\n",
       "    </tr>\n",
       "    <tr>\n",
       "      <th>44</th>\n",
       "      <td>강동원 황정민 연기 기대된다영화 대박나길</td>\n",
       "    </tr>\n",
       "    <tr>\n",
       "      <th>45</th>\n",
       "      <td>하 황정민 강동원 ㅜㅜㅜ생각만해도설렘 박성웅까지 강동원은 진심 리즈때 필름으로 많이...</td>\n",
       "    </tr>\n",
       "    <tr>\n",
       "      <th>49</th>\n",
       "      <td>예상 리뷰 극 전개가 치밀한데 강원동이 잘생겼고 황정민 연기는 더 이상 말이 필오없...</td>\n",
       "    </tr>\n",
       "    <tr>\n",
       "      <th>50</th>\n",
       "      <td>강동원 껄렁거리는 이미지도 넘넘 사랑스러워 꼭 보러 갑니다</td>\n",
       "    </tr>\n",
       "    <tr>\n",
       "      <th>51</th>\n",
       "      <td>황정민이 검사나 형사로 나오는것만으로도 점만점인데 거기다 강동원이라니 완전기대된다ㅠ...</td>\n",
       "    </tr>\n",
       "    <tr>\n",
       "      <th>52</th>\n",
       "      <td>검은사제들도 재미있게봤는데 검사외전은 얼마나 재미있을까 기대되고 동원오빠가 연달아 ...</td>\n",
       "    </tr>\n",
       "    <tr>\n",
       "      <th>56</th>\n",
       "      <td>황정민아저씨 이번영화도 완전 기대할게요 항상 화이팅하세요</td>\n",
       "    </tr>\n",
       "    <tr>\n",
       "      <th>59</th>\n",
       "      <td>시사회 다녀왔는데 걍 꿀잼 자글자글 쓰고싶은데 스포될까봐 자제함 포인트는 박성웅이 ...</td>\n",
       "    </tr>\n",
       "    <tr>\n",
       "      <th>63</th>\n",
       "      <td>믿고보는 황정민 인간미넘치는 배우 사랑합니다</td>\n",
       "    </tr>\n",
       "    <tr>\n",
       "      <th>64</th>\n",
       "      <td>강동원 사랑해 검사외전이라길래 검은사제들 외전 하악하악 거리고 있었는데 새로운 영화...</td>\n",
       "    </tr>\n",
       "    <tr>\n",
       "      <th>79</th>\n",
       "      <td>믿고보는 배우 황정민</td>\n",
       "    </tr>\n",
       "    <tr>\n",
       "      <th>80</th>\n",
       "      <td>ㅁㅊ 황정민 강동원 콤비라니 이건꼭봐야된다</td>\n",
       "    </tr>\n",
       "    <tr>\n",
       "      <th>84</th>\n",
       "      <td>강동원 찬양하라 찬미하라 경배하라 샹 ㅋㅋㅋ</td>\n",
       "    </tr>\n",
       "    <tr>\n",
       "      <th>94</th>\n",
       "      <td>감독님 진짜 평타만 쳐줘도 강동원 황정민이면 천만가능해요 열일부탁드림 ㅠㅠ</td>\n",
       "    </tr>\n",
       "    <tr>\n",
       "      <th>103</th>\n",
       "      <td>강동원 황정민 이건 말이 필요없다 극장 가서 바로 ㄱㄱ</td>\n",
       "    </tr>\n",
       "    <tr>\n",
       "      <th>106</th>\n",
       "      <td>강동원 진짜 재대한 이후에 이렇게 소처럼 작품 많이 해줘서 너무 고맙고 사랑스럽다 ...</td>\n",
       "    </tr>\n",
       "    <tr>\n",
       "      <th>...</th>\n",
       "      <td>...</td>\n",
       "    </tr>\n",
       "    <tr>\n",
       "      <th>9920</th>\n",
       "      <td>보면 슬프고 화나지만 이런 영화가 개봉되야 더 많은사람들이 알고 같이 분노했으면 좋겠다</td>\n",
       "    </tr>\n",
       "    <tr>\n",
       "      <th>9923</th>\n",
       "      <td>시사회 다녀왔는데 우리나라 국민으로써 꼭 봐야할 영화인것같아요 위안부할머니들의 아픔...</td>\n",
       "    </tr>\n",
       "    <tr>\n",
       "      <th>9928</th>\n",
       "      <td>방금 라디오에서 감독인터뷰 나오는데 참나 진짜 일본과 관계때문에 이런것에 지원을 안...</td>\n",
       "    </tr>\n",
       "    <tr>\n",
       "      <th>9931</th>\n",
       "      <td>아니 이상한 영화들도 개봉하는데 이게 배급사가 없다는게 이해가 안가네 의도적인건가 ...</td>\n",
       "    </tr>\n",
       "    <tr>\n",
       "      <th>9932</th>\n",
       "      <td>개봉 기다리고 있겠습니다</td>\n",
       "    </tr>\n",
       "    <tr>\n",
       "      <th>9934</th>\n",
       "      <td>제발 이번년도 안에 개봉이 되었으면 좋겠습니다 얼마안남은 할머니분들의 한을 풀어줄 ...</td>\n",
       "    </tr>\n",
       "    <tr>\n",
       "      <th>9936</th>\n",
       "      <td>백번도 더 보고싶은 영화입니다 개봉할 날만을 기다리고 있겠습니다</td>\n",
       "    </tr>\n",
       "    <tr>\n",
       "      <th>9937</th>\n",
       "      <td>이 영화가 제작비 문제로 어려움을 겪고 있다고 들었는데 얼른 개봉되서 위안부 문제를...</td>\n",
       "    </tr>\n",
       "    <tr>\n",
       "      <th>9938</th>\n",
       "      <td>반드시 개봉되어야 합니다 귀향이 개봉되어 많은 사람들이 볼 수 있기를 간절히 기도합니다</td>\n",
       "    </tr>\n",
       "    <tr>\n",
       "      <th>9941</th>\n",
       "      <td>꼭보겠습니다 할머님들의 고단함을 보고 저희들이 더욱더 곰곰히 위안부문제를 생각해볼 ...</td>\n",
       "    </tr>\n",
       "    <tr>\n",
       "      <th>9942</th>\n",
       "      <td>작년부터 기다렸던 영화인데 올해 꼭 개봉해서 많은 사람들이 우리의 아픈 상처를 기억...</td>\n",
       "    </tr>\n",
       "    <tr>\n",
       "      <th>9943</th>\n",
       "      <td>제발 상영이 되면 좋겠네요 개봉한다면 꼭 보러 갈것입니다</td>\n",
       "    </tr>\n",
       "    <tr>\n",
       "      <th>9946</th>\n",
       "      <td>꼭 보고 싶습니다 위안부에 관한 책들도 많이 읽어봤지만 이 영화도 꼭 보고싶네요 우...</td>\n",
       "    </tr>\n",
       "    <tr>\n",
       "      <th>9947</th>\n",
       "      <td>이 영화 꼭 개봉되어서 세상에 우리 나라의 슬픔아픔 모두 알렸으면 좋겠다 우리나라 ...</td>\n",
       "    </tr>\n",
       "    <tr>\n",
       "      <th>9948</th>\n",
       "      <td>역사를 잊은 민족에게 미래는 없다는 말처럼 우리나라도 일제강점기때 일본이 했던 일들...</td>\n",
       "    </tr>\n",
       "    <tr>\n",
       "      <th>9949</th>\n",
       "      <td>영화가 꼭 개봉되면 좋겠어요 오랜시간 동안 힘들게 만드신 영화라 하시니 무척 기대되네요</td>\n",
       "    </tr>\n",
       "    <tr>\n",
       "      <th>9950</th>\n",
       "      <td>이 영화가 개봉되면 위안부에 대해 널리 알릴 수 있다고 생각합니다ㅠㅠㅜ 그리고 제작...</td>\n",
       "    </tr>\n",
       "    <tr>\n",
       "      <th>9956</th>\n",
       "      <td>꼭 영화가 상영되길 세계사람들이 알아줬으면 아니면 그냥 한번쯤이라도 이영화의 내용을...</td>\n",
       "    </tr>\n",
       "    <tr>\n",
       "      <th>9960</th>\n",
       "      <td>영화가 꼭 개봉되길 어떤방법이면 ㅠㅠ</td>\n",
       "    </tr>\n",
       "    <tr>\n",
       "      <th>9968</th>\n",
       "      <td>제발 많은 분들의 후원과 응원으로 개봉되길 바랍니다</td>\n",
       "    </tr>\n",
       "    <tr>\n",
       "      <th>9969</th>\n",
       "      <td>이 영화를 개봉안하게하는 자체가 너무 웃긴다 아직 내 나이는 고 지만 정말 너무들하...</td>\n",
       "    </tr>\n",
       "    <tr>\n",
       "      <th>9970</th>\n",
       "      <td>꼭 개봉했으면 좋겠습니다</td>\n",
       "    </tr>\n",
       "    <tr>\n",
       "      <th>9973</th>\n",
       "      <td>꼭 배급사를 찾아서 꼭 개봉했으면 좋겠습니다 정말로요</td>\n",
       "    </tr>\n",
       "    <tr>\n",
       "      <th>9977</th>\n",
       "      <td>대형배급사들 제발 정신차리고 상업영화만 흥행하게 계속 상영하지말고 제발 이렇게 의...</td>\n",
       "    </tr>\n",
       "    <tr>\n",
       "      <th>9983</th>\n",
       "      <td>대한민국 국민이라면 꼭 봐야할 영화입니다</td>\n",
       "    </tr>\n",
       "    <tr>\n",
       "      <th>9985</th>\n",
       "      <td>많은 곳에서 상영되길 기원합니다</td>\n",
       "    </tr>\n",
       "    <tr>\n",
       "      <th>9986</th>\n",
       "      <td>박근혜아버지 김무성 아버지가 이 영화를 싫어 합니다 새누리당이 이 영화를 싫어합니다...</td>\n",
       "    </tr>\n",
       "    <tr>\n",
       "      <th>9987</th>\n",
       "      <td>제발 많은 영화관에서 개봉했으면좋겠어요 그리고 이걸보고 애국심팔이에 구질구질하다고 ...</td>\n",
       "    </tr>\n",
       "    <tr>\n",
       "      <th>9988</th>\n",
       "      <td>글쎄요 생각보다 많은거 보고 빡쳐서 뭐라고 썻나볼려고 눌렀더니 글쎄요에 체크됨 이건...</td>\n",
       "    </tr>\n",
       "    <tr>\n",
       "      <th>9997</th>\n",
       "      <td>먼저 가신 위안부 할머니들에게 죄송한마음이고 국가의 힘이 부족하면 힘없는 백성이 당...</td>\n",
       "    </tr>\n",
       "  </tbody>\n",
       "</table>\n",
       "<p>2313 rows × 1 columns</p>\n",
       "</div>"
      ],
      "text/plain": [
       "                                                      0\n",
       "1             강동원 황정민 이성민 티켓파워는 걱정없고 영화만 잘 빠지면 백퍼 흥행한다 \n",
       "6                                            강동원 기대할게요 \n",
       "7                               여기 강동원 나오나요 강동원 보고싶다ㅜㅜ \n",
       "9                                        황정민 강동원 걍 지릴듯 \n",
       "10                                황정민 강동원 후덜덜 짱 재미있을 듯 \n",
       "11                           강동원 꼭 나와라 황정민 강동원 조합 보고싶다 \n",
       "14                           강동원 쉬기는 하는거임ㅠ 작품 진짜 많이 한다 \n",
       "21                                         강동원 짝 강동원 짝 \n",
       "27                                   말이필요없는 조합 황정민 강동원 \n",
       "28                                   황정민 강동원 박성웅 무조건 위 \n",
       "36                                     황정민 강동원 다들 기대하자 \n",
       "37                       강동원 촬영 겹쳐서 안할까 걱정했는데 강동원 최고시다 \n",
       "39                                    황정민 나오면 꼭 보는 인ㅋㅋ \n",
       "40    믿고 보는 배우 이성민 배우님 악역 연기 정말 기대됩니다 손님에서도 악역 연기 넘 ...\n",
       "44                              강동원 황정민 연기 기대된다영화 대박나길 \n",
       "45    하 황정민 강동원 ㅜㅜㅜ생각만해도설렘 박성웅까지 강동원은 진심 리즈때 필름으로 많이...\n",
       "49    예상 리뷰 극 전개가 치밀한데 강원동이 잘생겼고 황정민 연기는 더 이상 말이 필오없...\n",
       "50                    강동원 껄렁거리는 이미지도 넘넘 사랑스러워 꼭 보러 갑니다 \n",
       "51    황정민이 검사나 형사로 나오는것만으로도 점만점인데 거기다 강동원이라니 완전기대된다ㅠ...\n",
       "52    검은사제들도 재미있게봤는데 검사외전은 얼마나 재미있을까 기대되고 동원오빠가 연달아 ...\n",
       "56                     황정민아저씨 이번영화도 완전 기대할게요 항상 화이팅하세요 \n",
       "59    시사회 다녀왔는데 걍 꿀잼 자글자글 쓰고싶은데 스포될까봐 자제함 포인트는 박성웅이 ...\n",
       "63                            믿고보는 황정민 인간미넘치는 배우 사랑합니다 \n",
       "64    강동원 사랑해 검사외전이라길래 검은사제들 외전 하악하악 거리고 있었는데 새로운 영화...\n",
       "79                                         믿고보는 배우 황정민 \n",
       "80                             ㅁㅊ 황정민 강동원 콤비라니 이건꼭봐야된다 \n",
       "84                            강동원 찬양하라 찬미하라 경배하라 샹 ㅋㅋㅋ \n",
       "94           감독님 진짜 평타만 쳐줘도 강동원 황정민이면 천만가능해요 열일부탁드림 ㅠㅠ \n",
       "103                     강동원 황정민 이건 말이 필요없다 극장 가서 바로 ㄱㄱ \n",
       "106   강동원 진짜 재대한 이후에 이렇게 소처럼 작품 많이 해줘서 너무 고맙고 사랑스럽다 ...\n",
       "...                                                 ...\n",
       "9920  보면 슬프고 화나지만 이런 영화가 개봉되야 더 많은사람들이 알고 같이 분노했으면 좋겠다 \n",
       "9923  시사회 다녀왔는데 우리나라 국민으로써 꼭 봐야할 영화인것같아요 위안부할머니들의 아픔...\n",
       "9928  방금 라디오에서 감독인터뷰 나오는데 참나 진짜 일본과 관계때문에 이런것에 지원을 안...\n",
       "9931  아니 이상한 영화들도 개봉하는데 이게 배급사가 없다는게 이해가 안가네 의도적인건가 ...\n",
       "9932                                     개봉 기다리고 있겠습니다 \n",
       "9934  제발 이번년도 안에 개봉이 되었으면 좋겠습니다 얼마안남은 할머니분들의 한을 풀어줄 ...\n",
       "9936               백번도 더 보고싶은 영화입니다 개봉할 날만을 기다리고 있겠습니다 \n",
       "9937  이 영화가 제작비 문제로 어려움을 겪고 있다고 들었는데 얼른 개봉되서 위안부 문제를...\n",
       "9938  반드시 개봉되어야 합니다 귀향이 개봉되어 많은 사람들이 볼 수 있기를 간절히 기도합니다 \n",
       "9941  꼭보겠습니다 할머님들의 고단함을 보고 저희들이 더욱더 곰곰히 위안부문제를 생각해볼 ...\n",
       "9942  작년부터 기다렸던 영화인데 올해 꼭 개봉해서 많은 사람들이 우리의 아픈 상처를 기억...\n",
       "9943                   제발 상영이 되면 좋겠네요 개봉한다면 꼭 보러 갈것입니다 \n",
       "9946  꼭 보고 싶습니다 위안부에 관한 책들도 많이 읽어봤지만 이 영화도 꼭 보고싶네요 우...\n",
       "9947  이 영화 꼭 개봉되어서 세상에 우리 나라의 슬픔아픔 모두 알렸으면 좋겠다 우리나라 ...\n",
       "9948  역사를 잊은 민족에게 미래는 없다는 말처럼 우리나라도 일제강점기때 일본이 했던 일들...\n",
       "9949  영화가 꼭 개봉되면 좋겠어요 오랜시간 동안 힘들게 만드신 영화라 하시니 무척 기대되네요 \n",
       "9950  이 영화가 개봉되면 위안부에 대해 널리 알릴 수 있다고 생각합니다ㅠㅠㅜ 그리고 제작...\n",
       "9956  꼭 영화가 상영되길 세계사람들이 알아줬으면 아니면 그냥 한번쯤이라도 이영화의 내용을...\n",
       "9960                              영화가 꼭 개봉되길 어떤방법이면 ㅠㅠ \n",
       "9968                      제발 많은 분들의 후원과 응원으로 개봉되길 바랍니다 \n",
       "9969  이 영화를 개봉안하게하는 자체가 너무 웃긴다 아직 내 나이는 고 지만 정말 너무들하...\n",
       "9970                                     꼭 개봉했으면 좋겠습니다 \n",
       "9973                     꼭 배급사를 찾아서 꼭 개봉했으면 좋겠습니다 정말로요 \n",
       "9977   대형배급사들 제발 정신차리고 상업영화만 흥행하게 계속 상영하지말고 제발 이렇게 의...\n",
       "9983                            대한민국 국민이라면 꼭 봐야할 영화입니다 \n",
       "9985                                 많은 곳에서 상영되길 기원합니다 \n",
       "9986  박근혜아버지 김무성 아버지가 이 영화를 싫어 합니다 새누리당이 이 영화를 싫어합니다...\n",
       "9987  제발 많은 영화관에서 개봉했으면좋겠어요 그리고 이걸보고 애국심팔이에 구질구질하다고 ...\n",
       "9988  글쎄요 생각보다 많은거 보고 빡쳐서 뭐라고 썻나볼려고 눌렀더니 글쎄요에 체크됨 이건...\n",
       "9997  먼저 가신 위안부 할머니들에게 죄송한마음이고 국가의 힘이 부족하면 힘없는 백성이 당...\n",
       "\n",
       "[2313 rows x 1 columns]"
      ]
     },
     "execution_count": 232,
     "metadata": {},
     "output_type": "execute_result"
    }
   ],
   "source": [
    "sample1 = reple[:10000]\n",
    "sample = pd.DataFrame(sample1)\n",
    "sample.loc[positive_index]"
   ]
  },
  {
   "cell_type": "code",
   "execution_count": 14,
   "metadata": {
    "collapsed": false
   },
   "outputs": [],
   "source": [
    "from gensim.models.word2vec import Word2Vec\n",
    "model = Word2Vec(text_train ,min_count=12, sg=1) # skip-gram"
   ]
  },
  {
   "cell_type": "code",
   "execution_count": 15,
   "metadata": {
    "collapsed": true
   },
   "outputs": [],
   "source": [
    "model.init_sims(replace=True)"
   ]
  },
  {
   "cell_type": "code",
   "execution_count": 16,
   "metadata": {
    "collapsed": true
   },
   "outputs": [],
   "source": [
    "w2v = dict(zip(model.wv.index2word, model.wv.syn0))"
   ]
  }
 ],
 "metadata": {
  "anaconda-cloud": {},
  "kernelspec": {
   "display_name": "Python [default]",
   "language": "python",
   "name": "python3"
  },
  "language_info": {
   "codemirror_mode": {
    "name": "ipython",
    "version": 3
   },
   "file_extension": ".py",
   "mimetype": "text/x-python",
   "name": "python",
   "nbconvert_exporter": "python",
   "pygments_lexer": "ipython3",
   "version": "3.5.2"
  }
 },
 "nbformat": 4,
 "nbformat_minor": 1
}
