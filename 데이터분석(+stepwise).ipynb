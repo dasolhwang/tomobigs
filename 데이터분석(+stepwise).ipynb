{
 "cells": [
  {
   "cell_type": "code",
   "execution_count": 35,
   "metadata": {
    "collapsed": true
   },
   "outputs": [],
   "source": [
    "import pandas as pd\n",
    "import numpy as np\n",
    "import re\n",
    "from scipy.stats import skew\n",
    "from sklearn.preprocessing import Normalizer\n",
    "from sklearn.preprocessing import LabelEncoder"
   ]
  },
  {
   "cell_type": "code",
   "execution_count": 36,
   "metadata": {
    "collapsed": true
   },
   "outputs": [],
   "source": [
    "df = pd.read_csv(\"score_dasol_final.csv\", encoding=\"cp949\")"
   ]
  },
  {
   "cell_type": "code",
   "execution_count": 37,
   "metadata": {
    "collapsed": true
   },
   "outputs": [],
   "source": [
    "def preprocessiong(score):\n",
    "    # 참여인원 (int) 숫자만 남기기\n",
    "    score[\"참여인원\"] = [k.replace(\"명\",\"\") for k in score[\"참여인원\"]]\n",
    "    score[\"참여인원\"] = [k.replace(\"\\r\",\"\") for k in score[\"참여인원\"]]\n",
    "    score[\"참여인원\"] = [k.replace(\"\\n\",\"\") for k in score[\"참여인원\"]]\n",
    "    score[\"참여인원\"] = [int(k) for k in score[\"참여인원\"]]\n",
    "    \n",
    "    # 글쎄요/보고싶어요 0인 데이터 지우기\n",
    "    score = score[score[\"글쎄요\"] != 0]\n",
    "    score = score[score[\"보고싶어요\"] != 0]\n",
    "    \n",
    "    score[\"관심인원\"] = score[\"글쎄요\"] + score[\"보고싶어요\"]\n",
    "    score[\"기대지수\"] = score[\"보고싶어요\"] / score[\"관심인원\"]\n",
    "    \n",
    "    # id 한글만 남기고 / id 길이 변수 만들기\n",
    "    score[\"id\"] = [re.sub(\"[2, , :, ,]\",\"\", id) for id in score[\"id\"]]\n",
    "    score[\"id_length\"] = [len(i) for i in score[\"id\"]]\n",
    "    \n",
    "    # 런타임 (int) 숫자만 남기기\n",
    "    score[\"런타임\"] = [k.replace(\"분\",\"\") for k in score[\"런타임\"]]\n",
    "    score[\"런타임\"] = [int(k) for k in score[\"런타임\"]]\n",
    "    \n",
    "    # 등급 \n",
    "    score[\"등급\"] = [k.replace(\"관람가\",\"\") for k in score[\"등급\"]]\n",
    "    score[\"등급\"] = [k.replace(\" \",\"\") for k in score[\"등급\"]]\n",
    "    score[\"등급\"] = LabelEncoder().fit_transform(score[\"등급\"])\n",
    "    num_cols = score[\"등급\"].max()\n",
    "    \n",
    "    for i in range(num_cols):\n",
    "        col_name = \"등급\" + '_' + str(i)\n",
    "        score[col_name] = score[\"등급\"].apply(lambda x: 1 if x == i else 0)\n",
    "        \n",
    "    # 개봉월 / 개봉년도 나누기\n",
    "    score[\"개봉년도\"] = [k.split(\".\")[0] for k in score[\"개봉일\"]]\n",
    "    score[\"개봉년도\"] = [int(k) for k in score[\"개봉년도\"]]\n",
    "    score[\"개봉월\"] = [k.split(\".\")[1] for k in score[\"개봉일\"]]\n",
    "    score[\"개봉월\"] = [int(k) for k in score[\"개봉월\"]]\n",
    "\n",
    "    # 주연 수 만들기\n",
    "    score[\"주연수\"] = [len(k.split(\",\")) for k in score[\"주연\"]]\n",
    "    score[\"조연수\"] = [len(k.split(\",\")) for k in score[\"조연\"]]\n",
    "    score[\"배우수\"] = score[\"주연수\"] + score[\"조연수\"]\n",
    "\n",
    "\n",
    "    # 장르 string 필요없는 것 제거\n",
    "    k = [i.replace(\"[\",\"\") for i in score[\"장르\"]]\n",
    "    k = [i.replace(\"]\",\"\") for i in k]\n",
    "    k = [i.replace(\"'\",\"\") for i in k]\n",
    "    k = [i.replace(\" \",\"\") for i in k]\n",
    "    k = [i.split(\",\") for i in k] \n",
    "    score[\"장르\"] = k\n",
    "    genre_unique = np.unique([b for a in score[\"장르\"] for b in a])\n",
    "    result = []\n",
    "    for b in score[\"장르\"]:\n",
    "        d=[]\n",
    "        for a in genre_unique:\n",
    "            d.append(int(a in b))\n",
    "        result.append(d)\n",
    "    genre_dummy = pd.DataFrame(result, columns=genre_unique)\n",
    "    \n",
    "    score[\"보고싶어요-2\"] = score[\"보고싶어요\"]**2\n",
    "    score[\"기대지수-2\"] = score[\"기대지수\"]**2\n",
    "    #score[\"참여인원-2\"] = score[\"참여인원\"]**2\n",
    "    score[\"id_length-2\"] = score[\"id_length\"]**2\n",
    "    \n",
    "    return score, genre_dummy"
   ]
  },
  {
   "cell_type": "code",
   "execution_count": 38,
   "metadata": {
    "collapsed": false
   },
   "outputs": [],
   "source": [
    "score, dummy = preprocessiong(df)\n",
    "score.index = [i for i in range(111)]\n",
    "score = score.join(dummy)"
   ]
  },
  {
   "cell_type": "code",
   "execution_count": 41,
   "metadata": {
    "collapsed": false
   },
   "outputs": [],
   "source": [
    "def delete(score):\n",
    "    del score[\"Unnamed: 0\"]\n",
    "    del score[\"장르\"]\n",
    "    del score[\"등급\"]\n",
    "    del score[\"개봉일\"]\n",
    "    del score[\"주연\"]\n",
    "    del score[\"조연\"]\n",
    "    del score[\"id\"]\n",
    "    del score[\"감독\"]\n",
    "delete(score)"
   ]
  },
  {
   "cell_type": "code",
   "execution_count": 44,
   "metadata": {
    "collapsed": false
   },
   "outputs": [],
   "source": [
    "y = score[\"y\"]\n",
    "score = score.drop(\"y\", axis=1)"
   ]
  },
  {
   "cell_type": "code",
   "execution_count": 45,
   "metadata": {
    "collapsed": false
   },
   "outputs": [],
   "source": [
    "from sklearn.cross_validation import train_test_split\n",
    "\n",
    "train_X, test_X = train_test_split(score, test_size = 0.2, random_state=1) # 독립변수만\n",
    "train_Y, test_Y = train_test_split(y, test_size = 0.2, random_state=1) # 종속변수만"
   ]
  },
  {
   "cell_type": "code",
   "execution_count": 46,
   "metadata": {
    "collapsed": false
   },
   "outputs": [],
   "source": [
    "from sklearn.metrics import accuracy_score\n",
    "from sklearn.preprocessing import StandardScaler\n",
    "\n",
    "sc = StandardScaler()\n",
    "sc.fit(train_X)\n",
    "train_X_std = sc.transform(train_X)\n",
    "test_X_std = sc.transform(test_X)"
   ]
  },
  {
   "cell_type": "code",
   "execution_count": 47,
   "metadata": {
    "collapsed": false
   },
   "outputs": [
    {
     "name": "stdout",
     "output_type": "stream",
     "text": [
      "Accuracy: 0.74\n"
     ]
    }
   ],
   "source": [
    "from sklearn.ensemble import RandomForestClassifier\n",
    "rf1 = RandomForestClassifier(criterion=\"entropy\", n_estimators = 100, n_jobs=2, random_state=0)\n",
    "rf1.fit(train_X_std, train_Y)\n",
    "pred_rf1 = rf1.predict(test_X_std) \n",
    "print('Accuracy: %.2f' % accuracy_score(test_Y, pred_rf1))"
   ]
  },
  {
   "cell_type": "code",
   "execution_count": 48,
   "metadata": {
    "collapsed": false
   },
   "outputs": [
    {
     "data": {
      "text/plain": [
       "보고싶어요      0.106417\n",
       "기대지수       0.100114\n",
       "보고싶어요-2    0.083005\n",
       "글쎄요        0.074157\n",
       "참여인원       0.073080\n",
       "dtype: float64"
      ]
     },
     "execution_count": 48,
     "metadata": {},
     "output_type": "execute_result"
    }
   ],
   "source": [
    "coef = pd.Series(rf1.feature_importances_, index = train_X.columns).sort_values(ascending=False)\n",
    "coef.head(5)"
   ]
  },
  {
   "cell_type": "code",
   "execution_count": 60,
   "metadata": {
    "collapsed": false
   },
   "outputs": [
    {
     "name": "stdout",
     "output_type": "stream",
     "text": [
      "CV accuracy scores: [ 0.76923077  0.61538462  0.69230769  0.84615385  0.61538462  1.\n",
      "  0.72727273]\n",
      "CV accuracy: 0.752 +/- 0.127\n"
     ]
    }
   ],
   "source": [
    "from sklearn.cross_validation import cross_val_score\n",
    "\n",
    "scores = cross_val_score(estimator=rf1,X=train_X,y=train_Y,cv=7,n_jobs=1) \n",
    "print('CV accuracy scores: %s' % scores)\n",
    "print('CV accuracy: %.3f +/- %.3f' % (np.mean(scores), np.std(scores)))"
   ]
  },
  {
   "cell_type": "code",
   "execution_count": 62,
   "metadata": {
    "collapsed": true
   },
   "outputs": [],
   "source": [
    "import statsmodels.api as sm\n",
    "\n",
    "def stepwise_selection(X, y, \n",
    "                       initial_list=[], \n",
    "                       threshold_in=0.01, \n",
    "                       threshold_out = 0.05, \n",
    "                       verbose=True):\n",
    "    included = list(initial_list)\n",
    "    while True:\n",
    "        changed=False\n",
    "        # forward step\n",
    "        excluded = list(set(X.columns)-set(included))\n",
    "        new_pval = pd.Series(index=excluded)\n",
    "        for new_column in excluded:\n",
    "            model = sm.OLS(y, sm.add_constant(pd.DataFrame(X[included+[new_column]]))).fit()\n",
    "            new_pval[new_column] = model.pvalues[new_column]\n",
    "        best_pval = new_pval.min()\n",
    "        if best_pval < threshold_in:\n",
    "            best_feature = new_pval.argmin()\n",
    "            included.append(best_feature)\n",
    "            changed=True\n",
    "            if verbose:\n",
    "                print('Add  {:30} with p-value {:.6}'.format(best_feature, best_pval))\n",
    "\n",
    "        # backward step\n",
    "        model = sm.OLS(y, sm.add_constant(pd.DataFrame(X[included]))).fit()\n",
    "        # use all coefs except intercept\n",
    "        pvalues = model.pvalues.iloc[1:]\n",
    "        worst_pval = pvalues.max() # null if pvalues is empty\n",
    "        if worst_pval > threshold_out:\n",
    "            changed=True\n",
    "            worst_feature = pvalues.argmax()\n",
    "            included.remove(worst_feature)\n",
    "            if verbose:\n",
    "                print('Drop {:30} with p-value {:.6}'.format(worst_feature, worst_pval))\n",
    "        if not changed:\n",
    "            break\n",
    "    return included"
   ]
  },
  {
   "cell_type": "code",
   "execution_count": 63,
   "metadata": {
    "collapsed": false
   },
   "outputs": [
    {
     "name": "stdout",
     "output_type": "stream",
     "text": [
      "Add  기대지수-2                         with p-value 0.00119124\n",
      "Add  평점                             with p-value 0.00177555\n",
      "Add  id_length                      with p-value 0.00161589\n",
      "Add  개봉년도                           with p-value 0.00379809\n",
      "resulting features:\n",
      "['기대지수-2', '평점', 'id_length', '개봉년도']\n"
     ]
    }
   ],
   "source": [
    "result = stepwise_selection(train_X, train_Y)\n",
    "\n",
    "print('resulting features:')\n",
    "print(result)"
   ]
  },
  {
   "cell_type": "code",
   "execution_count": 64,
   "metadata": {
    "collapsed": false
   },
   "outputs": [
    {
     "data": {
      "text/plain": [
       "Index(['글쎄요', '보고싶어요', '참여인원', '평점', '런타임', '관심인원', '기대지수', 'id_length',\n",
       "       '등급_0', '등급_1', '등급_2', '개봉년도', '개봉월', '주연수', '조연수', '배우수', '보고싶어요-2',\n",
       "       '기대지수-2', 'id_length-2', 'SF', '가족', '공포', '느와르', '다큐멘터리', '드라마', '로맨스',\n",
       "       '멜로', '모험', '미스터리', '범죄', '서사', '서스펜스', '스릴러', '액션', '전쟁', '코미디',\n",
       "       '판타지'],\n",
       "      dtype='object')"
      ]
     },
     "execution_count": 64,
     "metadata": {},
     "output_type": "execute_result"
    }
   ],
   "source": [
    "score.columns"
   ]
  },
  {
   "cell_type": "code",
   "execution_count": 65,
   "metadata": {
    "collapsed": false
   },
   "outputs": [],
   "source": [
    "score_feature_select = score.drop([ '기대지수-2','평점', 'id_length', '개봉년도'], axis=1)"
   ]
  },
  {
   "cell_type": "code",
   "execution_count": 66,
   "metadata": {
    "collapsed": true
   },
   "outputs": [],
   "source": [
    "from sklearn.cross_validation import train_test_split\n",
    "\n",
    "train_X, test_X = train_test_split(score_feature_select, test_size = 0.3, random_state=1) # 독립변수만\n",
    "train_Y, test_Y = train_test_split(y, test_size = 0.3, random_state=1) # 종속변수만"
   ]
  },
  {
   "cell_type": "code",
   "execution_count": 68,
   "metadata": {
    "collapsed": false
   },
   "outputs": [
    {
     "name": "stdout",
     "output_type": "stream",
     "text": [
      "CV accuracy scores: [ 0.5         0.66666667  0.63636364  0.72727273  0.72727273  0.7         0.7       ]\n",
      "CV accuracy: 0.665 +/- 0.074\n"
     ]
    }
   ],
   "source": [
    "rf2 = RandomForestClassifier(criterion=\"entropy\", n_estimators = 100, n_jobs=2, random_state=0)\n",
    "scores = cross_val_score(estimator=rf2,X=train_X,y=train_Y,cv=7,n_jobs=1)\n",
    "print('CV accuracy scores: %s' % scores)\n",
    "print('CV accuracy: %.3f +/- %.3f' % (np.mean(scores), np.std(scores)))"
   ]
  },
  {
   "cell_type": "code",
   "execution_count": null,
   "metadata": {
    "collapsed": true
   },
   "outputs": [],
   "source": [
    "\n",
    "from sklearn.ensemble import RandomForestClassifier\n",
    "RandomForestClassifier(bootstrap=True, class_weight=None, criterion='gini',\n",
    "            max_depth=2, max_features='auto', max_leaf_nodes=None,\n",
    "            min_impurity_decrease=0.0, min_impurity_split=None,\n",
    "            min_samples_leaf=1, min_samples_split=2,\n",
    "            min_weight_fraction_leaf=0.0, n_estimators=10, n_jobs=1,\n",
    "            oob_score=False, random_state=0, verbose=0, warm_start=False)"
   ]
  }
 ],
 "metadata": {
  "anaconda-cloud": {},
  "kernelspec": {
   "display_name": "Python [default]",
   "language": "python",
   "name": "python3"
  },
  "language_info": {
   "codemirror_mode": {
    "name": "ipython",
    "version": 3
   },
   "file_extension": ".py",
   "mimetype": "text/x-python",
   "name": "python",
   "nbconvert_exporter": "python",
   "pygments_lexer": "ipython3",
   "version": "3.5.2"
  }
 },
 "nbformat": 4,
 "nbformat_minor": 1
}
